{
 "cells": [
  {
   "cell_type": "markdown",
   "metadata": {},
   "source": [
    "#                           Spacy"
   ]
  },
  {
   "cell_type": "code",
   "execution_count": 1,
   "metadata": {},
   "outputs": [],
   "source": [
    "from spacy.lang.fr import French"
   ]
  },
  {
   "cell_type": "code",
   "execution_count": 3,
   "metadata": {},
   "outputs": [],
   "source": [
    "nlp= French()#crée l'objet nlp contient le pipeline de traitement\n",
    "#inclut des règles spécifiques à la langue pour la tokenisation."
   ]
  },
  {
   "cell_type": "code",
   "execution_count": null,
   "metadata": {},
   "outputs": [],
   "source": [
    "\"ddddddddd'ffffffffff'\""
   ]
  },
  {
   "cell_type": "code",
   "execution_count": 9,
   "metadata": {},
   "outputs": [],
   "source": [
    "doc= nlp(\"<title>Les Surligneurs </title> <atom:link href=' https://lessurligneurs.eu/feed/' rel='self' type='application/rss+xml' /><link>https://lessurligneurs.eu</link<description>Le collectif &#34;Les Surligneurs&#34; réunit universitaires et étudiants en droit afin de surligner et expliquer les propos publics. Par leurs articles, vidéos et émissions radio Les Surligneurs veulent permettre à chacun de mieux exercer sa fonction de citoyen, en ramenant le droit dans le débat public.</description><lastBuildDate>Sun, 14 Feb 2021 09:48:34 +0000</lastBuildDate><language>fr-FR</language><sy:updatePeriod>hourly\t</sy:updatePeriod><sy:updateFrequency>1</sy:updateFrequency><generator>https://wordpress.org/?v=5.4.4</generator><site xmlns='com-wordpress:feed-additions:1'>173821533</site>\t<item>\")"
   ]
  },
  {
   "cell_type": "code",
   "execution_count": 12,
   "metadata": {},
   "outputs": [
    {
     "name": "stdout",
     "output_type": "stream",
     "text": [
      "<\n",
      "title\n",
      ">\n",
      "Les\n",
      "Surligneurs\n",
      "<\n",
      "/title\n",
      ">\n",
      "<\n",
      "atom\n",
      ":\n",
      "link\n",
      "href=\n",
      "'\n",
      "https://lessurligneurs.eu/feed/\n",
      "'\n",
      "rel='self\n",
      "'\n",
      "type='application\n",
      "/\n",
      "rss+xml\n",
      "'\n",
      "/><link\n",
      ">\n",
      "https://lessurligneurs.eu</link\n",
      "<\n",
      "description\n",
      ">\n",
      "Le\n",
      "collectif\n",
      "&\n",
      "#\n",
      "34;Les\n",
      "Surligneurs&#34\n",
      ";\n",
      "réunit\n",
      "universitaires\n",
      "et\n",
      "étudiants\n",
      "en\n",
      "droit\n",
      "afin\n",
      "de\n",
      "surligner\n",
      "et\n",
      "expliquer\n",
      "les\n",
      "propos\n",
      "publics\n",
      ".\n",
      "Par\n",
      "leurs\n",
      "articles\n",
      ",\n",
      "vidéos\n",
      "et\n",
      "émissions\n",
      "radio\n",
      "Les\n",
      "Surligneurs\n",
      "veulent\n",
      "permettre\n",
      "à\n",
      "chacun\n",
      "de\n",
      "mieux\n",
      "exercer\n",
      "sa\n",
      "fonction\n",
      "de\n",
      "citoyen\n",
      ",\n",
      "en\n",
      "ramenant\n",
      "le\n",
      "droit\n",
      "dans\n",
      "le\n",
      "débat\n",
      "public.</description><lastBuildDate\n",
      ">\n",
      "Sun\n",
      ",\n",
      "14\n",
      "Feb\n",
      "2021\n",
      "09:48:34\n",
      "+0000</lastBuildDate><language\n",
      ">\n",
      "fr\n",
      "-\n",
      "FR</language><sy\n",
      ":\n",
      "updatePeriod\n",
      ">\n",
      "hourly\n",
      "\t\n",
      "<\n",
      "/sy\n",
      ":\n",
      "updatePeriod><sy\n",
      ":\n",
      "updateFrequency>1</sy\n",
      ":\n",
      "updateFrequency><generator\n",
      ">\n",
      "https://wordpress.org/?v=5.4.4</generator><site\n",
      "xmlns='com\n",
      "-\n",
      "wordpress\n",
      ":\n",
      "feed\n",
      "-\n",
      "additions:1'>173821533</site\n",
      ">\n",
      "\t\n",
      "<\n",
      "item\n",
      ">\n"
     ]
    }
   ],
   "source": [
    "# Itère sur les tokens dans un Doc\n",
    "for token in doc:\n",
    "    print(token.text)"
   ]
  },
  {
   "cell_type": "markdown",
   "metadata": {},
   "source": [
    "### Span\n",
    "#Un objet Span est une portion du document composée d'un ou plusieurs tokens"
   ]
  },
  {
   "cell_type": "code",
   "execution_count": 11,
   "metadata": {},
   "outputs": [
    {
     "name": "stdout",
     "output_type": "stream",
     "text": [
      "Les Surligneurs\n"
     ]
    }
   ],
   "source": [
    "# Une portion du Doc est un objet Span\n",
    "span = doc[3:5]\n",
    "\n",
    "# Obtiens le texte du span avec l'attribut .text\n",
    "print(span.text)"
   ]
  },
  {
   "cell_type": "markdown",
   "metadata": {},
   "source": [
    "### Attributs lexicaux\n",
    "#is_alpha, is_punct et like_num retournent des valeurs booléennes indiquant si les tokens sont composés de caractères alphabétiques"
   ]
  },
  {
   "cell_type": "code",
   "execution_count": 13,
   "metadata": {},
   "outputs": [
    {
     "name": "stdout",
     "output_type": "stream",
     "text": [
      "Index :    [0, 1, 2, 3, 4, 5, 6, 7, 8, 9, 10, 11, 12, 13, 14, 15, 16, 17, 18, 19, 20, 21, 22, 23, 24, 25, 26, 27, 28, 29, 30, 31, 32, 33, 34, 35, 36, 37, 38, 39, 40, 41, 42, 43, 44, 45, 46, 47, 48, 49, 50, 51, 52, 53, 54, 55, 56, 57, 58, 59, 60, 61, 62, 63, 64, 65, 66, 67, 68, 69, 70, 71, 72, 73, 74, 75, 76, 77, 78, 79, 80, 81, 82, 83, 84, 85, 86, 87, 88, 89, 90, 91, 92, 93, 94, 95, 96, 97, 98, 99, 100, 101, 102, 103, 104, 105, 106, 107, 108, 109, 110, 111, 112, 113, 114, 115, 116, 117, 118]\n",
      "Text :     ['<', 'title', '>', 'Les', 'Surligneurs', '<', '/title', '>', '<', 'atom', ':', 'link', 'href=', \"'\", 'https://lessurligneurs.eu/feed/', \"'\", \"rel='self\", \"'\", \"type='application\", '/', 'rss+xml', \"'\", '/><link', '>', 'https://lessurligneurs.eu</link', '<', 'description', '>', 'Le', 'collectif', '&', '#', '34;Les', 'Surligneurs&#34', ';', 'réunit', 'universitaires', 'et', 'étudiants', 'en', 'droit', 'afin', 'de', 'surligner', 'et', 'expliquer', 'les', 'propos', 'publics', '.', 'Par', 'leurs', 'articles', ',', 'vidéos', 'et', 'émissions', 'radio', 'Les', 'Surligneurs', 'veulent', 'permettre', 'à', 'chacun', 'de', 'mieux', 'exercer', 'sa', 'fonction', 'de', 'citoyen', ',', 'en', 'ramenant', 'le', 'droit', 'dans', 'le', 'débat', 'public.</description><lastBuildDate', '>', 'Sun', ',', '14', 'Feb', '2021', '09:48:34', '+0000</lastBuildDate><language', '>', 'fr', '-', 'FR</language><sy', ':', 'updatePeriod', '>', 'hourly', '\\t', '<', '/sy', ':', 'updatePeriod><sy', ':', 'updateFrequency>1</sy', ':', 'updateFrequency><generator', '>', 'https://wordpress.org/?v=5.4.4</generator><site', \"xmlns='com\", '-', 'wordpress', ':', 'feed', '-', \"additions:1'>173821533</site\", '>', '\\t', '<', 'item', '>']\n",
      "is_alpha : [False, True, False, True, True, False, False, False, False, True, False, True, False, False, False, False, False, False, False, False, False, False, False, False, False, False, True, False, True, True, False, False, False, False, False, True, True, True, True, True, True, True, True, True, True, True, True, True, True, False, True, True, True, False, True, True, True, True, True, True, True, True, True, True, True, True, True, True, True, True, True, False, True, True, True, True, True, True, True, False, False, True, False, False, True, False, False, False, False, True, False, False, False, True, False, True, False, False, False, False, False, False, False, False, False, False, False, False, False, True, False, True, False, False, False, False, False, True, False]\n",
      "is_punct : [False, False, False, False, False, False, False, False, False, False, True, False, False, True, False, True, False, True, False, True, False, True, False, False, False, False, False, False, False, False, True, True, False, False, True, False, False, False, False, False, False, False, False, False, False, False, False, False, False, True, False, False, False, True, False, False, False, False, False, False, False, False, False, False, False, False, False, False, False, False, False, True, False, False, False, False, False, False, False, False, False, False, True, False, False, False, False, False, False, False, True, False, True, False, False, False, False, False, False, True, False, True, False, True, False, False, False, False, True, False, True, False, True, False, False, False, False, False, False]\n",
      "like_num : [False, False, False, False, False, False, False, False, False, False, False, False, False, False, False, False, False, False, False, False, False, False, False, False, False, False, False, False, False, False, False, False, False, False, False, False, False, False, False, False, False, False, False, False, False, False, False, False, False, False, False, False, False, False, False, False, False, False, False, False, False, False, False, False, False, False, False, False, False, False, False, False, False, False, False, False, False, False, False, False, False, False, False, True, False, True, False, False, False, False, False, False, False, False, False, False, False, False, False, False, False, False, False, False, False, False, False, False, False, False, False, False, False, False, False, False, False, False, False]\n"
     ]
    }
   ],
   "source": [
    "print(\"Index :   \", [token.i for token in doc])\n",
    "print(\"Text :    \", [token.text for token in doc])\n",
    "\n",
    "print(\"is_alpha :\", [token.is_alpha for token in doc])\n",
    "print(\"is_punct :\", [token.is_punct for token in doc])\n",
    "print(\"like_num :\", [token.like_num for token in doc])"
   ]
  },
  {
   "cell_type": "code",
   "execution_count": null,
   "metadata": {},
   "outputs": [],
   "source": []
  }
 ],
 "metadata": {
  "kernelspec": {
   "display_name": "Python 3",
   "language": "python",
   "name": "python3"
  },
  "language_info": {
   "codemirror_mode": {
    "name": "ipython",
    "version": 3
   },
   "file_extension": ".py",
   "mimetype": "text/x-python",
   "name": "python",
   "nbconvert_exporter": "python",
   "pygments_lexer": "ipython3",
   "version": "3.8.2"
  }
 },
 "nbformat": 4,
 "nbformat_minor": 4
}
