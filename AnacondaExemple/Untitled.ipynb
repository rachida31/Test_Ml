{
 "cells": [
  {
   "cell_type": "code",
   "execution_count": 17,
   "metadata": {},
   "outputs": [
    {
     "data": {
      "text/plain": [
       "['Defaults',\n",
       " '__annotations__',\n",
       " '__call__',\n",
       " '__class__',\n",
       " '__delattr__',\n",
       " '__dict__',\n",
       " '__dir__',\n",
       " '__doc__',\n",
       " '__eq__',\n",
       " '__format__',\n",
       " '__ge__',\n",
       " '__getattribute__',\n",
       " '__gt__',\n",
       " '__hash__',\n",
       " '__init__',\n",
       " '__init_subclass__',\n",
       " '__le__',\n",
       " '__lt__',\n",
       " '__module__',\n",
       " '__ne__',\n",
       " '__new__',\n",
       " '__reduce__',\n",
       " '__reduce_ex__',\n",
       " '__repr__',\n",
       " '__setattr__',\n",
       " '__sizeof__',\n",
       " '__str__',\n",
       " '__subclasshook__',\n",
       " '__weakref__',\n",
       " '_components',\n",
       " '_config',\n",
       " '_disabled',\n",
       " '_factory_meta',\n",
       " '_get_pipe_index',\n",
       " '_link_components',\n",
       " '_meta',\n",
       " '_multiprocessing_pipe',\n",
       " '_optimizer',\n",
       " '_path',\n",
       " '_pipe_configs',\n",
       " '_pipe_meta',\n",
       " 'add_pipe',\n",
       " 'analyze_pipes',\n",
       " 'batch_size',\n",
       " 'begin_training',\n",
       " 'component',\n",
       " 'component_names',\n",
       " 'components',\n",
       " 'config',\n",
       " 'create_optimizer',\n",
       " 'create_pipe',\n",
       " 'create_pipe_from_source',\n",
       " 'default_config',\n",
       " 'default_error_handler',\n",
       " 'disable_pipe',\n",
       " 'disable_pipes',\n",
       " 'disabled',\n",
       " 'enable_pipe',\n",
       " 'evaluate',\n",
       " 'factories',\n",
       " 'factory',\n",
       " 'factory_names',\n",
       " 'from_bytes',\n",
       " 'from_config',\n",
       " 'from_disk',\n",
       " 'get_factory_meta',\n",
       " 'get_factory_name',\n",
       " 'get_pipe',\n",
       " 'get_pipe_config',\n",
       " 'get_pipe_meta',\n",
       " 'has_factory',\n",
       " 'has_pipe',\n",
       " 'initialize',\n",
       " 'lang',\n",
       " 'make_doc',\n",
       " 'max_length',\n",
       " 'meta',\n",
       " 'path',\n",
       " 'pipe',\n",
       " 'pipe_factories',\n",
       " 'pipe_labels',\n",
       " 'pipe_names',\n",
       " 'pipeline',\n",
       " 'rehearse',\n",
       " 'remove_pipe',\n",
       " 'rename_pipe',\n",
       " 'replace_listeners',\n",
       " 'replace_pipe',\n",
       " 'resume_training',\n",
       " 'select_pipes',\n",
       " 'set_error_handler',\n",
       " 'set_factory_meta',\n",
       " 'to_bytes',\n",
       " 'to_disk',\n",
       " 'tokenizer',\n",
       " 'update',\n",
       " 'use_params',\n",
       " 'vocab']"
      ]
     },
     "execution_count": 17,
     "metadata": {},
     "output_type": "execute_result"
    }
   ],
   "source": [
    "import spacy\n",
    "nlp = spacy.load(\"fr_core_news_sm\")\n",
    "dir(nlp)"
   ]
  },
  {
   "cell_type": "code",
   "execution_count": 97,
   "metadata": {},
   "outputs": [],
   "source": [
    "url = \"https://lessurligneurs.eu/feed/\"\n",
    "import feedparser\n",
    "f = feedparser.parse(url)\n",
    "ex1 =f.entries[0]['title']"
   ]
  },
  {
   "cell_type": "code",
   "execution_count": 98,
   "metadata": {},
   "outputs": [
    {
     "data": {
      "text/plain": [
       "Gérald Darmanin : “aujourd’hui nous ne pouvons pas fermer des lieux de culte où des discours de haine sont portés”"
      ]
     },
     "execution_count": 98,
     "metadata": {},
     "output_type": "execute_result"
    }
   ],
   "source": [
    "test = nlp(ex1)\n",
    "test"
   ]
  },
  {
   "cell_type": "code",
   "execution_count": 99,
   "metadata": {},
   "outputs": [
    {
     "data": {
      "text/plain": [
       "' SFR a eu une coupure de réseau à Paris '"
      ]
     },
     "execution_count": 99,
     "metadata": {},
     "output_type": "execute_result"
    }
   ],
   "source": [
    "test1 = \" SFR a eu une coupure de réseau à Paris \"\n",
    "test1"
   ]
  },
  {
   "cell_type": "code",
   "execution_count": 100,
   "metadata": {},
   "outputs": [],
   "source": [
    "#Tokenisation\n"
   ]
  },
  {
   "cell_type": "code",
   "execution_count": 101,
   "metadata": {},
   "outputs": [],
   "source": [
    "def return_token(sentence):\n",
    "    for token in sentence:\n",
    "        if token.is_stop != True:\n",
    "            print(token.text)"
   ]
  },
  {
   "cell_type": "code",
   "execution_count": 102,
   "metadata": {},
   "outputs": [
    {
     "name": "stdout",
     "output_type": "stream",
     "text": [
      "Gérald\n",
      "Darmanin\n",
      ":\n",
      "“\n",
      "aujourd’hui\n",
      "pouvons\n",
      "fermer\n",
      "lieux\n",
      "culte\n",
      "discours\n",
      "haine\n",
      "portés\n",
      "”\n"
     ]
    }
   ],
   "source": [
    "return_token(test)"
   ]
  },
  {
   "cell_type": "code",
   "execution_count": 103,
   "metadata": {},
   "outputs": [],
   "source": [
    "def return_token1(sentence):\n",
    "    # Tokeniser la phrase\n",
    "    doc = nlp(sentence)\n",
    "    # Retourner le texte de chaque token\n",
    "    return [X.text for X in doc]"
   ]
  },
  {
   "cell_type": "code",
   "execution_count": 104,
   "metadata": {},
   "outputs": [
    {
     "data": {
      "text/plain": [
       "[' ', 'SFR', 'a', 'eu', 'une', 'coupure', 'de', 'réseau', 'à', 'Paris']"
      ]
     },
     "execution_count": 104,
     "metadata": {},
     "output_type": "execute_result"
    }
   ],
   "source": [
    "return_token1(test1)"
   ]
  },
  {
   "cell_type": "code",
   "execution_count": 105,
   "metadata": {},
   "outputs": [],
   "source": [
    "#Enlever les mots les plus fréquents \n",
    "from nltk.corpus import stopwords\n",
    "stopWords = set(stopwords.words('french'))"
   ]
  },
  {
   "cell_type": "code",
   "execution_count": 106,
   "metadata": {},
   "outputs": [
    {
     "data": {
      "text/plain": [
       "{'ai',\n",
       " 'aie',\n",
       " 'aient',\n",
       " 'aies',\n",
       " 'ait',\n",
       " 'as',\n",
       " 'au',\n",
       " 'aura',\n",
       " 'aurai',\n",
       " 'auraient',\n",
       " 'aurais',\n",
       " 'aurait',\n",
       " 'auras',\n",
       " 'aurez',\n",
       " 'auriez',\n",
       " 'aurions',\n",
       " 'aurons',\n",
       " 'auront',\n",
       " 'aux',\n",
       " 'avaient',\n",
       " 'avais',\n",
       " 'avait',\n",
       " 'avec',\n",
       " 'avez',\n",
       " 'aviez',\n",
       " 'avions',\n",
       " 'avons',\n",
       " 'ayant',\n",
       " 'ayante',\n",
       " 'ayantes',\n",
       " 'ayants',\n",
       " 'ayez',\n",
       " 'ayons',\n",
       " 'c',\n",
       " 'ce',\n",
       " 'ces',\n",
       " 'd',\n",
       " 'dans',\n",
       " 'de',\n",
       " 'des',\n",
       " 'du',\n",
       " 'elle',\n",
       " 'en',\n",
       " 'es',\n",
       " 'est',\n",
       " 'et',\n",
       " 'eu',\n",
       " 'eue',\n",
       " 'eues',\n",
       " 'eurent',\n",
       " 'eus',\n",
       " 'eusse',\n",
       " 'eussent',\n",
       " 'eusses',\n",
       " 'eussiez',\n",
       " 'eussions',\n",
       " 'eut',\n",
       " 'eux',\n",
       " 'eûmes',\n",
       " 'eût',\n",
       " 'eûtes',\n",
       " 'furent',\n",
       " 'fus',\n",
       " 'fusse',\n",
       " 'fussent',\n",
       " 'fusses',\n",
       " 'fussiez',\n",
       " 'fussions',\n",
       " 'fut',\n",
       " 'fûmes',\n",
       " 'fût',\n",
       " 'fûtes',\n",
       " 'il',\n",
       " 'ils',\n",
       " 'j',\n",
       " 'je',\n",
       " 'l',\n",
       " 'la',\n",
       " 'le',\n",
       " 'les',\n",
       " 'leur',\n",
       " 'lui',\n",
       " 'm',\n",
       " 'ma',\n",
       " 'mais',\n",
       " 'me',\n",
       " 'mes',\n",
       " 'moi',\n",
       " 'mon',\n",
       " 'même',\n",
       " 'n',\n",
       " 'ne',\n",
       " 'nos',\n",
       " 'notre',\n",
       " 'nous',\n",
       " 'on',\n",
       " 'ont',\n",
       " 'ou',\n",
       " 'par',\n",
       " 'pas',\n",
       " 'pour',\n",
       " 'qu',\n",
       " 'que',\n",
       " 'qui',\n",
       " 's',\n",
       " 'sa',\n",
       " 'se',\n",
       " 'sera',\n",
       " 'serai',\n",
       " 'seraient',\n",
       " 'serais',\n",
       " 'serait',\n",
       " 'seras',\n",
       " 'serez',\n",
       " 'seriez',\n",
       " 'serions',\n",
       " 'serons',\n",
       " 'seront',\n",
       " 'ses',\n",
       " 'soient',\n",
       " 'sois',\n",
       " 'soit',\n",
       " 'sommes',\n",
       " 'son',\n",
       " 'sont',\n",
       " 'soyez',\n",
       " 'soyons',\n",
       " 'suis',\n",
       " 'sur',\n",
       " 't',\n",
       " 'ta',\n",
       " 'te',\n",
       " 'tes',\n",
       " 'toi',\n",
       " 'ton',\n",
       " 'tu',\n",
       " 'un',\n",
       " 'une',\n",
       " 'vos',\n",
       " 'votre',\n",
       " 'vous',\n",
       " 'y',\n",
       " 'à',\n",
       " 'étaient',\n",
       " 'étais',\n",
       " 'était',\n",
       " 'étant',\n",
       " 'étante',\n",
       " 'étantes',\n",
       " 'étants',\n",
       " 'étiez',\n",
       " 'étions',\n",
       " 'été',\n",
       " 'étée',\n",
       " 'étées',\n",
       " 'étés',\n",
       " 'êtes'}"
      ]
     },
     "execution_count": 106,
     "metadata": {},
     "output_type": "execute_result"
    }
   ],
   "source": [
    "stopWords"
   ]
  },
  {
   "cell_type": "code",
   "execution_count": 109,
   "metadata": {},
   "outputs": [
    {
     "name": "stdout",
     "output_type": "stream",
     "text": [
      "Gérald\n",
      "Darmanin\n",
      ":\n",
      "“\n",
      "aujourd’hui\n",
      "pouvons\n",
      "fermer\n",
      "lieux\n",
      "culte\n",
      "discours\n",
      "haine\n",
      "portés\n",
      "”\n"
     ]
    },
    {
     "ename": "TypeError",
     "evalue": "'NoneType' object is not iterable",
     "output_type": "error",
     "traceback": [
      "\u001b[1;31m---------------------------------------------------------------------------\u001b[0m",
      "\u001b[1;31mTypeError\u001b[0m                                 Traceback (most recent call last)",
      "\u001b[1;32m<ipython-input-109-fc59c0422f81>\u001b[0m in \u001b[0;36m<module>\u001b[1;34m\u001b[0m\n\u001b[0;32m      1\u001b[0m \u001b[0mclean_words\u001b[0m \u001b[1;33m=\u001b[0m \u001b[1;33m[\u001b[0m\u001b[1;33m]\u001b[0m\u001b[1;33m\u001b[0m\u001b[1;33m\u001b[0m\u001b[0m\n\u001b[1;32m----> 2\u001b[1;33m \u001b[1;32mfor\u001b[0m \u001b[0mtoken\u001b[0m \u001b[1;32min\u001b[0m \u001b[0mreturn_token\u001b[0m\u001b[1;33m(\u001b[0m\u001b[0mtest\u001b[0m\u001b[1;33m)\u001b[0m\u001b[1;33m:\u001b[0m\u001b[1;33m\u001b[0m\u001b[1;33m\u001b[0m\u001b[0m\n\u001b[0m\u001b[0;32m      3\u001b[0m     \u001b[1;32mif\u001b[0m \u001b[0mtoken\u001b[0m \u001b[1;32mnot\u001b[0m \u001b[1;32min\u001b[0m \u001b[0mstopWords\u001b[0m\u001b[1;33m:\u001b[0m\u001b[1;33m\u001b[0m\u001b[1;33m\u001b[0m\u001b[0m\n\u001b[0;32m      4\u001b[0m         \u001b[0mclean_words\u001b[0m\u001b[1;33m.\u001b[0m\u001b[0mappend\u001b[0m\u001b[1;33m(\u001b[0m\u001b[0mtoken\u001b[0m\u001b[1;33m)\u001b[0m\u001b[1;33m\u001b[0m\u001b[1;33m\u001b[0m\u001b[0m\n\u001b[0;32m      5\u001b[0m \u001b[1;33m\u001b[0m\u001b[0m\n",
      "\u001b[1;31mTypeError\u001b[0m: 'NoneType' object is not iterable"
     ]
    }
   ],
   "source": [
    "clean_words = []\n",
    "for token in return_token(test):\n",
    "    if token not in stopWords:\n",
    "        clean_words.append(token)\n",
    "\n",
    "clean_words"
   ]
  },
  {
   "cell_type": "code",
   "execution_count": 125,
   "metadata": {},
   "outputs": [],
   "source": [
    "#Tokenisation par phrases\n",
    "\n",
    "def return_token_sent(sentence):\n",
    "    # Tokeniser la phrase\n",
    "    doc = nlp(sentence)\n",
    "    # Retourner le texte de chaque phrase\n",
    "    return [X.text for X in doc.sents]"
   ]
  },
  {
   "cell_type": "code",
   "execution_count": 132,
   "metadata": {},
   "outputs": [
    {
     "data": {
      "text/plain": [
       "['SFR a eu une coupure de réseau à Paris.',\n",
       " 'La panne a affecté 300.000 utilisateurs.']"
      ]
     },
     "execution_count": 132,
     "metadata": {},
     "output_type": "execute_result"
    }
   ],
   "source": [
    "#return_token_sent(test1)\n",
    "return_token_sent(\"SFR a eu une coupure de réseau à Paris. La panne a affecté 300.000 utilisateurs.\")"
   ]
  },
  {
   "cell_type": "code",
   "execution_count": 133,
   "metadata": {},
   "outputs": [],
   "source": [
    "def return_token_sent1(sentence):\n",
    "    doc = test\n",
    "    # Retourner le texte de chaque phrase\n",
    "    return [X.text for X in doc.sents]"
   ]
  },
  {
   "cell_type": "code",
   "execution_count": 134,
   "metadata": {},
   "outputs": [
    {
     "data": {
      "text/plain": [
       "['Gérald Darmanin : “aujourd’hui nous ne pouvons pas fermer des lieux de culte où des discours de haine sont portés',\n",
       " '”']"
      ]
     },
     "execution_count": 134,
     "metadata": {},
     "output_type": "execute_result"
    }
   ],
   "source": [
    "return_token_sent1(test)"
   ]
  },
  {
   "cell_type": "code",
   "execution_count": null,
   "metadata": {},
   "outputs": [],
   "source": []
  },
  {
   "cell_type": "code",
   "execution_count": 142,
   "metadata": {},
   "outputs": [],
   "source": [
    "#Stemming \n",
    "from nltk.stem.snowball import SnowballStemmer\n",
    "stemmer = SnowballStemmer(language='french')\n",
    "\n",
    "def return_stem(sentence):\n",
    "    doc =  nlp(sentence) #test \n",
    "    return [stemmer.stem(X.text) for X in doc]"
   ]
  },
  {
   "cell_type": "code",
   "execution_count": 144,
   "metadata": {},
   "outputs": [
    {
     "data": {
      "text/plain": [
       "[' ', 'sfr', 'a', 'eu', 'une', 'coupur', 'de', 'réseau', 'à', 'paris']"
      ]
     },
     "execution_count": 144,
     "metadata": {},
     "output_type": "execute_result"
    }
   ],
   "source": [
    "return_stem(test1)\n",
    "#return_stem(test)\n"
   ]
  },
  {
   "cell_type": "code",
   "execution_count": 150,
   "metadata": {},
   "outputs": [],
   "source": [
    "#Reconnaissance d’entités nommées (NER)\n",
    "def return_NER(sentence):\n",
    "    # Tokeniser la phrase\n",
    "    doc = nlp(sentence) #test \n",
    "    # Retourner le texte et le label pour chaque entité\n",
    "    return [(X.text, X.label_) for X in doc.ents]"
   ]
  },
  {
   "cell_type": "code",
   "execution_count": 151,
   "metadata": {},
   "outputs": [
    {
     "data": {
      "text/plain": [
       "[('SFR', 'ORG'), ('Paris', 'LOC')]"
      ]
     },
     "execution_count": 151,
     "metadata": {},
     "output_type": "execute_result"
    }
   ],
   "source": [
    "return_NER(test1)\n",
    "#return_NER(test)"
   ]
  },
  {
   "cell_type": "code",
   "execution_count": 153,
   "metadata": {},
   "outputs": [
    {
     "data": {
      "text/html": [
       "<span class=\"tex2jax_ignore\"><div class=\"entities\" style=\"line-height: 2.5; direction: ltr\"> \n",
       "<mark class=\"entity\" style=\"background: #7aecec; padding: 0.45em 0.6em; margin: 0 0.25em; line-height: 1; border-radius: 0.35em;\">\n",
       "    SFR\n",
       "    <span style=\"font-size: 0.8em; font-weight: bold; line-height: 1; border-radius: 0.35em; vertical-align: middle; margin-left: 0.5rem\">ORG</span>\n",
       "</mark>\n",
       " a eu une coupure de réseau à \n",
       "<mark class=\"entity\" style=\"background: #ff9561; padding: 0.45em 0.6em; margin: 0 0.25em; line-height: 1; border-radius: 0.35em;\">\n",
       "    Paris\n",
       "    <span style=\"font-size: 0.8em; font-weight: bold; line-height: 1; border-radius: 0.35em; vertical-align: middle; margin-left: 0.5rem\">LOC</span>\n",
       "</mark>\n",
       " </div></span>"
      ],
      "text/plain": [
       "<IPython.core.display.HTML object>"
      ]
     },
     "metadata": {},
     "output_type": "display_data"
    }
   ],
   "source": [
    "##Visualisation\n",
    "from spacy import displacy\n",
    "\n",
    "doc = nlp(test1)#test\n",
    "displacy.render(doc, style=\"ent\", jupyter=True)"
   ]
  },
  {
   "cell_type": "code",
   "execution_count": 154,
   "metadata": {},
   "outputs": [
    {
     "data": {
      "text/html": [
       "<span class=\"tex2jax_ignore\"><div class=\"entities\" style=\"line-height: 2.5; direction: ltr\"> \n",
       "<mark class=\"entity\" style=\"background: linear-gradient(90deg, #aa9cfc, #fc9ce7); padding: 0.45em 0.6em; margin: 0 0.25em; line-height: 1; border-radius: 0.35em;\">\n",
       "    SFR\n",
       "    <span style=\"font-size: 0.8em; font-weight: bold; line-height: 1; border-radius: 0.35em; vertical-align: middle; margin-left: 0.5rem\">ORG</span>\n",
       "</mark>\n",
       " a eu une coupure de réseau à Paris </div></span>"
      ],
      "text/plain": [
       "<IPython.core.display.HTML object>"
      ]
     },
     "metadata": {},
     "output_type": "display_data"
    }
   ],
   "source": [
    "doc = nlp(test1)\n",
    "colors = {\"ORG\": \"linear-gradient(90deg, #aa9cfc, #fc9ce7)\"}\n",
    "options = {\"ents\": [\"ORG\"], \"colors\": colors}\n",
    "\n",
    "displacy.render(doc, style=\"ent\", jupyter=True, options=options)"
   ]
  },
  {
   "cell_type": "code",
   "execution_count": 159,
   "metadata": {},
   "outputs": [],
   "source": [
    "#L’étiquetage morphosyntaxique \n",
    "def return_POS(sentence):\n",
    "    # Tokeniser la phrase\n",
    "    doc =  nlp(sentence) #test\n",
    "    # Retourner les étiquettes de chaque token\n",
    "    return [(X, X.pos_) for X in doc]"
   ]
  },
  {
   "cell_type": "code",
   "execution_count": 160,
   "metadata": {},
   "outputs": [
    {
     "data": {
      "text/plain": [
       "[( , 'SPACE'),\n",
       " (SFR, 'PROPN'),\n",
       " (a, 'AUX'),\n",
       " (eu, 'VERB'),\n",
       " (une, 'DET'),\n",
       " (coupure, 'NOUN'),\n",
       " (de, 'ADP'),\n",
       " (réseau, 'NOUN'),\n",
       " (à, 'ADP'),\n",
       " (Paris, 'PROPN')]"
      ]
     },
     "execution_count": 160,
     "metadata": {},
     "output_type": "execute_result"
    }
   ],
   "source": [
    "return_POS(test1)\n",
    "#return_POS(test1)"
   ]
  },
  {
   "cell_type": "code",
   "execution_count": 164,
   "metadata": {},
   "outputs": [
    {
     "data": {
      "text/html": [
       "<span class=\"tex2jax_ignore\"><!DOCTYPE html>\n",
       "<html lang=\"fr\">\n",
       "    <head>\n",
       "        <title>displaCy</title>\n",
       "    </head>\n",
       "\n",
       "    <body style=\"font-size: 16px; font-family: -apple-system, BlinkMacSystemFont, 'Segoe UI', Helvetica, Arial, sans-serif, 'Apple Color Emoji', 'Segoe UI Emoji', 'Segoe UI Symbol'; padding: 4rem 2rem; direction: ltr\">\n",
       "<figure style=\"margin-bottom: 6rem\">\n",
       "<svg xmlns=\"http://www.w3.org/2000/svg\" xmlns:xlink=\"http://www.w3.org/1999/xlink\" xml:lang=\"fr\" id=\"4c8b3daa1f024851a0a21e045f51ae3f-0\" class=\"displacy\" width=\"1800\" height=\"312.0\" direction=\"ltr\" style=\"max-width: none; height: 312.0px; color: #000000; background: #ffffff; font-family: Arial; direction: ltr\">\n",
       "<text class=\"displacy-token\" fill=\"currentColor\" text-anchor=\"middle\" y=\"222.0\">\n",
       "    <tspan class=\"displacy-word\" fill=\"currentColor\" x=\"50\"> </tspan>\n",
       "    <tspan class=\"displacy-tag\" dy=\"2em\" fill=\"currentColor\" x=\"50\">SPACE</tspan>\n",
       "</text>\n",
       "\n",
       "<text class=\"displacy-token\" fill=\"currentColor\" text-anchor=\"middle\" y=\"222.0\">\n",
       "    <tspan class=\"displacy-word\" fill=\"currentColor\" x=\"225\">SFR</tspan>\n",
       "    <tspan class=\"displacy-tag\" dy=\"2em\" fill=\"currentColor\" x=\"225\">PROPN</tspan>\n",
       "</text>\n",
       "\n",
       "<text class=\"displacy-token\" fill=\"currentColor\" text-anchor=\"middle\" y=\"222.0\">\n",
       "    <tspan class=\"displacy-word\" fill=\"currentColor\" x=\"400\">a</tspan>\n",
       "    <tspan class=\"displacy-tag\" dy=\"2em\" fill=\"currentColor\" x=\"400\">AUX</tspan>\n",
       "</text>\n",
       "\n",
       "<text class=\"displacy-token\" fill=\"currentColor\" text-anchor=\"middle\" y=\"222.0\">\n",
       "    <tspan class=\"displacy-word\" fill=\"currentColor\" x=\"575\">eu</tspan>\n",
       "    <tspan class=\"displacy-tag\" dy=\"2em\" fill=\"currentColor\" x=\"575\">VERB</tspan>\n",
       "</text>\n",
       "\n",
       "<text class=\"displacy-token\" fill=\"currentColor\" text-anchor=\"middle\" y=\"222.0\">\n",
       "    <tspan class=\"displacy-word\" fill=\"currentColor\" x=\"750\">une</tspan>\n",
       "    <tspan class=\"displacy-tag\" dy=\"2em\" fill=\"currentColor\" x=\"750\">DET</tspan>\n",
       "</text>\n",
       "\n",
       "<text class=\"displacy-token\" fill=\"currentColor\" text-anchor=\"middle\" y=\"222.0\">\n",
       "    <tspan class=\"displacy-word\" fill=\"currentColor\" x=\"925\">coupure</tspan>\n",
       "    <tspan class=\"displacy-tag\" dy=\"2em\" fill=\"currentColor\" x=\"925\">NOUN</tspan>\n",
       "</text>\n",
       "\n",
       "<text class=\"displacy-token\" fill=\"currentColor\" text-anchor=\"middle\" y=\"222.0\">\n",
       "    <tspan class=\"displacy-word\" fill=\"currentColor\" x=\"1100\">de</tspan>\n",
       "    <tspan class=\"displacy-tag\" dy=\"2em\" fill=\"currentColor\" x=\"1100\">ADP</tspan>\n",
       "</text>\n",
       "\n",
       "<text class=\"displacy-token\" fill=\"currentColor\" text-anchor=\"middle\" y=\"222.0\">\n",
       "    <tspan class=\"displacy-word\" fill=\"currentColor\" x=\"1275\">réseau</tspan>\n",
       "    <tspan class=\"displacy-tag\" dy=\"2em\" fill=\"currentColor\" x=\"1275\">NOUN</tspan>\n",
       "</text>\n",
       "\n",
       "<text class=\"displacy-token\" fill=\"currentColor\" text-anchor=\"middle\" y=\"222.0\">\n",
       "    <tspan class=\"displacy-word\" fill=\"currentColor\" x=\"1450\">à</tspan>\n",
       "    <tspan class=\"displacy-tag\" dy=\"2em\" fill=\"currentColor\" x=\"1450\">ADP</tspan>\n",
       "</text>\n",
       "\n",
       "<text class=\"displacy-token\" fill=\"currentColor\" text-anchor=\"middle\" y=\"222.0\">\n",
       "    <tspan class=\"displacy-word\" fill=\"currentColor\" x=\"1625\">Paris</tspan>\n",
       "    <tspan class=\"displacy-tag\" dy=\"2em\" fill=\"currentColor\" x=\"1625\">PROPN</tspan>\n",
       "</text>\n",
       "\n",
       "<g class=\"displacy-arrow\">\n",
       "    <path class=\"displacy-arc\" id=\"arrow-4c8b3daa1f024851a0a21e045f51ae3f-0-0\" stroke-width=\"2px\" d=\"M70,177.0 C70,89.5 220.0,89.5 220.0,177.0\" fill=\"none\" stroke=\"currentColor\"/>\n",
       "    <text dy=\"1.25em\" style=\"font-size: 0.8em; letter-spacing: 1px\">\n",
       "        <textPath xlink:href=\"#arrow-4c8b3daa1f024851a0a21e045f51ae3f-0-0\" class=\"displacy-label\" startOffset=\"50%\" side=\"left\" fill=\"currentColor\" text-anchor=\"middle\">nummod</textPath>\n",
       "    </text>\n",
       "    <path class=\"displacy-arrowhead\" d=\"M70,179.0 L62,167.0 78,167.0\" fill=\"currentColor\"/>\n",
       "</g>\n",
       "\n",
       "<g class=\"displacy-arrow\">\n",
       "    <path class=\"displacy-arc\" id=\"arrow-4c8b3daa1f024851a0a21e045f51ae3f-0-1\" stroke-width=\"2px\" d=\"M245,177.0 C245,2.0 575.0,2.0 575.0,177.0\" fill=\"none\" stroke=\"currentColor\"/>\n",
       "    <text dy=\"1.25em\" style=\"font-size: 0.8em; letter-spacing: 1px\">\n",
       "        <textPath xlink:href=\"#arrow-4c8b3daa1f024851a0a21e045f51ae3f-0-1\" class=\"displacy-label\" startOffset=\"50%\" side=\"left\" fill=\"currentColor\" text-anchor=\"middle\">nsubj</textPath>\n",
       "    </text>\n",
       "    <path class=\"displacy-arrowhead\" d=\"M245,179.0 L237,167.0 253,167.0\" fill=\"currentColor\"/>\n",
       "</g>\n",
       "\n",
       "<g class=\"displacy-arrow\">\n",
       "    <path class=\"displacy-arc\" id=\"arrow-4c8b3daa1f024851a0a21e045f51ae3f-0-2\" stroke-width=\"2px\" d=\"M420,177.0 C420,89.5 570.0,89.5 570.0,177.0\" fill=\"none\" stroke=\"currentColor\"/>\n",
       "    <text dy=\"1.25em\" style=\"font-size: 0.8em; letter-spacing: 1px\">\n",
       "        <textPath xlink:href=\"#arrow-4c8b3daa1f024851a0a21e045f51ae3f-0-2\" class=\"displacy-label\" startOffset=\"50%\" side=\"left\" fill=\"currentColor\" text-anchor=\"middle\">aux:tense</textPath>\n",
       "    </text>\n",
       "    <path class=\"displacy-arrowhead\" d=\"M420,179.0 L412,167.0 428,167.0\" fill=\"currentColor\"/>\n",
       "</g>\n",
       "\n",
       "<g class=\"displacy-arrow\">\n",
       "    <path class=\"displacy-arc\" id=\"arrow-4c8b3daa1f024851a0a21e045f51ae3f-0-3\" stroke-width=\"2px\" d=\"M770,177.0 C770,89.5 920.0,89.5 920.0,177.0\" fill=\"none\" stroke=\"currentColor\"/>\n",
       "    <text dy=\"1.25em\" style=\"font-size: 0.8em; letter-spacing: 1px\">\n",
       "        <textPath xlink:href=\"#arrow-4c8b3daa1f024851a0a21e045f51ae3f-0-3\" class=\"displacy-label\" startOffset=\"50%\" side=\"left\" fill=\"currentColor\" text-anchor=\"middle\">det</textPath>\n",
       "    </text>\n",
       "    <path class=\"displacy-arrowhead\" d=\"M770,179.0 L762,167.0 778,167.0\" fill=\"currentColor\"/>\n",
       "</g>\n",
       "\n",
       "<g class=\"displacy-arrow\">\n",
       "    <path class=\"displacy-arc\" id=\"arrow-4c8b3daa1f024851a0a21e045f51ae3f-0-4\" stroke-width=\"2px\" d=\"M595,177.0 C595,2.0 925.0,2.0 925.0,177.0\" fill=\"none\" stroke=\"currentColor\"/>\n",
       "    <text dy=\"1.25em\" style=\"font-size: 0.8em; letter-spacing: 1px\">\n",
       "        <textPath xlink:href=\"#arrow-4c8b3daa1f024851a0a21e045f51ae3f-0-4\" class=\"displacy-label\" startOffset=\"50%\" side=\"left\" fill=\"currentColor\" text-anchor=\"middle\">obj</textPath>\n",
       "    </text>\n",
       "    <path class=\"displacy-arrowhead\" d=\"M925.0,179.0 L933.0,167.0 917.0,167.0\" fill=\"currentColor\"/>\n",
       "</g>\n",
       "\n",
       "<g class=\"displacy-arrow\">\n",
       "    <path class=\"displacy-arc\" id=\"arrow-4c8b3daa1f024851a0a21e045f51ae3f-0-5\" stroke-width=\"2px\" d=\"M1120,177.0 C1120,89.5 1270.0,89.5 1270.0,177.0\" fill=\"none\" stroke=\"currentColor\"/>\n",
       "    <text dy=\"1.25em\" style=\"font-size: 0.8em; letter-spacing: 1px\">\n",
       "        <textPath xlink:href=\"#arrow-4c8b3daa1f024851a0a21e045f51ae3f-0-5\" class=\"displacy-label\" startOffset=\"50%\" side=\"left\" fill=\"currentColor\" text-anchor=\"middle\">case</textPath>\n",
       "    </text>\n",
       "    <path class=\"displacy-arrowhead\" d=\"M1120,179.0 L1112,167.0 1128,167.0\" fill=\"currentColor\"/>\n",
       "</g>\n",
       "\n",
       "<g class=\"displacy-arrow\">\n",
       "    <path class=\"displacy-arc\" id=\"arrow-4c8b3daa1f024851a0a21e045f51ae3f-0-6\" stroke-width=\"2px\" d=\"M945,177.0 C945,2.0 1275.0,2.0 1275.0,177.0\" fill=\"none\" stroke=\"currentColor\"/>\n",
       "    <text dy=\"1.25em\" style=\"font-size: 0.8em; letter-spacing: 1px\">\n",
       "        <textPath xlink:href=\"#arrow-4c8b3daa1f024851a0a21e045f51ae3f-0-6\" class=\"displacy-label\" startOffset=\"50%\" side=\"left\" fill=\"currentColor\" text-anchor=\"middle\">nmod</textPath>\n",
       "    </text>\n",
       "    <path class=\"displacy-arrowhead\" d=\"M1275.0,179.0 L1283.0,167.0 1267.0,167.0\" fill=\"currentColor\"/>\n",
       "</g>\n",
       "\n",
       "<g class=\"displacy-arrow\">\n",
       "    <path class=\"displacy-arc\" id=\"arrow-4c8b3daa1f024851a0a21e045f51ae3f-0-7\" stroke-width=\"2px\" d=\"M1470,177.0 C1470,89.5 1620.0,89.5 1620.0,177.0\" fill=\"none\" stroke=\"currentColor\"/>\n",
       "    <text dy=\"1.25em\" style=\"font-size: 0.8em; letter-spacing: 1px\">\n",
       "        <textPath xlink:href=\"#arrow-4c8b3daa1f024851a0a21e045f51ae3f-0-7\" class=\"displacy-label\" startOffset=\"50%\" side=\"left\" fill=\"currentColor\" text-anchor=\"middle\">case</textPath>\n",
       "    </text>\n",
       "    <path class=\"displacy-arrowhead\" d=\"M1470,179.0 L1462,167.0 1478,167.0\" fill=\"currentColor\"/>\n",
       "</g>\n",
       "\n",
       "<g class=\"displacy-arrow\">\n",
       "    <path class=\"displacy-arc\" id=\"arrow-4c8b3daa1f024851a0a21e045f51ae3f-0-8\" stroke-width=\"2px\" d=\"M1295,177.0 C1295,2.0 1625.0,2.0 1625.0,177.0\" fill=\"none\" stroke=\"currentColor\"/>\n",
       "    <text dy=\"1.25em\" style=\"font-size: 0.8em; letter-spacing: 1px\">\n",
       "        <textPath xlink:href=\"#arrow-4c8b3daa1f024851a0a21e045f51ae3f-0-8\" class=\"displacy-label\" startOffset=\"50%\" side=\"left\" fill=\"currentColor\" text-anchor=\"middle\">nmod</textPath>\n",
       "    </text>\n",
       "    <path class=\"displacy-arrowhead\" d=\"M1625.0,179.0 L1633.0,167.0 1617.0,167.0\" fill=\"currentColor\"/>\n",
       "</g>\n",
       "</svg>\n",
       "</figure>\n",
       "</body>\n",
       "</html></span>"
      ],
      "text/plain": [
       "<IPython.core.display.HTML object>"
      ]
     },
     "metadata": {},
     "output_type": "display_data"
    },
    {
     "name": "stdout",
     "output_type": "stream",
     "text": [
      "\n",
      "Using the 'dep' visualizer\n",
      "Serving on http://0.0.0.0:5000 ...\n",
      "\n",
      "Shutting down server on port 5000.\n"
     ]
    }
   ],
   "source": [
    "doc = nlp(test1)\n",
    "displacy.serve(doc, style=\"dep\")"
   ]
  },
  {
   "cell_type": "code",
   "execution_count": 172,
   "metadata": {},
   "outputs": [],
   "source": [
    "#Embedding par mot \n",
    "import numpy as np\n",
    "\n",
    "def return_word_embedding(sentence):\n",
    "    # Tokeniser la phrase\n",
    "    doc = nlp(sentence)\n",
    "    # Retourner le vecteur lié à chaque token\n",
    "    return [(X.vector) for X in doc]"
   ]
  },
  {
   "cell_type": "code",
   "execution_count": 173,
   "metadata": {},
   "outputs": [
    {
     "data": {
      "text/plain": [
       "[array([-1.1815382e+00,  6.3367896e+00,  3.6768785e+00, -5.7869661e-01,\n",
       "         3.4267682e-01, -8.8211095e-01, -1.6076168e+00, -3.8297218e-01,\n",
       "         1.9691824e+00,  1.2492979e+00,  1.2002857e+00,  2.7230535e+00,\n",
       "         1.9880025e+00,  3.7248814e+00, -2.0017536e+00, -3.5422544e+00,\n",
       "        -6.2561798e-01, -5.9736049e-01, -1.4723027e+00, -1.9731400e+00,\n",
       "        -2.0324173e+00, -4.2564802e+00, -1.5850680e+00,  2.6919584e+00,\n",
       "        -1.8736067e+00, -2.7470267e+00,  2.5986304e+00, -2.0067563e+00,\n",
       "         2.7067478e+00, -2.1021004e+00,  1.9084524e+00, -3.0863378e+00,\n",
       "         2.1550546e+00, -7.0053029e+00, -2.4882131e+00, -3.5072999e+00,\n",
       "         2.9122438e+00,  6.4431734e+00,  1.2290888e+00, -3.7978539e+00,\n",
       "        -2.1717710e+00,  1.9068830e+00,  3.6643529e+00, -2.5469403e+00,\n",
       "        -4.0871959e+00, -3.9766634e-01, -6.0317874e-02,  7.2964793e-01,\n",
       "         1.7350979e+00,  7.2918570e-01,  1.1976392e+00, -3.1956964e+00,\n",
       "        -1.6117507e-01,  3.5917940e+00, -5.4023504e-02, -1.2287025e+00,\n",
       "         1.9926870e+00,  2.1040440e-02, -2.1154535e+00,  1.1408644e+00,\n",
       "        -9.9866593e-01,  6.2862647e-01,  4.3170943e+00, -1.1854966e+00,\n",
       "         4.0385742e+00,  5.6682806e+00,  3.2920067e+00, -5.0497108e+00,\n",
       "        -2.3178091e+00, -1.9508935e+00, -1.4343077e+00,  2.2740531e+00,\n",
       "         1.5275779e-01, -2.4767869e+00,  2.0773406e+00, -1.9122726e+00,\n",
       "        -3.1287262e+00, -1.8823746e+00, -1.3334544e+00,  2.2742655e+00,\n",
       "         2.2532868e+00, -1.4365478e+00,  1.0405593e+00,  1.0043147e+00,\n",
       "         1.3093958e+00, -1.5135595e+00, -5.3139706e+00, -2.3616965e+00,\n",
       "         2.7789018e+00,  4.7469139e-03,  2.5412390e+00, -1.1774644e+00,\n",
       "         2.8012328e+00,  4.5810246e+00,  9.6022302e-01, -4.2106771e+00],\n",
       "       dtype=float32),\n",
       " array([ 4.052872  ,  2.0288968 , -1.5420682 , -4.1171656 ,  2.7682967 ,\n",
       "         0.71200097, -0.56400466,  6.971268  ,  3.573701  , -1.584314  ,\n",
       "        -0.7177432 ,  5.1297946 ,  0.236605  ,  2.3242507 , -3.2102346 ,\n",
       "        -0.7115111 , -1.075798  , -3.3050625 , -3.2728782 ,  7.8392515 ,\n",
       "         0.37821972,  4.904028  , -1.1256644 , -0.18794101,  2.6446884 ,\n",
       "        -2.3316884 , -0.13868457, -2.722938  , -2.3054147 ,  1.4709698 ,\n",
       "        -1.8842373 , -3.9727924 , -0.5361659 ,  0.75691825, -0.55102134,\n",
       "        -4.5319157 , -0.96135044,  0.04658186, -3.8826013 ,  0.93048835,\n",
       "        -1.2280102 ,  5.3448772 ,  0.2904709 , -0.67849994, -0.25135028,\n",
       "        -1.7237262 , -2.7121503 ,  4.6439857 , -1.5254006 , -2.7922392 ,\n",
       "         2.3672101 , -5.305715  ,  2.7064414 , -2.8298428 ,  2.0906527 ,\n",
       "        -0.48570082, -1.2749026 , -1.6645956 , -4.510507  , -2.2409315 ,\n",
       "        -2.3193743 ,  0.4188138 ,  6.620594  , -0.62673104,  4.594842  ,\n",
       "        -1.0177652 , -3.9842181 ,  0.3425489 , -1.2805321 , -1.7731646 ,\n",
       "        -1.3956833 ,  0.800195  , -4.962224  , -0.21058118, -0.5109271 ,\n",
       "        -2.3439765 ,  2.8554688 ,  8.580165  , -0.727219  ,  0.33435255,\n",
       "         1.6622313 ,  0.6471706 ,  2.1449547 ,  0.3031038 , -1.0529829 ,\n",
       "        -0.14981043, -0.82917863, -2.9648645 ,  7.911795  , -0.14287508,\n",
       "        -2.123357  ,  2.7762713 ,  2.2420654 , -0.738039  , -0.35162473,\n",
       "         0.3667605 ], dtype=float32),\n",
       " array([ 0.951659  , -0.69440424, -2.0770032 ,  0.8500833 , -1.3867719 ,\n",
       "         0.6440094 , -4.5872355 , -2.4427228 ,  2.0344791 , -1.5816565 ,\n",
       "         7.264936  , -4.615235  ,  3.0888143 ,  1.9810681 , -2.147593  ,\n",
       "        -0.40713137, -3.2254426 ,  6.475429  ,  1.4541291 ,  6.1786284 ,\n",
       "        -4.2748604 ,  0.1735492 ,  5.7688518 , -4.2707157 , -0.47555074,\n",
       "        -6.6819263 , -0.4823324 ,  5.3748274 , -0.25631022, -5.410526  ,\n",
       "        -5.269335  ,  1.7749375 ,  0.94562805, -4.095473  , -4.516476  ,\n",
       "         0.07300085,  4.640599  ,  1.9352665 ,  1.3530571 ,  0.02988803,\n",
       "         3.3299828 , -3.2790098 ,  5.125304  , -1.0939587 , -0.44083202,\n",
       "         2.0744967 , -2.4676764 , -5.949294  , -2.625172  ,  0.3032248 ,\n",
       "        -3.4734814 , -3.791132  ,  1.0825064 ,  3.678821  , -2.9857967 ,\n",
       "         0.89995354, -8.471459  , -4.5785117 , -1.886842  , -0.52510583,\n",
       "         1.5237602 , -0.10851562,  0.5694483 , -0.31637475, 14.301981  ,\n",
       "         2.9365726 , -1.5585896 , -2.356929  , -1.9107251 , -4.0177994 ,\n",
       "        -0.24109206,  4.4456244 , -1.6856918 , -3.8544219 ,  0.9125062 ,\n",
       "        -1.0929146 ,  4.991639  , -2.1385553 ,  3.0399928 ,  0.23090613,\n",
       "        -0.7296601 ,  2.4074724 , -0.4139751 ,  1.0300382 ,  2.6379418 ,\n",
       "         4.736271  , -0.6447824 , -2.8426116 , -0.45918456, -0.5376744 ,\n",
       "         0.5303589 , -1.2740386 , -2.02639   ,  5.9523134 ,  5.0458927 ,\n",
       "         1.7127525 ], dtype=float32),\n",
       " array([ 4.9282846 ,  0.76672786,  6.110732  ,  1.7528663 ,  4.236127  ,\n",
       "         9.704527  ,  0.6235621 ,  1.1958119 , -6.6792946 ,  1.3984863 ,\n",
       "        -3.0735855 , -7.098137  ,  3.6037395 ,  2.9065948 ,  3.449757  ,\n",
       "        -0.3948642 ,  3.441392  , -2.2384865 , -0.15148532,  1.7596915 ,\n",
       "         3.3312845 ,  4.1337805 ,  3.2078426 ,  0.01255435, -0.19788226,\n",
       "        -0.7001569 , -0.40448517,  2.0488164 ,  0.30501187,  0.41221082,\n",
       "        -4.635779  ,  3.5744972 ,  1.6556401 , -0.08666927, -7.823716  ,\n",
       "         2.1923077 ,  3.2411475 , -6.4114475 , -2.0438094 , -2.4597576 ,\n",
       "        -1.1371679 ,  2.8023043 , -1.1567068 , -2.3364375 ,  1.7478838 ,\n",
       "         0.17407584,  6.3304    ,  1.098114  ,  3.7756197 ,  2.4072437 ,\n",
       "         1.7414577 , -5.4059386 ,  5.595309  , -5.69599   ,  5.848152  ,\n",
       "        -3.9813986 , -1.1308566 , -1.9421508 ,  2.2555752 , -1.0159495 ,\n",
       "        -2.8485403 , -2.49228   , -0.10177639,  0.4200938 , -1.8161185 ,\n",
       "        -3.7903473 , -2.0339766 , -2.0122607 , -1.461798  , -5.205693  ,\n",
       "        -3.0734227 ,  0.8710134 ,  0.03593987,  4.2612634 , -3.3911328 ,\n",
       "         0.76045597, -1.7870752 , -2.0694172 ,  2.2545586 , -5.5350947 ,\n",
       "        -3.8416038 , -1.5604854 , -3.940436  , -1.5825241 , -2.5225003 ,\n",
       "         2.1969366 , -0.24882753, -2.2518218 ,  4.528642  , -1.1205792 ,\n",
       "         1.8126522 , -2.6969533 ,  0.1653581 , -0.21210326, -0.62189984,\n",
       "         6.196862  ], dtype=float32),\n",
       " array([-4.039462  , -0.09665596, -2.0816474 , -1.4667017 , -4.395857  ,\n",
       "         1.4432471 , -3.0466435 , -0.9339337 , -0.6037271 , -1.0697697 ,\n",
       "         1.8677162 ,  1.3988092 , -0.508331  , -1.7121198 ,  0.32537162,\n",
       "        -0.44214502, -1.7787657 ,  5.5341854 ,  5.923792  , -2.8631594 ,\n",
       "         4.2124133 ,  1.9359903 , -3.1076887 ,  2.1329498 , -1.3144126 ,\n",
       "        -3.2254546 ,  1.7370011 , -2.3793607 , -5.2377486 ,  3.0383806 ,\n",
       "        -1.0366634 ,  1.3184171 ,  4.122829  , -1.7993798 ,  0.97908556,\n",
       "        -0.9559862 ,  1.1509488 , -4.18878   , -3.956968  , -0.3258286 ,\n",
       "         5.7147217 ,  2.1012897 ,  1.9089615 ,  5.3626976 , -2.2566354 ,\n",
       "         3.7836998 , -0.18219924, -1.9223839 , -1.6324124 , -4.5661316 ,\n",
       "        -0.29401514,  3.8464627 , -0.57587147, -5.0755067 , -2.8907847 ,\n",
       "         1.5094203 ,  2.8077393 ,  1.8466291 , -3.6484005 , -2.046887  ,\n",
       "         7.2182875 ,  3.841024  , -6.648752  , -1.3090942 , -1.2488708 ,\n",
       "         2.639629  ,  0.6422844 ,  1.137423  , -3.3144057 , -3.274895  ,\n",
       "         0.94629395,  3.0568986 , -2.5350142 ,  2.7836123 ,  1.3759516 ,\n",
       "         0.07918631,  0.8104563 , -0.33477914,  6.179312  ,  6.262088  ,\n",
       "        -0.40796977, -2.2305956 , -0.73064166,  6.470996  , -2.7240427 ,\n",
       "        -1.9201518 , -2.13561   ,  5.6622696 , -0.57418084,  1.5184598 ,\n",
       "         0.72264516, -2.8296623 , -5.06089   , -1.7492146 ,  1.7166945 ,\n",
       "         0.04922387], dtype=float32),\n",
       " array([ 3.7603688 , -2.5040665 ,  0.6025537 ,  1.2103553 ,  0.09678559,\n",
       "         3.0990527 ,  7.859821  , -2.836556  ,  1.4829621 ,  0.3315884 ,\n",
       "         0.38144475,  2.2106442 ,  3.6397505 , -2.9407802 , -0.04909232,\n",
       "         0.07509325, -3.5731397 , -2.9591615 , -1.2378023 , -1.2705091 ,\n",
       "        -1.1955544 ,  0.04459262,  2.8682458 ,  1.3308287 , -0.5772791 ,\n",
       "        -0.91603863,  4.59585   , -1.3832729 ,  0.30963314, -7.338527  ,\n",
       "         3.6057036 , -1.8125436 , -0.38467586, -1.7539597 ,  1.6375141 ,\n",
       "        -2.3444393 ,  4.9272523 ,  7.139538  , -3.558567  , -0.9849838 ,\n",
       "        -4.4449563 , -3.766419  ,  4.5091977 , -2.0350883 ,  0.48063165,\n",
       "         0.23791015,  1.6146789 ,  1.5625577 , -3.663868  ,  3.256975  ,\n",
       "        -0.8156148 ,  0.6834763 , -3.914825  , -0.7619418 ,  2.3356438 ,\n",
       "        -0.96307015, -2.7154994 , -2.5890012 ,  6.4685664 ,  2.7152052 ,\n",
       "         3.4626997 ,  1.726254  , -3.3381479 , -1.120446  ,  7.1343474 ,\n",
       "        -0.5628353 , -3.0381284 , -4.872097  ,  4.06505   , -1.786679  ,\n",
       "        -0.60957503, -1.4591208 ,  1.9814312 , -7.5676174 , -2.1080241 ,\n",
       "         2.0708442 , -4.3981557 ,  2.791646  ,  0.83545744,  0.94325125,\n",
       "        -5.3616953 ,  0.01121831,  1.3008969 ,  3.9756012 , -1.8361008 ,\n",
       "        -1.9603717 ,  3.8672936 ,  2.667206  ,  3.2324965 , -4.533809  ,\n",
       "        -1.5652597 , -3.0442245 ,  2.1926026 , -2.2913785 ,  1.0310727 ,\n",
       "        -2.6621466 ], dtype=float32),\n",
       " array([-1.680552  , -1.6789488 ,  2.016661  ,  5.9181576 ,  1.9259329 ,\n",
       "         1.7588685 ,  1.6876755 , -3.8710046 ,  2.298505  , -3.0718646 ,\n",
       "         2.612358  , -2.081529  ,  1.2671841 ,  1.809037  , -3.0881634 ,\n",
       "        -1.3859032 , -1.3511541 , -2.6914802 , -0.7557159 , -1.6786423 ,\n",
       "        -1.3745706 , -3.3259192 , -1.437235  , -4.113594  , -0.23847154,\n",
       "        -2.7669744 , -3.9478354 ,  5.1339526 , -3.579978  , -0.4338208 ,\n",
       "        -3.55616   , -4.993955  ,  3.9806714 , -4.5388484 ,  1.8843133 ,\n",
       "        -1.5931377 ,  2.985382  , -0.75327164, -1.421315  ,  8.331166  ,\n",
       "         1.0019028 , -4.4515467 , -0.7428151 , -1.4616816 , -3.3329592 ,\n",
       "        -1.5255933 ,  0.43982515, -0.21890998,  1.385677  , -0.36615515,\n",
       "        -1.7714033 , -5.24485   ,  1.1119249 ,  8.425446  , -3.238147  ,\n",
       "        -2.8864393 ,  4.7637863 , -0.86790395,  1.234661  ,  0.9797863 ,\n",
       "         7.1245975 , -2.210397  , -3.68051   , -0.5974289 ,  2.634721  ,\n",
       "         1.6945633 ,  0.08372593,  5.6361046 ,  3.1270537 ,  5.0667796 ,\n",
       "         0.3478459 ,  4.1660337 , -3.438887  , -0.68841416,  3.2703931 ,\n",
       "        -3.7726254 ,  2.2232316 , -4.017497  , -0.59003353,  0.20424883,\n",
       "         2.964264  ,  1.5359305 , -1.6305201 , -2.359488  ,  5.0856743 ,\n",
       "         4.6870594 , -1.9066232 ,  0.2862463 , -3.4156513 ,  1.1448276 ,\n",
       "        -2.3089378 ,  3.696506  , -0.96073806, -1.4288454 ,  3.1196356 ,\n",
       "        -2.9639955 ], dtype=float32),\n",
       " array([ 5.1909547 ,  0.3045169 ,  0.2596725 , -3.51529   ,  3.3023853 ,\n",
       "        -2.1726887 ,  9.310339  ,  3.7189035 ,  1.9768715 , -3.9738536 ,\n",
       "        -0.29117864, -4.614325  ,  3.4765263 , -2.635296  , -0.3261106 ,\n",
       "         5.4744473 ,  1.569797  , -2.8912158 , -0.915946  , -0.5178209 ,\n",
       "        -3.0886102 ,  0.87848544, -0.06642765,  2.8065498 ,  5.514663  ,\n",
       "        -1.1624827 ,  7.753477  , -1.0400871 , -0.33164966,  1.1692101 ,\n",
       "         1.6533606 , -2.128639  , -3.1886272 , -2.332594  , -0.98238426,\n",
       "        -3.0986705 ,  2.7259102 , -0.9956184 ,  3.3369393 ,  1.3446665 ,\n",
       "         1.683296  ,  3.9966419 ,  0.34829968, -0.8611858 , -1.2943347 ,\n",
       "         0.33847332,  3.7677772 ,  1.7095098 , -0.40937984, -2.8535564 ,\n",
       "         0.9788175 , -0.35733128,  0.02884199, -3.477959  ,  0.42095995,\n",
       "        -6.8379316 , -0.23185503,  1.0036963 , -1.4796796 ,  0.92850184,\n",
       "        -1.7209767 ,  1.0783852 , -4.9961624 ,  1.3643829 ,  3.22107   ,\n",
       "        -0.3733341 , -0.6141196 , -2.0955312 , -2.032338  ,  0.258523  ,\n",
       "         3.7271295 ,  6.3371086 , -0.737994  ,  0.3983901 , -1.1031166 ,\n",
       "         2.617453  , -1.3710905 , -2.1131697 , -6.409316  , -2.3831584 ,\n",
       "        -7.4068766 , -0.41966262,  0.6409528 , -2.1644049 ,  1.9912608 ,\n",
       "         1.7163106 ,  5.214127  , -4.976665  , -1.2923996 , -0.56370664,\n",
       "        -1.8954493 , -1.6355777 , -2.7002587 ,  1.6917589 ,  3.4090602 ,\n",
       "        -3.4691014 ], dtype=float32),\n",
       " array([-2.8349082 , -2.6986203 , -3.0399446 ,  0.16488767,  4.4677925 ,\n",
       "        -0.21389645,  0.344952  , -2.2436686 ,  3.119594  , -6.0140285 ,\n",
       "        -1.919716  ,  1.141217  ,  0.06544057,  1.7783175 , -2.4634156 ,\n",
       "        -1.7269555 , -1.0121254 , -2.147904  ,  2.2622075 ,  2.3594172 ,\n",
       "        -4.906556  , -4.200148  ,  4.8513746 ,  0.24397776, -3.8392768 ,\n",
       "         1.0365992 , -0.02139592,  0.83114666, -0.9968275 ,  0.8519268 ,\n",
       "        -0.27297994, -0.29201317,  2.2991948 , -3.484631  ,  0.16872835,\n",
       "        -3.8844786 ,  3.3329253 ,  2.3438368 ,  0.13052487,  2.991213  ,\n",
       "        -3.0602176 ,  0.89975387, -2.0438685 ,  1.1946657 , -2.433648  ,\n",
       "        -2.338287  , -2.3278723 ,  2.270678  , -0.2928781 , -0.868548  ,\n",
       "         1.9495115 , -1.8826971 , -1.0477054 ,  6.2991095 ,  0.49866313,\n",
       "        -3.9189498 ,  4.467436  , -0.2688583 , -3.064044  ,  2.9264927 ,\n",
       "         3.886867  , -6.194818  , -0.52172434, -5.4315195 ,  2.2100189 ,\n",
       "        -0.8364432 , -2.1236703 ,  2.2243946 ,  5.306302  ,  2.6675282 ,\n",
       "         3.1293602 , -0.36015868, -1.3259885 , -5.1321    ,  1.9157002 ,\n",
       "        -0.36466426,  4.549974  , -2.182119  ,  3.2010198 ,  0.86169744,\n",
       "         7.696768  , -0.32411093,  0.18236674, -1.5898049 ,  2.8029535 ,\n",
       "         4.4524164 ,  3.398368  ,  4.6864176 , -2.3573456 , -3.7093813 ,\n",
       "        -1.8194796 ,  2.2641728 , -1.3488563 , -2.2059307 ,  3.2540793 ,\n",
       "        -5.693494  ], dtype=float32),\n",
       " array([ 5.6475487 ,  2.5558758 ,  0.09136899, -3.9318776 ,  2.2376945 ,\n",
       "        -2.6669478 ,  0.3716792 ,  2.2762213 , -0.29075497, -2.137187  ,\n",
       "        -0.23160717,  4.648467  , -3.363919  ,  0.09974527, -3.5561452 ,\n",
       "        -3.822464  ,  0.6632821 ,  3.9816685 , -3.294827  , -0.34487498,\n",
       "         1.2289959 ,  1.9689428 , -4.715104  ,  4.866576  ,  0.5746532 ,\n",
       "         3.371168  ,  7.052625  ,  4.439808  , -6.6724863 ,  3.5143538 ,\n",
       "        -2.720629  , -1.2803221 , -1.955885  , -1.2448903 ,  0.15118575,\n",
       "        -0.14872451, -4.861107  ,  3.3584957 ,  6.966036  , -4.348163  ,\n",
       "        -1.2153863 ,  6.671886  , -3.109492  , -3.289054  , -1.2082565 ,\n",
       "        -1.5186696 , -6.7950654 , -2.996544  ,  2.4129882 , -0.65163404,\n",
       "         1.9297404 ,  0.69610286,  3.3716984 , -3.0022368 ,  5.084725  ,\n",
       "        -2.550673  , -1.017499  ,  3.6786618 , -4.5225396 ,  1.4962008 ,\n",
       "        -4.1517005 ,  2.5798507 ,  4.367319  , -3.4743435 ,  1.7957302 ,\n",
       "         4.339037  ,  0.6159126 , -3.114166  , -0.36826792,  7.255473  ,\n",
       "         0.5952305 ,  0.7405845 , -2.1452215 , -0.12556309, -2.0261502 ,\n",
       "        -4.7979307 ,  2.324155  ,  2.857151  , -2.2893176 , -2.3715987 ,\n",
       "         1.10983   , -2.929597  ,  0.28116578, -6.335243  ,  2.9866185 ,\n",
       "         4.433367  , -3.08465   , -2.2082896 , -1.5304831 , -0.08977264,\n",
       "        -1.2693148 ,  4.4590416 ,  0.25780165, -1.0345204 ,  1.2382432 ,\n",
       "         0.8421131 ], dtype=float32)]"
      ]
     },
     "execution_count": 173,
     "metadata": {},
     "output_type": "execute_result"
    }
   ],
   "source": [
    "return_word_embedding(test1)"
   ]
  },
  {
   "cell_type": "code",
   "execution_count": 174,
   "metadata": {},
   "outputs": [],
   "source": [
    "#Similarité entre phrases \n",
    "def return_mean_embedding(sentence):\n",
    "    # Tokeniser la phrase\n",
    "    doc = nlp(sentence)\n",
    "    # Retourner la moyenne des vecteurs pour chaque phrase\n",
    "    return np.mean([(X.vector) for X in doc], axis=0)"
   ]
  },
  {
   "cell_type": "code",
   "execution_count": 184,
   "metadata": {},
   "outputs": [],
   "source": [
    "test_2 = \"Le réseau sera bientot rétabli à Paris\"\n",
    "test_3 = \"La panne réseau affecte plusieurs utilisateurs de l'opérateur\"\n",
    "test_4 = \"Il fait 18 degrés \""
   ]
  },
  {
   "cell_type": "code",
   "execution_count": 185,
   "metadata": {},
   "outputs": [
    {
     "data": {
      "text/plain": [
       "11.882405"
      ]
     },
     "execution_count": 185,
     "metadata": {},
     "output_type": "execute_result"
    }
   ],
   "source": [
    "np.linalg.norm(return_mean_embedding(test1)-return_mean_embedding(test_2)) #c'proche\n"
   ]
  },
  {
   "cell_type": "code",
   "execution_count": 186,
   "metadata": {},
   "outputs": [
    {
     "data": {
      "text/plain": [
       "14.275145"
      ]
     },
     "execution_count": 186,
     "metadata": {},
     "output_type": "execute_result"
    }
   ],
   "source": [
    "np.linalg.norm(return_mean_embedding(test1)-return_mean_embedding(test_3)) #moins proche de deux autres exmples"
   ]
  },
  {
   "cell_type": "code",
   "execution_count": 187,
   "metadata": {},
   "outputs": [
    {
     "data": {
      "text/plain": [
       "15.613729"
      ]
     },
     "execution_count": 187,
     "metadata": {},
     "output_type": "execute_result"
    }
   ],
   "source": [
    "np.linalg.norm(return_mean_embedding(test1)-return_mean_embedding(test_4)) #cest pas proche aussi  "
   ]
  },
  {
   "cell_type": "code",
   "execution_count": 203,
   "metadata": {},
   "outputs": [],
   "source": [
    "#Transformers\n",
    "\n"
   ]
  },
  {
   "cell_type": "code",
   "execution_count": 226,
   "metadata": {},
   "outputs": [
    {
     "ename": "ModuleNotFoundError",
     "evalue": "No module named 'tensorflow'",
     "output_type": "error",
     "traceback": [
      "\u001b[1;31m---------------------------------------------------------------------------\u001b[0m",
      "\u001b[1;31mModuleNotFoundError\u001b[0m                       Traceback (most recent call last)",
      "\u001b[1;32m<ipython-input-226-4fadafbb0ca7>\u001b[0m in \u001b[0;36m<module>\u001b[1;34m\u001b[0m\n\u001b[0;32m      5\u001b[0m \u001b[1;33m\u001b[0m\u001b[0m\n\u001b[0;32m      6\u001b[0m \u001b[1;32mfrom\u001b[0m \u001b[0msklearn\u001b[0m\u001b[1;33m.\u001b[0m\u001b[0mpreprocessing\u001b[0m \u001b[1;32mimport\u001b[0m \u001b[0mOneHotEncoder\u001b[0m\u001b[1;33m\u001b[0m\u001b[1;33m\u001b[0m\u001b[0m\n\u001b[1;32m----> 7\u001b[1;33m \u001b[1;32mfrom\u001b[0m \u001b[0mtensorflow\u001b[0m\u001b[1;33m.\u001b[0m\u001b[0mkeras\u001b[0m\u001b[1;33m.\u001b[0m\u001b[0mpreprocessing\u001b[0m \u001b[1;32mimport\u001b[0m \u001b[0msequence\u001b[0m\u001b[1;33m\u001b[0m\u001b[1;33m\u001b[0m\u001b[0m\n\u001b[0m\u001b[0;32m      8\u001b[0m \u001b[1;32mfrom\u001b[0m \u001b[0mtensorflow\u001b[0m\u001b[1;33m.\u001b[0m\u001b[0mkeras\u001b[0m\u001b[1;33m.\u001b[0m\u001b[0mmodels\u001b[0m \u001b[1;32mimport\u001b[0m \u001b[0mSequential\u001b[0m\u001b[1;33m\u001b[0m\u001b[1;33m\u001b[0m\u001b[0m\n\u001b[0;32m      9\u001b[0m \u001b[1;32mfrom\u001b[0m \u001b[0mtensorflow\u001b[0m\u001b[1;33m.\u001b[0m\u001b[0mkeras\u001b[0m\u001b[1;33m.\u001b[0m\u001b[0mlayers\u001b[0m \u001b[1;32mimport\u001b[0m \u001b[0mDense\u001b[0m\u001b[1;33m,\u001b[0m \u001b[0mEmbedding\u001b[0m\u001b[1;33m,\u001b[0m \u001b[0mDense\u001b[0m\u001b[1;33m,\u001b[0m \u001b[0mActivation\u001b[0m\u001b[1;33m,\u001b[0m \u001b[0mDropout\u001b[0m\u001b[1;33m,\u001b[0m \u001b[0mLSTM\u001b[0m\u001b[1;33m,\u001b[0m \u001b[0mBidirectional\u001b[0m\u001b[1;33m\u001b[0m\u001b[1;33m\u001b[0m\u001b[0m\n",
      "\u001b[1;31mModuleNotFoundError\u001b[0m: No module named 'tensorflow'"
     ]
    }
   ],
   "source": [
    "import pandas as pd\n",
    "import numpy as np\n",
    "import matplotlib.pyplot as plt\n",
    "import os\n",
    "\n",
    "from sklearn.preprocessing import OneHotEncoder\n",
    "from tensorflow.keras.preprocessing import sequence\n",
    "from tensorflow.keras.models import Sequential\n",
    "from tensorflow.keras.layers import Dense, Embedding, Dense, Activation, Dropout, LSTM, Bidirectional\n",
    "from tensorflow.keras.callbacks import EarlyStopping, ModelCheckpoint, ReduceLROnPlateau\n",
    "from sklearn.model_selection import train_test_split\n",
    "from tensorflow.keras.regularizers import l2\n",
    "from tensorflow.keras.utils import plot_model\n",
    "from sklearn.model_selection import train_test_split"
   ]
  },
  {
   "cell_type": "code",
   "execution_count": 231,
   "metadata": {},
   "outputs": [
    {
     "ename": "ModuleNotFoundError",
     "evalue": "No module named 'gensim'",
     "output_type": "error",
     "traceback": [
      "\u001b[1;31m---------------------------------------------------------------------------\u001b[0m",
      "\u001b[1;31mModuleNotFoundError\u001b[0m                       Traceback (most recent call last)",
      "\u001b[1;32m<ipython-input-231-27be31741c6a>\u001b[0m in \u001b[0;36m<module>\u001b[1;34m\u001b[0m\n\u001b[0;32m     10\u001b[0m \u001b[1;32mimport\u001b[0m \u001b[0mmatplotlib\u001b[0m\u001b[1;33m.\u001b[0m\u001b[0mpyplot\u001b[0m \u001b[1;32mas\u001b[0m \u001b[0mplt\u001b[0m\u001b[1;33m\u001b[0m\u001b[1;33m\u001b[0m\u001b[0m\n\u001b[0;32m     11\u001b[0m \u001b[1;33m\u001b[0m\u001b[0m\n\u001b[1;32m---> 12\u001b[1;33m \u001b[1;32mimport\u001b[0m \u001b[0mgensim\u001b[0m\u001b[1;33m.\u001b[0m\u001b[0mdownloader\u001b[0m \u001b[1;32mas\u001b[0m \u001b[0mapi\u001b[0m\u001b[1;33m\u001b[0m\u001b[1;33m\u001b[0m\u001b[0m\n\u001b[0m\u001b[0;32m     13\u001b[0m \u001b[1;32mfrom\u001b[0m \u001b[0mgensim\u001b[0m\u001b[1;33m.\u001b[0m\u001b[0mmodels\u001b[0m\u001b[1;33m.\u001b[0m\u001b[0mkeyedvectors\u001b[0m \u001b[1;32mimport\u001b[0m \u001b[0mWord2VecKeyedVectors\u001b[0m\u001b[1;33m\u001b[0m\u001b[1;33m\u001b[0m\u001b[0m\n\u001b[0;32m     14\u001b[0m \u001b[1;33m\u001b[0m\u001b[0m\n",
      "\u001b[1;31mModuleNotFoundError\u001b[0m: No module named 'gensim'"
     ]
    }
   ],
   "source": [
    "import pandas as pd\n",
    "import numpy as np\n",
    "from random import seed\n",
    "from random import sample\n",
    "\n",
    "seed(42)\n",
    "np.random.seed(42)\n",
    "\n",
    "from sklearn.model_selection import train_test_split\n",
    "import matplotlib.pyplot as plt\n",
    "\n",
    "import gensim.downloader as api\n",
    "from gensim.models.keyedvectors import Word2VecKeyedVectors\n",
    "\n",
    "from sklearn.decomposition import PCA\n",
    "from sklearn.metrics import accuracy_score\n",
    "from scipy import spatial\n",
    "\n",
    "from nltk.corpus import stopwords"
   ]
  },
  {
   "cell_type": "code",
   "execution_count": 228,
   "metadata": {},
   "outputs": [],
   "source": [
    "def get_only_chars(line):\n",
    "\n",
    "    clean_line = \"\"\n",
    "\n",
    "    line = line.replace(\"’\", \"\")\n",
    "    line = line.replace(\"'\", \"\")\n",
    "    line = line.replace(\"-\", \" \") #replace hyphens with spaces\n",
    "    line = line.replace(\"\\t\", \" \")\n",
    "    line = line.replace(\"\\n\", \" \")\n",
    "    line = line.lower()\n",
    "\n",
    "    for char in line:\n",
    "        if char in 'qwertyuiopasdfghjklzxcvbnm ':\n",
    "            clean_line += char\n",
    "        else:\n",
    "            clean_line += ' '\n",
    "\n",
    "    clean_line = re.sub(' +',' ',clean_line) #delete extra spaces\n",
    "    if clean_line[0] == ' ':\n",
    "        clean_line = clean_line[1:]\n",
    "    return clean_line"
   ]
  },
  {
   "cell_type": "code",
   "execution_count": 229,
   "metadata": {},
   "outputs": [
    {
     "data": {
      "text/html": [
       "<div>\n",
       "<style scoped>\n",
       "    .dataframe tbody tr th:only-of-type {\n",
       "        vertical-align: middle;\n",
       "    }\n",
       "\n",
       "    .dataframe tbody tr th {\n",
       "        vertical-align: top;\n",
       "    }\n",
       "\n",
       "    .dataframe thead th {\n",
       "        text-align: right;\n",
       "    }\n",
       "</style>\n",
       "<table border=\"1\" class=\"dataframe\">\n",
       "  <thead>\n",
       "    <tr style=\"text-align: right;\">\n",
       "      <th></th>\n",
       "      <th>District Number</th>\n",
       "      <th>District</th>\n",
       "      <th>School</th>\n",
       "      <th>Test-takers: 2012</th>\n",
       "      <th>Test-takers: 2013</th>\n",
       "      <th>Test-takers: Change%</th>\n",
       "      <th>Participation Rate (estimate): 2012</th>\n",
       "      <th>Participation Rate (estimate): 2013</th>\n",
       "      <th>Participation Rate (estimate): Change%</th>\n",
       "      <th>Percent Meeting Benchmark: 2012</th>\n",
       "      <th>Percent Meeting Benchmark: 2013</th>\n",
       "      <th>Percent Meeting Benchmark: Change%</th>\n",
       "    </tr>\n",
       "  </thead>\n",
       "  <tbody>\n",
       "    <tr>\n",
       "      <th>0</th>\n",
       "      <td>26111</td>\n",
       "      <td>Ansonia</td>\n",
       "      <td>Ansonia High School</td>\n",
       "      <td>118.0</td>\n",
       "      <td>104.0</td>\n",
       "      <td>-12.0</td>\n",
       "      <td>67.0</td>\n",
       "      <td>61.0</td>\n",
       "      <td>-6.0</td>\n",
       "      <td>18.0</td>\n",
       "      <td>18.0</td>\n",
       "      <td>0.0</td>\n",
       "    </tr>\n",
       "    <tr>\n",
       "      <th>1</th>\n",
       "      <td>46111</td>\n",
       "      <td>Avon</td>\n",
       "      <td>Avon High School</td>\n",
       "      <td>254.0</td>\n",
       "      <td>243.0</td>\n",
       "      <td>-4.0</td>\n",
       "      <td>90.0</td>\n",
       "      <td>89.0</td>\n",
       "      <td>-1.0</td>\n",
       "      <td>73.0</td>\n",
       "      <td>75.0</td>\n",
       "      <td>2.0</td>\n",
       "    </tr>\n",
       "    <tr>\n",
       "      <th>2</th>\n",
       "      <td>76111</td>\n",
       "      <td>Berlin</td>\n",
       "      <td>Berlin High School</td>\n",
       "      <td>216.0</td>\n",
       "      <td>220.0</td>\n",
       "      <td>2.0</td>\n",
       "      <td>81.0</td>\n",
       "      <td>82.0</td>\n",
       "      <td>1.0</td>\n",
       "      <td>42.0</td>\n",
       "      <td>49.0</td>\n",
       "      <td>7.0</td>\n",
       "    </tr>\n",
       "    <tr>\n",
       "      <th>3</th>\n",
       "      <td>96111</td>\n",
       "      <td>Bethel</td>\n",
       "      <td>Bethel High School</td>\n",
       "      <td>200.0</td>\n",
       "      <td>190.0</td>\n",
       "      <td>-5.0</td>\n",
       "      <td>86.0</td>\n",
       "      <td>82.0</td>\n",
       "      <td>-4.0</td>\n",
       "      <td>51.0</td>\n",
       "      <td>49.0</td>\n",
       "      <td>-2.0</td>\n",
       "    </tr>\n",
       "    <tr>\n",
       "      <th>4</th>\n",
       "      <td>116111</td>\n",
       "      <td>Bloomfield</td>\n",
       "      <td>Bloomfield High School</td>\n",
       "      <td>116.0</td>\n",
       "      <td>130.0</td>\n",
       "      <td>12.0</td>\n",
       "      <td>79.0</td>\n",
       "      <td>89.0</td>\n",
       "      <td>10.0</td>\n",
       "      <td>11.0</td>\n",
       "      <td>8.0</td>\n",
       "      <td>-3.0</td>\n",
       "    </tr>\n",
       "  </tbody>\n",
       "</table>\n",
       "</div>"
      ],
      "text/plain": [
       "   District Number    District                  School  Test-takers: 2012  \\\n",
       "0            26111     Ansonia     Ansonia High School              118.0   \n",
       "1            46111        Avon        Avon High School              254.0   \n",
       "2            76111      Berlin      Berlin High School              216.0   \n",
       "3            96111      Bethel      Bethel High School              200.0   \n",
       "4           116111  Bloomfield  Bloomfield High School              116.0   \n",
       "\n",
       "   Test-takers: 2013  Test-takers: Change%  \\\n",
       "0              104.0                 -12.0   \n",
       "1              243.0                  -4.0   \n",
       "2              220.0                   2.0   \n",
       "3              190.0                  -5.0   \n",
       "4              130.0                  12.0   \n",
       "\n",
       "   Participation Rate (estimate): 2012  Participation Rate (estimate): 2013  \\\n",
       "0                                 67.0                                 61.0   \n",
       "1                                 90.0                                 89.0   \n",
       "2                                 81.0                                 82.0   \n",
       "3                                 86.0                                 82.0   \n",
       "4                                 79.0                                 89.0   \n",
       "\n",
       "   Participation Rate (estimate): Change%  Percent Meeting Benchmark: 2012  \\\n",
       "0                                    -6.0                             18.0   \n",
       "1                                    -1.0                             73.0   \n",
       "2                                     1.0                             42.0   \n",
       "3                                    -4.0                             51.0   \n",
       "4                                    10.0                             11.0   \n",
       "\n",
       "   Percent Meeting Benchmark: 2013  Percent Meeting Benchmark: Change%  \n",
       "0                             18.0                                 0.0  \n",
       "1                             75.0                                 2.0  \n",
       "2                             49.0                                 7.0  \n",
       "3                             49.0                                -2.0  \n",
       "4                              8.0                                -3.0  "
      ]
     },
     "execution_count": 229,
     "metadata": {},
     "output_type": "execute_result"
    }
   ],
   "source": [
    "df = pd.read_csv(\"SAT_School_Participation_and_Performance__2012-2013.csv\")\n",
    "df.head()"
   ]
  },
  {
   "cell_type": "code",
   "execution_count": 230,
   "metadata": {},
   "outputs": [
    {
     "ename": "AttributeError",
     "evalue": "'float' object has no attribute 'replace'",
     "output_type": "error",
     "traceback": [
      "\u001b[1;31m---------------------------------------------------------------------------\u001b[0m",
      "\u001b[1;31mAttributeError\u001b[0m                            Traceback (most recent call last)",
      "\u001b[1;32m<ipython-input-230-7d0fe5b65300>\u001b[0m in \u001b[0;36m<module>\u001b[1;34m\u001b[0m\n\u001b[1;32m----> 1\u001b[1;33m \u001b[0mdf\u001b[0m\u001b[1;33m[\u001b[0m\u001b[1;34m'School'\u001b[0m\u001b[1;33m]\u001b[0m \u001b[1;33m=\u001b[0m \u001b[0mdf\u001b[0m\u001b[1;33m[\u001b[0m\u001b[1;34m'School'\u001b[0m\u001b[1;33m]\u001b[0m\u001b[1;33m.\u001b[0m\u001b[0mapply\u001b[0m\u001b[1;33m(\u001b[0m\u001b[1;32mlambda\u001b[0m \u001b[0mx\u001b[0m\u001b[1;33m:\u001b[0m \u001b[0mget_only_chars\u001b[0m\u001b[1;33m(\u001b[0m\u001b[0mx\u001b[0m\u001b[1;33m)\u001b[0m\u001b[1;33m)\u001b[0m\u001b[1;33m\u001b[0m\u001b[1;33m\u001b[0m\u001b[0m\n\u001b[0m",
      "\u001b[1;32m~\\anaconda3\\lib\\site-packages\\pandas\\core\\series.py\u001b[0m in \u001b[0;36mapply\u001b[1;34m(self, func, convert_dtype, args, **kwds)\u001b[0m\n\u001b[0;32m   4198\u001b[0m             \u001b[1;32melse\u001b[0m\u001b[1;33m:\u001b[0m\u001b[1;33m\u001b[0m\u001b[1;33m\u001b[0m\u001b[0m\n\u001b[0;32m   4199\u001b[0m                 \u001b[0mvalues\u001b[0m \u001b[1;33m=\u001b[0m \u001b[0mself\u001b[0m\u001b[1;33m.\u001b[0m\u001b[0mastype\u001b[0m\u001b[1;33m(\u001b[0m\u001b[0mobject\u001b[0m\u001b[1;33m)\u001b[0m\u001b[1;33m.\u001b[0m\u001b[0m_values\u001b[0m\u001b[1;33m\u001b[0m\u001b[1;33m\u001b[0m\u001b[0m\n\u001b[1;32m-> 4200\u001b[1;33m                 \u001b[0mmapped\u001b[0m \u001b[1;33m=\u001b[0m \u001b[0mlib\u001b[0m\u001b[1;33m.\u001b[0m\u001b[0mmap_infer\u001b[0m\u001b[1;33m(\u001b[0m\u001b[0mvalues\u001b[0m\u001b[1;33m,\u001b[0m \u001b[0mf\u001b[0m\u001b[1;33m,\u001b[0m \u001b[0mconvert\u001b[0m\u001b[1;33m=\u001b[0m\u001b[0mconvert_dtype\u001b[0m\u001b[1;33m)\u001b[0m\u001b[1;33m\u001b[0m\u001b[1;33m\u001b[0m\u001b[0m\n\u001b[0m\u001b[0;32m   4201\u001b[0m \u001b[1;33m\u001b[0m\u001b[0m\n\u001b[0;32m   4202\u001b[0m         \u001b[1;32mif\u001b[0m \u001b[0mlen\u001b[0m\u001b[1;33m(\u001b[0m\u001b[0mmapped\u001b[0m\u001b[1;33m)\u001b[0m \u001b[1;32mand\u001b[0m \u001b[0misinstance\u001b[0m\u001b[1;33m(\u001b[0m\u001b[0mmapped\u001b[0m\u001b[1;33m[\u001b[0m\u001b[1;36m0\u001b[0m\u001b[1;33m]\u001b[0m\u001b[1;33m,\u001b[0m \u001b[0mSeries\u001b[0m\u001b[1;33m)\u001b[0m\u001b[1;33m:\u001b[0m\u001b[1;33m\u001b[0m\u001b[1;33m\u001b[0m\u001b[0m\n",
      "\u001b[1;32mpandas\\_libs\\lib.pyx\u001b[0m in \u001b[0;36mpandas._libs.lib.map_infer\u001b[1;34m()\u001b[0m\n",
      "\u001b[1;32m<ipython-input-230-7d0fe5b65300>\u001b[0m in \u001b[0;36m<lambda>\u001b[1;34m(x)\u001b[0m\n\u001b[1;32m----> 1\u001b[1;33m \u001b[0mdf\u001b[0m\u001b[1;33m[\u001b[0m\u001b[1;34m'School'\u001b[0m\u001b[1;33m]\u001b[0m \u001b[1;33m=\u001b[0m \u001b[0mdf\u001b[0m\u001b[1;33m[\u001b[0m\u001b[1;34m'School'\u001b[0m\u001b[1;33m]\u001b[0m\u001b[1;33m.\u001b[0m\u001b[0mapply\u001b[0m\u001b[1;33m(\u001b[0m\u001b[1;32mlambda\u001b[0m \u001b[0mx\u001b[0m\u001b[1;33m:\u001b[0m \u001b[0mget_only_chars\u001b[0m\u001b[1;33m(\u001b[0m\u001b[0mx\u001b[0m\u001b[1;33m)\u001b[0m\u001b[1;33m)\u001b[0m\u001b[1;33m\u001b[0m\u001b[1;33m\u001b[0m\u001b[0m\n\u001b[0m",
      "\u001b[1;32m<ipython-input-228-08aefa413767>\u001b[0m in \u001b[0;36mget_only_chars\u001b[1;34m(line)\u001b[0m\n\u001b[0;32m      3\u001b[0m     \u001b[0mclean_line\u001b[0m \u001b[1;33m=\u001b[0m \u001b[1;34m\"\"\u001b[0m\u001b[1;33m\u001b[0m\u001b[1;33m\u001b[0m\u001b[0m\n\u001b[0;32m      4\u001b[0m \u001b[1;33m\u001b[0m\u001b[0m\n\u001b[1;32m----> 5\u001b[1;33m     \u001b[0mline\u001b[0m \u001b[1;33m=\u001b[0m \u001b[0mline\u001b[0m\u001b[1;33m.\u001b[0m\u001b[0mreplace\u001b[0m\u001b[1;33m(\u001b[0m\u001b[1;34m\"’\"\u001b[0m\u001b[1;33m,\u001b[0m \u001b[1;34m\"\"\u001b[0m\u001b[1;33m)\u001b[0m\u001b[1;33m\u001b[0m\u001b[1;33m\u001b[0m\u001b[0m\n\u001b[0m\u001b[0;32m      6\u001b[0m     \u001b[0mline\u001b[0m \u001b[1;33m=\u001b[0m \u001b[0mline\u001b[0m\u001b[1;33m.\u001b[0m\u001b[0mreplace\u001b[0m\u001b[1;33m(\u001b[0m\u001b[1;34m\"'\"\u001b[0m\u001b[1;33m,\u001b[0m \u001b[1;34m\"\"\u001b[0m\u001b[1;33m)\u001b[0m\u001b[1;33m\u001b[0m\u001b[1;33m\u001b[0m\u001b[0m\n\u001b[0;32m      7\u001b[0m     \u001b[0mline\u001b[0m \u001b[1;33m=\u001b[0m \u001b[0mline\u001b[0m\u001b[1;33m.\u001b[0m\u001b[0mreplace\u001b[0m\u001b[1;33m(\u001b[0m\u001b[1;34m\"-\"\u001b[0m\u001b[1;33m,\u001b[0m \u001b[1;34m\" \"\u001b[0m\u001b[1;33m)\u001b[0m \u001b[1;31m#replace hyphens with spaces\u001b[0m\u001b[1;33m\u001b[0m\u001b[1;33m\u001b[0m\u001b[0m\n",
      "\u001b[1;31mAttributeError\u001b[0m: 'float' object has no attribute 'replace'"
     ]
    }
   ],
   "source": [
    "df['School'] = df['School'].apply(lambda x: get_only_chars(x))"
   ]
  },
  {
   "cell_type": "code",
   "execution_count": null,
   "metadata": {},
   "outputs": [],
   "source": []
  },
  {
   "cell_type": "code",
   "execution_count": null,
   "metadata": {},
   "outputs": [],
   "source": []
  }
 ],
 "metadata": {
  "kernelspec": {
   "display_name": "Python 3",
   "language": "python",
   "name": "python3"
  },
  "language_info": {
   "codemirror_mode": {
    "name": "ipython",
    "version": 3
   },
   "file_extension": ".py",
   "mimetype": "text/x-python",
   "name": "python",
   "nbconvert_exporter": "python",
   "pygments_lexer": "ipython3",
   "version": "3.8.5"
  }
 },
 "nbformat": 4,
 "nbformat_minor": 4
}
