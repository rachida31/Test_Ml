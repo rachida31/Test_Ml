{
 "cells": [
  {
   "cell_type": "markdown",
   "metadata": {},
   "source": [
    "## Using  the library spacy to NLP "
   ]
  },
  {
   "cell_type": "code",
   "execution_count": 1,
   "metadata": {},
   "outputs": [],
   "source": [
    "#load pakg\n",
    "import spacy"
   ]
  },
  {
   "cell_type": "code",
   "execution_count": 10,
   "metadata": {},
   "outputs": [],
   "source": [
    "# load our modul and NLP object \n",
    "nlp = spacy.load('fr')"
   ]
  },
  {
   "cell_type": "code",
   "execution_count": 11,
   "metadata": {},
   "outputs": [
    {
     "data": {
      "text/plain": [
       "['Defaults',\n",
       " '__call__',\n",
       " '__class__',\n",
       " '__delattr__',\n",
       " '__dict__',\n",
       " '__dir__',\n",
       " '__doc__',\n",
       " '__eq__',\n",
       " '__format__',\n",
       " '__ge__',\n",
       " '__getattribute__',\n",
       " '__gt__',\n",
       " '__hash__',\n",
       " '__init__',\n",
       " '__init_subclass__',\n",
       " '__le__',\n",
       " '__lt__',\n",
       " '__module__',\n",
       " '__ne__',\n",
       " '__new__',\n",
       " '__reduce__',\n",
       " '__reduce_ex__',\n",
       " '__repr__',\n",
       " '__setattr__',\n",
       " '__sizeof__',\n",
       " '__str__',\n",
       " '__subclasshook__',\n",
       " '__weakref__',\n",
       " '_format_docs_and_golds',\n",
       " '_meta',\n",
       " '_multiprocessing_pipe',\n",
       " '_optimizer',\n",
       " '_path',\n",
       " 'add_pipe',\n",
       " 'begin_training',\n",
       " 'create_pipe',\n",
       " 'disable_pipes',\n",
       " 'entity',\n",
       " 'evaluate',\n",
       " 'factories',\n",
       " 'from_bytes',\n",
       " 'from_disk',\n",
       " 'get_pipe',\n",
       " 'has_pipe',\n",
       " 'lang',\n",
       " 'linker',\n",
       " 'make_doc',\n",
       " 'matcher',\n",
       " 'max_length',\n",
       " 'meta',\n",
       " 'parser',\n",
       " 'path',\n",
       " 'pipe',\n",
       " 'pipe_factories',\n",
       " 'pipe_labels',\n",
       " 'pipe_names',\n",
       " 'pipeline',\n",
       " 'preprocess_gold',\n",
       " 'rehearse',\n",
       " 'remove_pipe',\n",
       " 'rename_pipe',\n",
       " 'replace_pipe',\n",
       " 'resume_training',\n",
       " 'tagger',\n",
       " 'tensorizer',\n",
       " 'to_bytes',\n",
       " 'to_disk',\n",
       " 'tokenizer',\n",
       " 'update',\n",
       " 'use_params',\n",
       " 'vocab']"
      ]
     },
     "execution_count": 11,
     "metadata": {},
     "output_type": "execute_result"
    }
   ],
   "source": [
    "# methode/ att of nlp\n",
    "dir(nlp)"
   ]
  },
  {
   "cell_type": "code",
   "execution_count": 13,
   "metadata": {},
   "outputs": [],
   "source": [
    "url = \"https://www.france24.com/fr/rss\""
   ]
  },
  {
   "cell_type": "code",
   "execution_count": 15,
   "metadata": {},
   "outputs": [],
   "source": [
    "# Fetch Info From RSS\n",
    "# pip  install feedparser\n",
    "import feedparser"
   ]
  },
  {
   "cell_type": "code",
   "execution_count": 16,
   "metadata": {},
   "outputs": [],
   "source": [
    "f = feedparser.parse(url)"
   ]
  },
  {
   "cell_type": "code",
   "execution_count": 17,
   "metadata": {},
   "outputs": [
    {
     "data": {
      "text/plain": [
       "dict_keys(['bozo', 'entries', 'feed', 'headers', 'href', 'status', 'encoding', 'version', 'namespaces'])"
      ]
     },
     "execution_count": 17,
     "metadata": {},
     "output_type": "execute_result"
    }
   ],
   "source": [
    "f.keys()\n"
   ]
  },
  {
   "cell_type": "code",
   "execution_count": 29,
   "metadata": {},
   "outputs": [
    {
     "data": {
      "text/plain": [
       "['__add__',\n",
       " '__class__',\n",
       " '__contains__',\n",
       " '__delattr__',\n",
       " '__delitem__',\n",
       " '__dir__',\n",
       " '__doc__',\n",
       " '__eq__',\n",
       " '__format__',\n",
       " '__ge__',\n",
       " '__getattribute__',\n",
       " '__getitem__',\n",
       " '__gt__',\n",
       " '__hash__',\n",
       " '__iadd__',\n",
       " '__imul__',\n",
       " '__init__',\n",
       " '__init_subclass__',\n",
       " '__iter__',\n",
       " '__le__',\n",
       " '__len__',\n",
       " '__lt__',\n",
       " '__mul__',\n",
       " '__ne__',\n",
       " '__new__',\n",
       " '__reduce__',\n",
       " '__reduce_ex__',\n",
       " '__repr__',\n",
       " '__reversed__',\n",
       " '__rmul__',\n",
       " '__setattr__',\n",
       " '__setitem__',\n",
       " '__sizeof__',\n",
       " '__str__',\n",
       " '__subclasshook__',\n",
       " 'append',\n",
       " 'clear',\n",
       " 'copy',\n",
       " 'count',\n",
       " 'extend',\n",
       " 'index',\n",
       " 'insert',\n",
       " 'pop',\n",
       " 'remove',\n",
       " 'reverse',\n",
       " 'sort']"
      ]
     },
     "execution_count": 29,
     "metadata": {},
     "output_type": "execute_result"
    }
   ],
   "source": [
    "dir(f.entries)"
   ]
  },
  {
   "cell_type": "code",
   "execution_count": 31,
   "metadata": {},
   "outputs": [
    {
     "data": {
      "text/plain": [
       "\"La dirigeante birmane Aung San Suu Kyi a été arrêtée par l'armée, selon le parti au pouvoir\""
      ]
     },
     "execution_count": 31,
     "metadata": {},
     "output_type": "execute_result"
    }
   ],
   "source": [
    "f.entries[0]['title']"
   ]
  },
  {
   "cell_type": "code",
   "execution_count": 32,
   "metadata": {},
   "outputs": [],
   "source": [
    "ex1 = f.entries[0]['title']\n",
    "ex2 = f.entries[1]['summary']"
   ]
  },
  {
   "cell_type": "code",
   "execution_count": 33,
   "metadata": {},
   "outputs": [
    {
     "data": {
      "text/plain": [
       "'Des millions de résidents de Hong Kong peuvent désormais prétendre à un visa permettant de demeurer plus longtemps au Royaume-Uni, puis de demander la naturalisation britannique. Si Londres affirme offrir une porte de sortie à ceux qui veulent échapper à la répression chinoise, d’aucuns accusent le gouvernement britannique d’hypocrisie, la mesure\\xa0concernant très peu de militants pro-démocratie.'"
      ]
     },
     "execution_count": 33,
     "metadata": {},
     "output_type": "execute_result"
    }
   ],
   "source": [
    "ex2"
   ]
  },
  {
   "cell_type": "raw",
   "metadata": {},
   "source": [
    "Tokenisation\n",
    "La tokenisation cherche à transformer un texte en une série de tokens individuels.\n",
    "La tokenisation du mot\n",
    "Tokenisation par phrases"
   ]
  },
  {
   "cell_type": "code",
   "execution_count": 34,
   "metadata": {},
   "outputs": [],
   "source": [
    "docx = nlp(ex1)"
   ]
  },
  {
   "cell_type": "code",
   "execution_count": 35,
   "metadata": {},
   "outputs": [
    {
     "data": {
      "text/plain": [
       "La dirigeante birmane Aung San Suu Kyi a été arrêtée par l'armée, selon le parti au pouvoir"
      ]
     },
     "execution_count": 35,
     "metadata": {},
     "output_type": "execute_result"
    }
   ],
   "source": [
    "docx"
   ]
  },
  {
   "cell_type": "code",
   "execution_count": 36,
   "metadata": {},
   "outputs": [
    {
     "name": "stdout",
     "output_type": "stream",
     "text": [
      "La\n",
      "dirigeante\n",
      "birmane\n",
      "Aung\n",
      "San\n",
      "Suu\n",
      "Kyi\n",
      "a\n",
      "été\n",
      "arrêtée\n",
      "par\n",
      "l'\n",
      "armée\n",
      ",\n",
      "selon\n",
      "le\n",
      "parti\n",
      "au\n",
      "pouvoir\n"
     ]
    }
   ],
   "source": [
    "# WOrd Tokenization/\n",
    "for token in docx:\n",
    "    print(token.text)"
   ]
  },
  {
   "cell_type": "code",
   "execution_count": 37,
   "metadata": {},
   "outputs": [],
   "source": [
    "ex3 = \"J'aime du lait\"\n"
   ]
  },
  {
   "cell_type": "code",
   "execution_count": 38,
   "metadata": {},
   "outputs": [],
   "source": [
    "docx3 = nlp(ex3)\n"
   ]
  },
  {
   "cell_type": "code",
   "execution_count": 39,
   "metadata": {},
   "outputs": [
    {
     "name": "stdout",
     "output_type": "stream",
     "text": [
      "J'\n",
      "aime\n",
      "du\n",
      "lait\n"
     ]
    }
   ],
   "source": [
    "for token in docx3:\n",
    "    print(token.text)"
   ]
  },
  {
   "cell_type": "code",
   "execution_count": 40,
   "metadata": {},
   "outputs": [
    {
     "data": {
      "text/plain": [
       "La dirigeante birmane Aung San Suu Kyi a été arrêtée par l'armée, selon le parti au pouvoir"
      ]
     },
     "execution_count": 40,
     "metadata": {},
     "output_type": "execute_result"
    }
   ],
   "source": [
    "# Word Info Stats\n",
    "docx"
   ]
  },
  {
   "cell_type": "code",
   "execution_count": 41,
   "metadata": {},
   "outputs": [
    {
     "name": "stdout",
     "output_type": "stream",
     "text": [
      "('La', 'Xx', True, True, False)\n",
      "('dirigeante', 'xxxx', False, True, False)\n",
      "('birmane', 'xxxx', False, True, False)\n",
      "('Aung', 'Xxxx', False, True, False)\n",
      "('San', 'Xxx', False, True, False)\n",
      "('Suu', 'Xxx', False, True, False)\n",
      "('Kyi', 'Xxx', False, True, False)\n",
      "('a', 'x', True, True, False)\n",
      "('été', 'xxx', True, True, False)\n",
      "('arrêtée', 'xxxx', False, True, False)\n",
      "('par', 'xxx', True, True, False)\n",
      "(\"l'\", \"x'\", True, False, False)\n",
      "('armée', 'xxxx', False, True, False)\n",
      "(',', ',', False, False, True)\n",
      "('selon', 'xxxx', True, True, False)\n",
      "('le', 'xx', True, True, False)\n",
      "('parti', 'xxxx', False, True, False)\n",
      "('au', 'xx', True, True, False)\n",
      "('pouvoir', 'xxxx', False, True, False)\n"
     ]
    }
   ],
   "source": [
    "for token in docx:\n",
    "    print((token.text,token.shape_,token.is_stop,token.is_alpha,token.is_punct))"
   ]
  },
  {
   "cell_type": "markdown",
   "metadata": {},
   "source": [
    "# Tokenisation par phrases\n"
   ]
  },
  {
   "cell_type": "code",
   "execution_count": 42,
   "metadata": {},
   "outputs": [
    {
     "data": {
      "text/plain": [
       "'Des millions de résidents de Hong Kong peuvent désormais prétendre à un visa permettant de demeurer plus longtemps au Royaume-Uni, puis de demander la naturalisation britannique. Si Londres affirme offrir une porte de sortie à ceux qui veulent échapper à la répression chinoise, d’aucuns accusent le gouvernement britannique d’hypocrisie, la mesure\\xa0concernant très peu de militants pro-démocratie.'"
      ]
     },
     "execution_count": 42,
     "metadata": {},
     "output_type": "execute_result"
    }
   ],
   "source": [
    "ex2\n"
   ]
  },
  {
   "cell_type": "code",
   "execution_count": 43,
   "metadata": {},
   "outputs": [],
   "source": [
    "docx2 = nlp(ex2)"
   ]
  },
  {
   "cell_type": "code",
   "execution_count": 44,
   "metadata": {},
   "outputs": [
    {
     "name": "stdout",
     "output_type": "stream",
     "text": [
      "1:Des millions de résidents de Hong Kong peuvent désormais prétendre à un visa permettant de demeurer plus longtemps au Royaume-Uni, puis de demander la naturalisation britannique.\n",
      "2:Si Londres affirme offrir une porte de sortie à ceux qui veulent échapper à la répression chinoise,\n",
      "3:d’aucuns accusent le gouvernement britannique d’hypocrisie, la mesure concernant très peu de militants pro-démocratie.\n"
     ]
    }
   ],
   "source": [
    "# Sentence Tokenisation\n",
    "for num,sent in enumerate(docx2.sents,start=1):\n",
    "    print(f\"{num}:{sent}\")"
   ]
  },
  {
   "cell_type": "markdown",
   "metadata": {},
   "source": [
    "# #### Lemmatisation & Stemming"
   ]
  },
  {
   "cell_type": "code",
   "execution_count": 45,
   "metadata": {},
   "outputs": [
    {
     "data": {
      "text/plain": [
       "\"La dirigeante birmane Aung San Suu Kyi a été arrêtée par l'armée, selon le parti au pouvoir\""
      ]
     },
     "execution_count": 45,
     "metadata": {},
     "output_type": "execute_result"
    }
   ],
   "source": [
    "ex1\n"
   ]
  },
  {
   "cell_type": "code",
   "execution_count": 46,
   "metadata": {},
   "outputs": [
    {
     "data": {
      "text/plain": [
       "La dirigeante birmane Aung San Suu Kyi a été arrêtée par l'armée, selon le parti au pouvoir"
      ]
     },
     "execution_count": 46,
     "metadata": {},
     "output_type": "execute_result"
    }
   ],
   "source": [
    "docx"
   ]
  },
  {
   "cell_type": "code",
   "execution_count": 47,
   "metadata": {},
   "outputs": [
    {
     "name": "stdout",
     "output_type": "stream",
     "text": [
      "('La', 'le')\n",
      "('dirigeante', 'dirigeant')\n",
      "('birmane', 'birmane')\n",
      "('Aung', 'aung')\n",
      "('San', 'San')\n",
      "('Suu', 'Suu')\n",
      "('Kyi', 'Kyi')\n",
      "('a', 'avoir')\n",
      "('été', 'être')\n",
      "('arrêtée', 'arrêter')\n",
      "('par', 'par')\n",
      "(\"l'\", 'le')\n",
      "('armée', 'armée')\n",
      "(',', ',')\n",
      "('selon', 'selon')\n",
      "('le', 'le')\n",
      "('parti', 'parti')\n",
      "('au', 'au')\n",
      "('pouvoir', 'pouvoir')\n"
     ]
    }
   ],
   "source": [
    "#affiche l'origine des mots\n",
    "for token in docx:\n",
    "    print((token.text,token.lemma_))"
   ]
  },
  {
   "cell_type": "code",
   "execution_count": 48,
   "metadata": {},
   "outputs": [
    {
     "data": {
      "text/plain": [
       "\"J'aime du lait\""
      ]
     },
     "execution_count": 48,
     "metadata": {},
     "output_type": "execute_result"
    }
   ],
   "source": [
    "\n",
    "ex3"
   ]
  },
  {
   "cell_type": "code",
   "execution_count": 49,
   "metadata": {},
   "outputs": [
    {
     "name": "stdout",
     "output_type": "stream",
     "text": [
      "(\"J'\", 'je')\n",
      "('aime', 'aime')\n",
      "('du', 'de')\n",
      "('lait', 'lait')\n"
     ]
    }
   ],
   "source": [
    "\n",
    "for token in docx3:\n",
    "    print((token.text,token.lemma_))"
   ]
  },
  {
   "cell_type": "raw",
   "metadata": {},
   "source": [
    "\n",
    "L’étiquetage morpho-syntaxique/Part-of-Speech(POS)\n",
    "Il essaye d’attribuer une étiquette à chaque mot d’une phrase mentionnant la foncextionnalité grammaticale d’un mot\n",
    "(Nom propre, adjectif, déterminant…)."
   ]
  },
  {
   "cell_type": "code",
   "execution_count": 50,
   "metadata": {},
   "outputs": [
    {
     "data": {
      "text/plain": [
       "La dirigeante birmane Aung San Suu Kyi a été arrêtée par l'armée, selon le parti au pouvoir"
      ]
     },
     "execution_count": 50,
     "metadata": {},
     "output_type": "execute_result"
    }
   ],
   "source": [
    "docx"
   ]
  },
  {
   "cell_type": "code",
   "execution_count": 51,
   "metadata": {},
   "outputs": [
    {
     "name": "stdout",
     "output_type": "stream",
     "text": [
      "La DET DET__Definite=Def|Gender=Fem|Number=Sing|PronType=Art\n",
      "dirigeante NOUN NOUN__Gender=Fem|Number=Sing\n",
      "birmane PROPN PROPN\n",
      "Aung NOUN NOUN__Gender=Fem|Number=Sing\n",
      "San PROPN PROPN\n",
      "Suu PROPN PROPN\n",
      "Kyi PROPN PROPN\n",
      "a AUX AUX__Mood=Ind|Number=Sing|Person=3|Tense=Pres|VerbForm=Fin\n",
      "été AUX AUX__Tense=Past|VerbForm=Part\n",
      "arrêtée VERB VERB__Gender=Fem|Number=Sing|Tense=Past|VerbForm=Part|Voice=Pass\n",
      "par ADP ADP\n",
      "l' DET DET__Definite=Def|Number=Sing|PronType=Art\n",
      "armée NOUN NOUN__Gender=Fem|Number=Sing\n",
      ", PUNCT PUNCT\n",
      "selon ADP ADP\n",
      "le DET DET__Definite=Def|Gender=Masc|Number=Sing|PronType=Art\n",
      "parti NOUN NOUN__Gender=Masc|Number=Sing\n",
      "au DET ADP_DET__Definite=Def|Gender=Masc|Number=Sing|PronType=Art\n",
      "pouvoir NOUN NOUN__Gender=Masc|Number=Sing\n"
     ]
    }
   ],
   "source": [
    "for token in docx:\n",
    "    print(token.text,token.pos_,token.tag_)"
   ]
  },
  {
   "cell_type": "code",
   "execution_count": 52,
   "metadata": {},
   "outputs": [
    {
     "name": "stdout",
     "output_type": "stream",
     "text": [
      "('La', 'DET__Definite=Def|Gender=Fem|Number=Sing|PronType=Art')\n",
      "('dirigeante', 'NOUN__Gender=Fem|Number=Sing')\n",
      "('birmane', 'PROPN')\n",
      "('Aung', 'NOUN__Gender=Fem|Number=Sing')\n",
      "('San', 'PROPN')\n",
      "('Suu', 'PROPN')\n",
      "('Kyi', 'PROPN')\n",
      "('a', 'AUX__Mood=Ind|Number=Sing|Person=3|Tense=Pres|VerbForm=Fin')\n",
      "('été', 'AUX__Tense=Past|VerbForm=Part')\n",
      "('arrêtée', 'VERB__Gender=Fem|Number=Sing|Tense=Past|VerbForm=Part|Voice=Pass')\n",
      "('par', 'ADP')\n",
      "(\"l'\", 'DET__Definite=Def|Number=Sing|PronType=Art')\n",
      "('armée', 'NOUN__Gender=Fem|Number=Sing')\n",
      "(',', 'PUNCT')\n",
      "('selon', 'ADP')\n",
      "('le', 'DET__Definite=Def|Gender=Masc|Number=Sing|PronType=Art')\n",
      "('parti', 'NOUN__Gender=Masc|Number=Sing')\n",
      "('au', 'ADP_DET__Definite=Def|Gender=Masc|Number=Sing|PronType=Art')\n",
      "('pouvoir', 'NOUN__Gender=Masc|Number=Sing')\n"
     ]
    }
   ],
   "source": [
    "for token in docx:\n",
    "    print((token.text,token.tag_))"
   ]
  },
  {
   "cell_type": "code",
   "execution_count": 53,
   "metadata": {},
   "outputs": [
    {
     "data": {
      "text/plain": [
       "J'aime du lait"
      ]
     },
     "execution_count": 53,
     "metadata": {},
     "output_type": "execute_result"
    }
   ],
   "source": [
    "docx3"
   ]
  },
  {
   "cell_type": "code",
   "execution_count": 54,
   "metadata": {},
   "outputs": [
    {
     "name": "stdout",
     "output_type": "stream",
     "text": [
      "J' PRON PRON__Number=Sing|Person=1\n",
      "aime VERB VERB__Mood=Ind|Number=Sing|Person=1|Tense=Pres|VerbForm=Fin\n",
      "du DET ADP_DET__Definite=Def|Gender=Masc|Number=Sing|PronType=Art\n",
      "lait NOUN NOUN__Gender=Masc|Number=Sing\n"
     ]
    }
   ],
   "source": [
    "for token in docx3:\n",
    "    print(token.text,token.pos_,token.tag_)"
   ]
  },
  {
   "cell_type": "markdown",
   "metadata": {},
   "source": [
    "# Visualisation Des Dep"
   ]
  },
  {
   "cell_type": "code",
   "execution_count": 55,
   "metadata": {},
   "outputs": [],
   "source": [
    "from spacy import displacy\n"
   ]
  },
  {
   "cell_type": "code",
   "execution_count": 56,
   "metadata": {},
   "outputs": [
    {
     "data": {
      "text/html": [
       "<span class=\"tex2jax_ignore\"><svg xmlns=\"http://www.w3.org/2000/svg\" xmlns:xlink=\"http://www.w3.org/1999/xlink\" xml:lang=\"fr\" id=\"81186837791d4710b93f19428e007093-0\" class=\"displacy\" width=\"3200\" height=\"487.0\" direction=\"ltr\" style=\"max-width: none; height: 487.0px; color: #000000; background: #ffffff; font-family: Arial; direction: ltr\">\n",
       "<text class=\"displacy-token\" fill=\"currentColor\" text-anchor=\"middle\" y=\"397.0\">\n",
       "    <tspan class=\"displacy-word\" fill=\"currentColor\" x=\"50\">La</tspan>\n",
       "    <tspan class=\"displacy-tag\" dy=\"2em\" fill=\"currentColor\" x=\"50\">DET</tspan>\n",
       "</text>\n",
       "\n",
       "<text class=\"displacy-token\" fill=\"currentColor\" text-anchor=\"middle\" y=\"397.0\">\n",
       "    <tspan class=\"displacy-word\" fill=\"currentColor\" x=\"225\">dirigeante</tspan>\n",
       "    <tspan class=\"displacy-tag\" dy=\"2em\" fill=\"currentColor\" x=\"225\">NOUN</tspan>\n",
       "</text>\n",
       "\n",
       "<text class=\"displacy-token\" fill=\"currentColor\" text-anchor=\"middle\" y=\"397.0\">\n",
       "    <tspan class=\"displacy-word\" fill=\"currentColor\" x=\"400\">birmane</tspan>\n",
       "    <tspan class=\"displacy-tag\" dy=\"2em\" fill=\"currentColor\" x=\"400\">PROPN</tspan>\n",
       "</text>\n",
       "\n",
       "<text class=\"displacy-token\" fill=\"currentColor\" text-anchor=\"middle\" y=\"397.0\">\n",
       "    <tspan class=\"displacy-word\" fill=\"currentColor\" x=\"575\">Aung</tspan>\n",
       "    <tspan class=\"displacy-tag\" dy=\"2em\" fill=\"currentColor\" x=\"575\">NOUN</tspan>\n",
       "</text>\n",
       "\n",
       "<text class=\"displacy-token\" fill=\"currentColor\" text-anchor=\"middle\" y=\"397.0\">\n",
       "    <tspan class=\"displacy-word\" fill=\"currentColor\" x=\"750\">San</tspan>\n",
       "    <tspan class=\"displacy-tag\" dy=\"2em\" fill=\"currentColor\" x=\"750\">PROPN</tspan>\n",
       "</text>\n",
       "\n",
       "<text class=\"displacy-token\" fill=\"currentColor\" text-anchor=\"middle\" y=\"397.0\">\n",
       "    <tspan class=\"displacy-word\" fill=\"currentColor\" x=\"925\">Suu</tspan>\n",
       "    <tspan class=\"displacy-tag\" dy=\"2em\" fill=\"currentColor\" x=\"925\">PROPN</tspan>\n",
       "</text>\n",
       "\n",
       "<text class=\"displacy-token\" fill=\"currentColor\" text-anchor=\"middle\" y=\"397.0\">\n",
       "    <tspan class=\"displacy-word\" fill=\"currentColor\" x=\"1100\">Kyi</tspan>\n",
       "    <tspan class=\"displacy-tag\" dy=\"2em\" fill=\"currentColor\" x=\"1100\">PROPN</tspan>\n",
       "</text>\n",
       "\n",
       "<text class=\"displacy-token\" fill=\"currentColor\" text-anchor=\"middle\" y=\"397.0\">\n",
       "    <tspan class=\"displacy-word\" fill=\"currentColor\" x=\"1275\">a</tspan>\n",
       "    <tspan class=\"displacy-tag\" dy=\"2em\" fill=\"currentColor\" x=\"1275\">AUX</tspan>\n",
       "</text>\n",
       "\n",
       "<text class=\"displacy-token\" fill=\"currentColor\" text-anchor=\"middle\" y=\"397.0\">\n",
       "    <tspan class=\"displacy-word\" fill=\"currentColor\" x=\"1450\">été</tspan>\n",
       "    <tspan class=\"displacy-tag\" dy=\"2em\" fill=\"currentColor\" x=\"1450\">AUX</tspan>\n",
       "</text>\n",
       "\n",
       "<text class=\"displacy-token\" fill=\"currentColor\" text-anchor=\"middle\" y=\"397.0\">\n",
       "    <tspan class=\"displacy-word\" fill=\"currentColor\" x=\"1625\">arrêtée</tspan>\n",
       "    <tspan class=\"displacy-tag\" dy=\"2em\" fill=\"currentColor\" x=\"1625\">VERB</tspan>\n",
       "</text>\n",
       "\n",
       "<text class=\"displacy-token\" fill=\"currentColor\" text-anchor=\"middle\" y=\"397.0\">\n",
       "    <tspan class=\"displacy-word\" fill=\"currentColor\" x=\"1800\">par</tspan>\n",
       "    <tspan class=\"displacy-tag\" dy=\"2em\" fill=\"currentColor\" x=\"1800\">ADP</tspan>\n",
       "</text>\n",
       "\n",
       "<text class=\"displacy-token\" fill=\"currentColor\" text-anchor=\"middle\" y=\"397.0\">\n",
       "    <tspan class=\"displacy-word\" fill=\"currentColor\" x=\"1975\">l'</tspan>\n",
       "    <tspan class=\"displacy-tag\" dy=\"2em\" fill=\"currentColor\" x=\"1975\">DET</tspan>\n",
       "</text>\n",
       "\n",
       "<text class=\"displacy-token\" fill=\"currentColor\" text-anchor=\"middle\" y=\"397.0\">\n",
       "    <tspan class=\"displacy-word\" fill=\"currentColor\" x=\"2150\">armée,</tspan>\n",
       "    <tspan class=\"displacy-tag\" dy=\"2em\" fill=\"currentColor\" x=\"2150\">NOUN</tspan>\n",
       "</text>\n",
       "\n",
       "<text class=\"displacy-token\" fill=\"currentColor\" text-anchor=\"middle\" y=\"397.0\">\n",
       "    <tspan class=\"displacy-word\" fill=\"currentColor\" x=\"2325\">selon</tspan>\n",
       "    <tspan class=\"displacy-tag\" dy=\"2em\" fill=\"currentColor\" x=\"2325\">ADP</tspan>\n",
       "</text>\n",
       "\n",
       "<text class=\"displacy-token\" fill=\"currentColor\" text-anchor=\"middle\" y=\"397.0\">\n",
       "    <tspan class=\"displacy-word\" fill=\"currentColor\" x=\"2500\">le</tspan>\n",
       "    <tspan class=\"displacy-tag\" dy=\"2em\" fill=\"currentColor\" x=\"2500\">DET</tspan>\n",
       "</text>\n",
       "\n",
       "<text class=\"displacy-token\" fill=\"currentColor\" text-anchor=\"middle\" y=\"397.0\">\n",
       "    <tspan class=\"displacy-word\" fill=\"currentColor\" x=\"2675\">parti</tspan>\n",
       "    <tspan class=\"displacy-tag\" dy=\"2em\" fill=\"currentColor\" x=\"2675\">NOUN</tspan>\n",
       "</text>\n",
       "\n",
       "<text class=\"displacy-token\" fill=\"currentColor\" text-anchor=\"middle\" y=\"397.0\">\n",
       "    <tspan class=\"displacy-word\" fill=\"currentColor\" x=\"2850\">au</tspan>\n",
       "    <tspan class=\"displacy-tag\" dy=\"2em\" fill=\"currentColor\" x=\"2850\">DET</tspan>\n",
       "</text>\n",
       "\n",
       "<text class=\"displacy-token\" fill=\"currentColor\" text-anchor=\"middle\" y=\"397.0\">\n",
       "    <tspan class=\"displacy-word\" fill=\"currentColor\" x=\"3025\">pouvoir</tspan>\n",
       "    <tspan class=\"displacy-tag\" dy=\"2em\" fill=\"currentColor\" x=\"3025\">NOUN</tspan>\n",
       "</text>\n",
       "\n",
       "<g class=\"displacy-arrow\">\n",
       "    <path class=\"displacy-arc\" id=\"arrow-81186837791d4710b93f19428e007093-0-0\" stroke-width=\"2px\" d=\"M70,352.0 C70,264.5 210.0,264.5 210.0,352.0\" fill=\"none\" stroke=\"currentColor\"/>\n",
       "    <text dy=\"1.25em\" style=\"font-size: 0.8em; letter-spacing: 1px\">\n",
       "        <textPath xlink:href=\"#arrow-81186837791d4710b93f19428e007093-0-0\" class=\"displacy-label\" startOffset=\"50%\" side=\"left\" fill=\"currentColor\" text-anchor=\"middle\">det</textPath>\n",
       "    </text>\n",
       "    <path class=\"displacy-arrowhead\" d=\"M70,354.0 L62,342.0 78,342.0\" fill=\"currentColor\"/>\n",
       "</g>\n",
       "\n",
       "<g class=\"displacy-arrow\">\n",
       "    <path class=\"displacy-arc\" id=\"arrow-81186837791d4710b93f19428e007093-0-1\" stroke-width=\"2px\" d=\"M245,352.0 C245,264.5 385.0,264.5 385.0,352.0\" fill=\"none\" stroke=\"currentColor\"/>\n",
       "    <text dy=\"1.25em\" style=\"font-size: 0.8em; letter-spacing: 1px\">\n",
       "        <textPath xlink:href=\"#arrow-81186837791d4710b93f19428e007093-0-1\" class=\"displacy-label\" startOffset=\"50%\" side=\"left\" fill=\"currentColor\" text-anchor=\"middle\">nmod</textPath>\n",
       "    </text>\n",
       "    <path class=\"displacy-arrowhead\" d=\"M385.0,354.0 L393.0,342.0 377.0,342.0\" fill=\"currentColor\"/>\n",
       "</g>\n",
       "\n",
       "<g class=\"displacy-arrow\">\n",
       "    <path class=\"displacy-arc\" id=\"arrow-81186837791d4710b93f19428e007093-0-2\" stroke-width=\"2px\" d=\"M595,352.0 C595,264.5 735.0,264.5 735.0,352.0\" fill=\"none\" stroke=\"currentColor\"/>\n",
       "    <text dy=\"1.25em\" style=\"font-size: 0.8em; letter-spacing: 1px\">\n",
       "        <textPath xlink:href=\"#arrow-81186837791d4710b93f19428e007093-0-2\" class=\"displacy-label\" startOffset=\"50%\" side=\"left\" fill=\"currentColor\" text-anchor=\"middle\">flat:name</textPath>\n",
       "    </text>\n",
       "    <path class=\"displacy-arrowhead\" d=\"M735.0,354.0 L743.0,342.0 727.0,342.0\" fill=\"currentColor\"/>\n",
       "</g>\n",
       "\n",
       "<g class=\"displacy-arrow\">\n",
       "    <path class=\"displacy-arc\" id=\"arrow-81186837791d4710b93f19428e007093-0-3\" stroke-width=\"2px\" d=\"M945,352.0 C945,264.5 1085.0,264.5 1085.0,352.0\" fill=\"none\" stroke=\"currentColor\"/>\n",
       "    <text dy=\"1.25em\" style=\"font-size: 0.8em; letter-spacing: 1px\">\n",
       "        <textPath xlink:href=\"#arrow-81186837791d4710b93f19428e007093-0-3\" class=\"displacy-label\" startOffset=\"50%\" side=\"left\" fill=\"currentColor\" text-anchor=\"middle\">det</textPath>\n",
       "    </text>\n",
       "    <path class=\"displacy-arrowhead\" d=\"M945,354.0 L937,342.0 953,342.0\" fill=\"currentColor\"/>\n",
       "</g>\n",
       "\n",
       "<g class=\"displacy-arrow\">\n",
       "    <path class=\"displacy-arc\" id=\"arrow-81186837791d4710b93f19428e007093-0-4\" stroke-width=\"2px\" d=\"M1120,352.0 C1120,89.5 1620.0,89.5 1620.0,352.0\" fill=\"none\" stroke=\"currentColor\"/>\n",
       "    <text dy=\"1.25em\" style=\"font-size: 0.8em; letter-spacing: 1px\">\n",
       "        <textPath xlink:href=\"#arrow-81186837791d4710b93f19428e007093-0-4\" class=\"displacy-label\" startOffset=\"50%\" side=\"left\" fill=\"currentColor\" text-anchor=\"middle\">nsubj:pass</textPath>\n",
       "    </text>\n",
       "    <path class=\"displacy-arrowhead\" d=\"M1120,354.0 L1112,342.0 1128,342.0\" fill=\"currentColor\"/>\n",
       "</g>\n",
       "\n",
       "<g class=\"displacy-arrow\">\n",
       "    <path class=\"displacy-arc\" id=\"arrow-81186837791d4710b93f19428e007093-0-5\" stroke-width=\"2px\" d=\"M1295,352.0 C1295,177.0 1615.0,177.0 1615.0,352.0\" fill=\"none\" stroke=\"currentColor\"/>\n",
       "    <text dy=\"1.25em\" style=\"font-size: 0.8em; letter-spacing: 1px\">\n",
       "        <textPath xlink:href=\"#arrow-81186837791d4710b93f19428e007093-0-5\" class=\"displacy-label\" startOffset=\"50%\" side=\"left\" fill=\"currentColor\" text-anchor=\"middle\">aux:tense</textPath>\n",
       "    </text>\n",
       "    <path class=\"displacy-arrowhead\" d=\"M1295,354.0 L1287,342.0 1303,342.0\" fill=\"currentColor\"/>\n",
       "</g>\n",
       "\n",
       "<g class=\"displacy-arrow\">\n",
       "    <path class=\"displacy-arc\" id=\"arrow-81186837791d4710b93f19428e007093-0-6\" stroke-width=\"2px\" d=\"M1470,352.0 C1470,264.5 1610.0,264.5 1610.0,352.0\" fill=\"none\" stroke=\"currentColor\"/>\n",
       "    <text dy=\"1.25em\" style=\"font-size: 0.8em; letter-spacing: 1px\">\n",
       "        <textPath xlink:href=\"#arrow-81186837791d4710b93f19428e007093-0-6\" class=\"displacy-label\" startOffset=\"50%\" side=\"left\" fill=\"currentColor\" text-anchor=\"middle\">aux:pass</textPath>\n",
       "    </text>\n",
       "    <path class=\"displacy-arrowhead\" d=\"M1470,354.0 L1462,342.0 1478,342.0\" fill=\"currentColor\"/>\n",
       "</g>\n",
       "\n",
       "<g class=\"displacy-arrow\">\n",
       "    <path class=\"displacy-arc\" id=\"arrow-81186837791d4710b93f19428e007093-0-7\" stroke-width=\"2px\" d=\"M1820,352.0 C1820,177.0 2140.0,177.0 2140.0,352.0\" fill=\"none\" stroke=\"currentColor\"/>\n",
       "    <text dy=\"1.25em\" style=\"font-size: 0.8em; letter-spacing: 1px\">\n",
       "        <textPath xlink:href=\"#arrow-81186837791d4710b93f19428e007093-0-7\" class=\"displacy-label\" startOffset=\"50%\" side=\"left\" fill=\"currentColor\" text-anchor=\"middle\">case</textPath>\n",
       "    </text>\n",
       "    <path class=\"displacy-arrowhead\" d=\"M1820,354.0 L1812,342.0 1828,342.0\" fill=\"currentColor\"/>\n",
       "</g>\n",
       "\n",
       "<g class=\"displacy-arrow\">\n",
       "    <path class=\"displacy-arc\" id=\"arrow-81186837791d4710b93f19428e007093-0-8\" stroke-width=\"2px\" d=\"M1995,352.0 C1995,264.5 2135.0,264.5 2135.0,352.0\" fill=\"none\" stroke=\"currentColor\"/>\n",
       "    <text dy=\"1.25em\" style=\"font-size: 0.8em; letter-spacing: 1px\">\n",
       "        <textPath xlink:href=\"#arrow-81186837791d4710b93f19428e007093-0-8\" class=\"displacy-label\" startOffset=\"50%\" side=\"left\" fill=\"currentColor\" text-anchor=\"middle\">det</textPath>\n",
       "    </text>\n",
       "    <path class=\"displacy-arrowhead\" d=\"M1995,354.0 L1987,342.0 2003,342.0\" fill=\"currentColor\"/>\n",
       "</g>\n",
       "\n",
       "<g class=\"displacy-arrow\">\n",
       "    <path class=\"displacy-arc\" id=\"arrow-81186837791d4710b93f19428e007093-0-9\" stroke-width=\"2px\" d=\"M1645,352.0 C1645,89.5 2145.0,89.5 2145.0,352.0\" fill=\"none\" stroke=\"currentColor\"/>\n",
       "    <text dy=\"1.25em\" style=\"font-size: 0.8em; letter-spacing: 1px\">\n",
       "        <textPath xlink:href=\"#arrow-81186837791d4710b93f19428e007093-0-9\" class=\"displacy-label\" startOffset=\"50%\" side=\"left\" fill=\"currentColor\" text-anchor=\"middle\">obl:agent</textPath>\n",
       "    </text>\n",
       "    <path class=\"displacy-arrowhead\" d=\"M2145.0,354.0 L2153.0,342.0 2137.0,342.0\" fill=\"currentColor\"/>\n",
       "</g>\n",
       "\n",
       "<g class=\"displacy-arrow\">\n",
       "    <path class=\"displacy-arc\" id=\"arrow-81186837791d4710b93f19428e007093-0-10\" stroke-width=\"2px\" d=\"M2345,352.0 C2345,177.0 2665.0,177.0 2665.0,352.0\" fill=\"none\" stroke=\"currentColor\"/>\n",
       "    <text dy=\"1.25em\" style=\"font-size: 0.8em; letter-spacing: 1px\">\n",
       "        <textPath xlink:href=\"#arrow-81186837791d4710b93f19428e007093-0-10\" class=\"displacy-label\" startOffset=\"50%\" side=\"left\" fill=\"currentColor\" text-anchor=\"middle\">case</textPath>\n",
       "    </text>\n",
       "    <path class=\"displacy-arrowhead\" d=\"M2345,354.0 L2337,342.0 2353,342.0\" fill=\"currentColor\"/>\n",
       "</g>\n",
       "\n",
       "<g class=\"displacy-arrow\">\n",
       "    <path class=\"displacy-arc\" id=\"arrow-81186837791d4710b93f19428e007093-0-11\" stroke-width=\"2px\" d=\"M2520,352.0 C2520,264.5 2660.0,264.5 2660.0,352.0\" fill=\"none\" stroke=\"currentColor\"/>\n",
       "    <text dy=\"1.25em\" style=\"font-size: 0.8em; letter-spacing: 1px\">\n",
       "        <textPath xlink:href=\"#arrow-81186837791d4710b93f19428e007093-0-11\" class=\"displacy-label\" startOffset=\"50%\" side=\"left\" fill=\"currentColor\" text-anchor=\"middle\">det</textPath>\n",
       "    </text>\n",
       "    <path class=\"displacy-arrowhead\" d=\"M2520,354.0 L2512,342.0 2528,342.0\" fill=\"currentColor\"/>\n",
       "</g>\n",
       "\n",
       "<g class=\"displacy-arrow\">\n",
       "    <path class=\"displacy-arc\" id=\"arrow-81186837791d4710b93f19428e007093-0-12\" stroke-width=\"2px\" d=\"M1645,352.0 C1645,2.0 2675.0,2.0 2675.0,352.0\" fill=\"none\" stroke=\"currentColor\"/>\n",
       "    <text dy=\"1.25em\" style=\"font-size: 0.8em; letter-spacing: 1px\">\n",
       "        <textPath xlink:href=\"#arrow-81186837791d4710b93f19428e007093-0-12\" class=\"displacy-label\" startOffset=\"50%\" side=\"left\" fill=\"currentColor\" text-anchor=\"middle\">obl:mod</textPath>\n",
       "    </text>\n",
       "    <path class=\"displacy-arrowhead\" d=\"M2675.0,354.0 L2683.0,342.0 2667.0,342.0\" fill=\"currentColor\"/>\n",
       "</g>\n",
       "\n",
       "<g class=\"displacy-arrow\">\n",
       "    <path class=\"displacy-arc\" id=\"arrow-81186837791d4710b93f19428e007093-0-13\" stroke-width=\"2px\" d=\"M2870,352.0 C2870,264.5 3010.0,264.5 3010.0,352.0\" fill=\"none\" stroke=\"currentColor\"/>\n",
       "    <text dy=\"1.25em\" style=\"font-size: 0.8em; letter-spacing: 1px\">\n",
       "        <textPath xlink:href=\"#arrow-81186837791d4710b93f19428e007093-0-13\" class=\"displacy-label\" startOffset=\"50%\" side=\"left\" fill=\"currentColor\" text-anchor=\"middle\">mark</textPath>\n",
       "    </text>\n",
       "    <path class=\"displacy-arrowhead\" d=\"M2870,354.0 L2862,342.0 2878,342.0\" fill=\"currentColor\"/>\n",
       "</g>\n",
       "\n",
       "<g class=\"displacy-arrow\">\n",
       "    <path class=\"displacy-arc\" id=\"arrow-81186837791d4710b93f19428e007093-0-14\" stroke-width=\"2px\" d=\"M2695,352.0 C2695,177.0 3015.0,177.0 3015.0,352.0\" fill=\"none\" stroke=\"currentColor\"/>\n",
       "    <text dy=\"1.25em\" style=\"font-size: 0.8em; letter-spacing: 1px\">\n",
       "        <textPath xlink:href=\"#arrow-81186837791d4710b93f19428e007093-0-14\" class=\"displacy-label\" startOffset=\"50%\" side=\"left\" fill=\"currentColor\" text-anchor=\"middle\">nmod</textPath>\n",
       "    </text>\n",
       "    <path class=\"displacy-arrowhead\" d=\"M3015.0,354.0 L3023.0,342.0 3007.0,342.0\" fill=\"currentColor\"/>\n",
       "</g>\n",
       "</svg></span>"
      ],
      "text/plain": [
       "<IPython.core.display.HTML object>"
      ]
     },
     "metadata": {},
     "output_type": "display_data"
    }
   ],
   "source": [
    "displacy.render(docx,style='dep',jupyter=True)\n"
   ]
  },
  {
   "cell_type": "code",
   "execution_count": 57,
   "metadata": {},
   "outputs": [
    {
     "data": {
      "text/plain": [
       "J'aime du lait"
      ]
     },
     "execution_count": 57,
     "metadata": {},
     "output_type": "execute_result"
    }
   ],
   "source": [
    "docx3\n"
   ]
  },
  {
   "cell_type": "code",
   "execution_count": 58,
   "metadata": {},
   "outputs": [
    {
     "data": {
      "text/html": [
       "<span class=\"tex2jax_ignore\"><svg xmlns=\"http://www.w3.org/2000/svg\" xmlns:xlink=\"http://www.w3.org/1999/xlink\" xml:lang=\"fr\" id=\"2b9a3bb6cbf94633a6caafb9caae6d23-0\" class=\"displacy\" width=\"750\" height=\"312.0\" direction=\"ltr\" style=\"max-width: none; height: 312.0px; color: #000000; background: #ffffff; font-family: Arial; direction: ltr\">\n",
       "<text class=\"displacy-token\" fill=\"currentColor\" text-anchor=\"middle\" y=\"222.0\">\n",
       "    <tspan class=\"displacy-word\" fill=\"currentColor\" x=\"50\">J'</tspan>\n",
       "    <tspan class=\"displacy-tag\" dy=\"2em\" fill=\"currentColor\" x=\"50\">PRON</tspan>\n",
       "</text>\n",
       "\n",
       "<text class=\"displacy-token\" fill=\"currentColor\" text-anchor=\"middle\" y=\"222.0\">\n",
       "    <tspan class=\"displacy-word\" fill=\"currentColor\" x=\"225\">aime</tspan>\n",
       "    <tspan class=\"displacy-tag\" dy=\"2em\" fill=\"currentColor\" x=\"225\">VERB</tspan>\n",
       "</text>\n",
       "\n",
       "<text class=\"displacy-token\" fill=\"currentColor\" text-anchor=\"middle\" y=\"222.0\">\n",
       "    <tspan class=\"displacy-word\" fill=\"currentColor\" x=\"400\">du</tspan>\n",
       "    <tspan class=\"displacy-tag\" dy=\"2em\" fill=\"currentColor\" x=\"400\">DET</tspan>\n",
       "</text>\n",
       "\n",
       "<text class=\"displacy-token\" fill=\"currentColor\" text-anchor=\"middle\" y=\"222.0\">\n",
       "    <tspan class=\"displacy-word\" fill=\"currentColor\" x=\"575\">lait</tspan>\n",
       "    <tspan class=\"displacy-tag\" dy=\"2em\" fill=\"currentColor\" x=\"575\">NOUN</tspan>\n",
       "</text>\n",
       "\n",
       "<g class=\"displacy-arrow\">\n",
       "    <path class=\"displacy-arc\" id=\"arrow-2b9a3bb6cbf94633a6caafb9caae6d23-0-0\" stroke-width=\"2px\" d=\"M70,177.0 C70,89.5 220.0,89.5 220.0,177.0\" fill=\"none\" stroke=\"currentColor\"/>\n",
       "    <text dy=\"1.25em\" style=\"font-size: 0.8em; letter-spacing: 1px\">\n",
       "        <textPath xlink:href=\"#arrow-2b9a3bb6cbf94633a6caafb9caae6d23-0-0\" class=\"displacy-label\" startOffset=\"50%\" side=\"left\" fill=\"currentColor\" text-anchor=\"middle\">nsubj</textPath>\n",
       "    </text>\n",
       "    <path class=\"displacy-arrowhead\" d=\"M70,179.0 L62,167.0 78,167.0\" fill=\"currentColor\"/>\n",
       "</g>\n",
       "\n",
       "<g class=\"displacy-arrow\">\n",
       "    <path class=\"displacy-arc\" id=\"arrow-2b9a3bb6cbf94633a6caafb9caae6d23-0-1\" stroke-width=\"2px\" d=\"M420,177.0 C420,89.5 570.0,89.5 570.0,177.0\" fill=\"none\" stroke=\"currentColor\"/>\n",
       "    <text dy=\"1.25em\" style=\"font-size: 0.8em; letter-spacing: 1px\">\n",
       "        <textPath xlink:href=\"#arrow-2b9a3bb6cbf94633a6caafb9caae6d23-0-1\" class=\"displacy-label\" startOffset=\"50%\" side=\"left\" fill=\"currentColor\" text-anchor=\"middle\">case</textPath>\n",
       "    </text>\n",
       "    <path class=\"displacy-arrowhead\" d=\"M420,179.0 L412,167.0 428,167.0\" fill=\"currentColor\"/>\n",
       "</g>\n",
       "\n",
       "<g class=\"displacy-arrow\">\n",
       "    <path class=\"displacy-arc\" id=\"arrow-2b9a3bb6cbf94633a6caafb9caae6d23-0-2\" stroke-width=\"2px\" d=\"M245,177.0 C245,2.0 575.0,2.0 575.0,177.0\" fill=\"none\" stroke=\"currentColor\"/>\n",
       "    <text dy=\"1.25em\" style=\"font-size: 0.8em; letter-spacing: 1px\">\n",
       "        <textPath xlink:href=\"#arrow-2b9a3bb6cbf94633a6caafb9caae6d23-0-2\" class=\"displacy-label\" startOffset=\"50%\" side=\"left\" fill=\"currentColor\" text-anchor=\"middle\">obl:arg</textPath>\n",
       "    </text>\n",
       "    <path class=\"displacy-arrowhead\" d=\"M575.0,179.0 L583.0,167.0 567.0,167.0\" fill=\"currentColor\"/>\n",
       "</g>\n",
       "</svg></span>"
      ],
      "text/plain": [
       "<IPython.core.display.HTML object>"
      ]
     },
     "metadata": {},
     "output_type": "display_data"
    }
   ],
   "source": [
    "displacy.render(docx3,style='dep',jupyter=True)\n"
   ]
  },
  {
   "cell_type": "markdown",
   "metadata": {},
   "source": [
    "# Reconnaissance d’entités nommées (NER)¶\n",
    "On cherche à détecter les entités telles que des personnes, des entreprises ou des lieux dans un texte."
   ]
  },
  {
   "cell_type": "code",
   "execution_count": 59,
   "metadata": {},
   "outputs": [
    {
     "data": {
      "text/plain": [
       "La dirigeante birmane Aung San Suu Kyi a été arrêtée par l'armée, selon le parti au pouvoir"
      ]
     },
     "execution_count": 59,
     "metadata": {},
     "output_type": "execute_result"
    }
   ],
   "source": [
    "docx"
   ]
  },
  {
   "cell_type": "code",
   "execution_count": 60,
   "metadata": {},
   "outputs": [
    {
     "name": "stdout",
     "output_type": "stream",
     "text": [
      "('Aung San', 'PER')\n"
     ]
    }
   ],
   "source": [
    "for entity in docx.ents:\n",
    "    print((entity.text,entity.label_))"
   ]
  },
  {
   "cell_type": "code",
   "execution_count": 61,
   "metadata": {},
   "outputs": [
    {
     "data": {
      "text/plain": [
       "'Named person or family.'"
      ]
     },
     "execution_count": 61,
     "metadata": {},
     "output_type": "execute_result"
    }
   ],
   "source": [
    "\n",
    "# Explain\n",
    "spacy.explain('PER')"
   ]
  },
  {
   "cell_type": "code",
   "execution_count": 62,
   "metadata": {},
   "outputs": [
    {
     "data": {
      "text/plain": [
       "Des millions de résidents de Hong Kong peuvent désormais prétendre à un visa permettant de demeurer plus longtemps au Royaume-Uni, puis de demander la naturalisation britannique. Si Londres affirme offrir une porte de sortie à ceux qui veulent échapper à la répression chinoise, d’aucuns accusent le gouvernement britannique d’hypocrisie, la mesure concernant très peu de militants pro-démocratie."
      ]
     },
     "execution_count": 62,
     "metadata": {},
     "output_type": "execute_result"
    }
   ],
   "source": [
    "docx2"
   ]
  },
  {
   "cell_type": "code",
   "execution_count": 63,
   "metadata": {},
   "outputs": [
    {
     "name": "stdout",
     "output_type": "stream",
     "text": [
      "('Hong Kong', 'LOC')\n",
      "('Royaume-Uni', 'LOC')\n",
      "('Londres', 'LOC')\n"
     ]
    }
   ],
   "source": [
    "for entity in docx2.ents:\n",
    "    print((entity.text,entity.label_))"
   ]
  },
  {
   "cell_type": "code",
   "execution_count": 64,
   "metadata": {},
   "outputs": [
    {
     "data": {
      "text/html": [
       "<span class=\"tex2jax_ignore\"><div class=\"entities\" style=\"line-height: 2.5; direction: ltr\">Des millions de résidents de \n",
       "<mark class=\"entity\" style=\"background: #ff9561; padding: 0.45em 0.6em; margin: 0 0.25em; line-height: 1; border-radius: 0.35em;\">\n",
       "    Hong Kong\n",
       "    <span style=\"font-size: 0.8em; font-weight: bold; line-height: 1; border-radius: 0.35em; text-transform: uppercase; vertical-align: middle; margin-left: 0.5rem\">LOC</span>\n",
       "</mark>\n",
       " peuvent désormais prétendre à un visa permettant de demeurer plus longtemps au \n",
       "<mark class=\"entity\" style=\"background: #ff9561; padding: 0.45em 0.6em; margin: 0 0.25em; line-height: 1; border-radius: 0.35em;\">\n",
       "    Royaume-Uni\n",
       "    <span style=\"font-size: 0.8em; font-weight: bold; line-height: 1; border-radius: 0.35em; text-transform: uppercase; vertical-align: middle; margin-left: 0.5rem\">LOC</span>\n",
       "</mark>\n",
       ", puis de demander la naturalisation britannique. Si \n",
       "<mark class=\"entity\" style=\"background: #ff9561; padding: 0.45em 0.6em; margin: 0 0.25em; line-height: 1; border-radius: 0.35em;\">\n",
       "    Londres\n",
       "    <span style=\"font-size: 0.8em; font-weight: bold; line-height: 1; border-radius: 0.35em; text-transform: uppercase; vertical-align: middle; margin-left: 0.5rem\">LOC</span>\n",
       "</mark>\n",
       " affirme offrir une porte de sortie à ceux qui veulent échapper à la répression chinoise, d’aucuns accusent le gouvernement britannique d’hypocrisie, la mesure concernant très peu de militants pro-démocratie.</div></span>"
      ],
      "text/plain": [
       "<IPython.core.display.HTML object>"
      ]
     },
     "metadata": {},
     "output_type": "display_data"
    }
   ],
   "source": [
    "# Visualize Entities\n",
    "displacy.render(docx2,style='ent',jupyter=True)"
   ]
  },
  {
   "cell_type": "markdown",
   "metadata": {},
   "source": [
    "# Noun Chunk\n"
   ]
  },
  {
   "cell_type": "code",
   "execution_count": 65,
   "metadata": {},
   "outputs": [
    {
     "data": {
      "text/plain": [
       "'Des millions de résidents de Hong Kong peuvent désormais prétendre à un visa permettant de demeurer plus longtemps au Royaume-Uni, puis de demander la naturalisation britannique. Si Londres affirme offrir une porte de sortie à ceux qui veulent échapper à la répression chinoise, d’aucuns accusent le gouvernement britannique d’hypocrisie, la mesure\\xa0concernant très peu de militants pro-démocratie.'"
      ]
     },
     "execution_count": 65,
     "metadata": {},
     "output_type": "execute_result"
    }
   ],
   "source": [
    "ex2"
   ]
  },
  {
   "cell_type": "code",
   "execution_count": 66,
   "metadata": {},
   "outputs": [],
   "source": [
    "docx2 = nlp(ex2)\n"
   ]
  },
  {
   "cell_type": "code",
   "execution_count": 67,
   "metadata": {},
   "outputs": [
    {
     "name": "stdout",
     "output_type": "stream",
     "text": [
      "Des millions de résidents de Hong Kong\n",
      "au Royaume-Uni\n",
      "la naturalisation britannique\n",
      "Londres\n",
      "une porte de sortie à ceux qui veulent échapper à la répression chinoise,\n",
      "le gouvernement britannique d’hypocrisie\n",
      "la mesure \n",
      "de militants pro-démocratie\n"
     ]
    }
   ],
   "source": [
    "for noun in docx2.noun_chunks:\n",
    "    print(noun)"
   ]
  },
  {
   "cell_type": "code",
   "execution_count": 68,
   "metadata": {},
   "outputs": [
    {
     "name": "stdout",
     "output_type": "stream",
     "text": [
      "millions\n",
      "Uni\n",
      "naturalisation\n",
      "Londres\n",
      "porte\n",
      "gouvernement\n",
      "mesure\n",
      "militants\n"
     ]
    }
   ],
   "source": [
    "\n",
    "# Root Noun\n",
    "for noun in docx2.noun_chunks:\n",
    "    print(noun.root.text)"
   ]
  },
  {
   "cell_type": "markdown",
   "metadata": {},
   "source": [
    "# Similarité entre phrases (Similarity)¶\n"
   ]
  },
  {
   "cell_type": "code",
   "execution_count": 69,
   "metadata": {},
   "outputs": [],
   "source": [
    "\n",
    "d1 = nlp(\"La femme\")\n",
    "d2 = nlp(\"La fille\")"
   ]
  },
  {
   "cell_type": "code",
   "execution_count": 70,
   "metadata": {},
   "outputs": [
    {
     "name": "stderr",
     "output_type": "stream",
     "text": [
      "<ipython-input-70-edb55058f540>:1: UserWarning: [W007] The model you're using has no word vectors loaded, so the result of the Doc.similarity method will be based on the tagger, parser and NER, which may not give useful similarity judgements. This may happen if you're using one of the small models, e.g. `en_core_web_sm`, which don't ship with word vectors and only use context-sensitive tensors. You can always add your own word vectors, or use one of the larger models instead if available.\n",
      "  d1.similarity(d2)\n"
     ]
    },
    {
     "data": {
      "text/plain": [
       "0.9420617724548476"
      ]
     },
     "execution_count": 70,
     "metadata": {},
     "output_type": "execute_result"
    }
   ],
   "source": [
    "d1.similarity(d2)\n"
   ]
  },
  {
   "cell_type": "code",
   "execution_count": 71,
   "metadata": {},
   "outputs": [],
   "source": [
    "d3 = nlp(\"Le chat\")\n"
   ]
  },
  {
   "cell_type": "code",
   "execution_count": 72,
   "metadata": {},
   "outputs": [
    {
     "name": "stderr",
     "output_type": "stream",
     "text": [
      "<ipython-input-72-b7eb80e60c7f>:1: UserWarning: [W007] The model you're using has no word vectors loaded, so the result of the Doc.similarity method will be based on the tagger, parser and NER, which may not give useful similarity judgements. This may happen if you're using one of the small models, e.g. `en_core_web_sm`, which don't ship with word vectors and only use context-sensitive tensors. You can always add your own word vectors, or use one of the larger models instead if available.\n",
      "  d1.similarity(d3)\n"
     ]
    },
    {
     "data": {
      "text/plain": [
       "0.27243439295207644"
      ]
     },
     "execution_count": 72,
     "metadata": {},
     "output_type": "execute_result"
    }
   ],
   "source": [
    "d1.similarity(d3)\n"
   ]
  },
  {
   "cell_type": "markdown",
   "metadata": {},
   "source": [
    "# Word Embeddings (Embedding par mot)¶\n"
   ]
  },
  {
   "cell_type": "code",
   "execution_count": 73,
   "metadata": {},
   "outputs": [
    {
     "data": {
      "text/plain": [
       "La dirigeante birmane Aung San Suu Kyi a été arrêtée par l'armée, selon le parti au pouvoir"
      ]
     },
     "execution_count": 73,
     "metadata": {},
     "output_type": "execute_result"
    }
   ],
   "source": [
    "docx"
   ]
  },
  {
   "cell_type": "code",
   "execution_count": 74,
   "metadata": {},
   "outputs": [
    {
     "data": {
      "text/plain": [
       "spacy.tokens.doc.Doc"
      ]
     },
     "execution_count": 74,
     "metadata": {},
     "output_type": "execute_result"
    }
   ],
   "source": [
    "type(docx)\n"
   ]
  },
  {
   "cell_type": "code",
   "execution_count": 75,
   "metadata": {},
   "outputs": [
    {
     "name": "stdout",
     "output_type": "stream",
     "text": [
      "La [ 2.7239838  -5.33751    -3.612124   -5.0036325  -4.7467356   6.8092175\n",
      "  1.8022797   8.184629   -4.647462    2.8641949  -2.8800702   5.4379716\n",
      " -0.51180613 -1.1533641  -0.7045096  -8.510357   -4.897414   -5.3364234\n",
      "  3.3279872   0.4970029  -5.009227    6.6146436   1.0727687   2.9376945\n",
      "  7.11073     5.939201    2.0945914   5.2835603  -6.7388253   6.7657776\n",
      "  4.0376854  -1.6417173  -5.3840322  -0.7003439   5.3074946  -0.28463492\n",
      "  3.180109    0.546779   -2.9016783  -2.4750273   2.1896014  -1.0262641\n",
      " -1.5383054  -8.43798    -2.876697    8.20481     4.2918587   7.6152477\n",
      " 10.666962   -3.7049742   5.5176682  -0.7998209  -4.2032094   6.880784\n",
      " -5.288034    7.550997   -4.578975    0.09436488  0.35011694 -4.2218056\n",
      " -0.8437268   3.8410666  -7.8784304   1.0609825   4.524982   -3.955465\n",
      " -5.331907    5.5164757  -5.2345915  -6.104292   -4.680516    0.03844869\n",
      " -4.149268   -5.9323645   3.5765195   6.7435284   2.0347204  -6.0346003\n",
      " -6.976993   -4.576661   -1.2251064  -0.5032511  -0.89670104  7.1815567\n",
      "  4.4910884   2.365555    4.9359713  14.170066    6.869505   -1.7877594\n",
      "  0.6846303  -4.554058   -7.9111366  -5.052554   -7.1931753  -1.4001008 ]\n",
      "dirigeante [ 6.811447   -3.8864064   4.0177374  -1.7987595   7.7707396   1.323203\n",
      " -2.6819177   8.381594    3.311561    0.4305181  -6.952275    2.112312\n",
      " -4.242747    4.2749104   4.143753    4.5387588  -1.5913708  -0.4833282\n",
      "  7.5616083  -0.2384901  -2.7459855  -1.4902779  -9.002196   -5.3823147\n",
      "  0.8775828   3.4880614  -6.558259   -4.474682   -5.4385796   0.08626238\n",
      "  0.9193741  -4.9210987   3.3360353  -5.4203415   5.288948   -6.4301577\n",
      " -2.1402981  -3.934467   -2.154353   -9.996755   -1.9315659   4.056614\n",
      " -1.30599    -7.7357254   5.8252287   9.302629   -4.528899    5.73852\n",
      "  4.481309   -3.9958267  -3.6772597   6.6399612   6.214961    7.4876347\n",
      " -3.0550773   5.915889   -2.6852648   0.05277756 12.461301    3.6607928\n",
      " -0.17186534 -9.521848   -1.9633751  -2.8673148   4.0952554   3.63872\n",
      "  0.68869007  1.7484014   2.3509524  -2.1143627   0.24377692 -8.171449\n",
      " -2.3038695  -5.840024   -8.409567   -5.4794846  -1.6292632  -2.8712204\n",
      "  3.637212   -0.21426381  8.236897    1.5496624  -1.9333355   5.9354415\n",
      "  5.080552   -3.93804     3.9017181  -1.0281035  -0.18317509  3.7330098\n",
      "  0.9662187  -3.5848343   1.2993027   3.6047688  -1.9087362  -5.667106  ]\n",
      "birmane [-2.2501807  -1.7808853  -1.2785997  -2.1091237   4.4670024   2.840045\n",
      " -3.4990625   5.766616    6.4673605  -3.9721804   1.8415217   4.329628\n",
      " -7.123766   -3.4810393   5.6463327  -0.36578938  5.18622    -1.825942\n",
      "  1.7441071   3.4622095  -7.02764    -0.5102124  -1.9960083   2.1014285\n",
      " -1.7981684  -0.85825294 -1.0727291   6.8400183   3.092386   -2.242075\n",
      "  7.0702896  -3.0874662   4.9909596  -6.49983    -0.32334793 -7.0183706\n",
      " -2.4835522  -3.797114   -8.578823    2.0386007   2.2920163  -0.9693178\n",
      " -2.7904334  -3.730245   -3.158646   -3.5447588  -7.4261246   0.51147085\n",
      "  5.563854   -2.2873178  -7.8534074   8.472241   -0.7123539  -1.0145713\n",
      " -6.705868    7.800325   -6.303507    0.8533414   4.4981203   4.503867\n",
      "  5.4457684  -4.236705    4.082269   -5.348085    8.069685    6.7081113\n",
      " -1.4701682   2.0345721  -1.1576593  -5.5533347  -3.7966492  -4.212788\n",
      " -3.5801435  -0.17416608  3.6033344  -6.2387924   0.5243161   4.245721\n",
      " -6.0538383   2.317438    4.213713    2.0651917  -3.7248113  -4.0298033\n",
      "  0.6426856   2.4851322  10.174104   -1.1201515   3.029091    6.7251897\n",
      "  1.0018475  -3.3111153   2.869761    6.2002506  -3.5431976  -0.48793972]\n",
      "Aung [  4.6211605    1.2763658    9.312005     1.4057174    1.0363882\n",
      "  -2.9718387   -0.64309424   2.3861213    3.5618098   -0.78445816\n",
      "  -4.861928    -2.2168005   -7.820777     6.098445     8.6907\n",
      "  -1.1888494    0.11985308  -1.8915639   -2.8197267   -2.898325\n",
      "  -5.126313    -0.98959553  -0.4110042   -3.4872363   -4.8232207\n",
      "  -6.84991     -2.995722     1.7911764    1.6945999    0.7402796\n",
      "  -1.4820354   -5.7043324    9.379607    -7.654063     3.612302\n",
      "  -4.8921523   -1.4577556    0.98979914  -7.173438    -1.6731546\n",
      "  -6.5421753    9.416904    -3.9464734   -1.5719137    0.10399199\n",
      "  -2.4184709   -5.1749477   -0.40681332  -2.1125233   -3.677482\n",
      "  -4.0565796    1.7526215    6.592167     0.40577024  -6.136864\n",
      "   8.641792    -7.725513    -3.0127583    5.2398443    4.052423\n",
      "   6.3193307   -4.306259     0.80592376   0.73407924   4.7626305\n",
      "   9.221142     4.557268     1.0449209   10.254098    -3.332171\n",
      "  -4.6391554   -3.240821    -0.6546242    1.227967    -2.1393597\n",
      "  -6.8043914   -0.70855534   2.9774413   -3.4629316    3.3449209\n",
      "   7.0169334    4.543127     4.7226634    0.7303054    2.3217318\n",
      "   1.6446546   -0.37157667  -6.050634    -0.03367317  10.499044\n",
      "   2.122049    -1.4991257    1.3757547    8.149576    -1.503037\n",
      " -10.982894  ]\n",
      "San [  3.8014345   -2.798377     2.369663    -2.6301708   -0.96544456\n",
      "  -2.4855301    2.4134893    6.4134974    5.8516273   -5.8236885\n",
      "   6.381667    -7.494676     1.6946212   -4.9520516    1.867486\n",
      "  -4.032299     7.414581    -2.9567602  -11.432968    -1.355537\n",
      "  -9.091316     2.049729     0.3091976   -1.2321556    0.10350043\n",
      "  -4.1292744    3.9570909    6.8342657    3.095776     4.0566897\n",
      "  -6.373573    -4.9902725    3.2973914   -4.2195826    3.9870641\n",
      "   3.677903     4.325753    -1.1819941   -3.1613398    5.9829807\n",
      "  -1.9713056   -3.5439692   -1.9174508   -3.4148538   -7.5468974\n",
      " -10.564209    -4.3193274   -5.8565655   -4.119544     5.539408\n",
      "  -5.0265093   -1.3079218    5.552201    -0.8656       5.2144623\n",
      "   3.6700397   -0.8890556   -2.1717215   -6.5267224    0.02905598\n",
      "   0.35052592   6.699703    11.917102    -3.619299     2.9129455\n",
      "  -0.58479345   5.560279     5.3849206    2.5481591    2.0643077\n",
      "  -7.782445     1.1506156    0.6912086    4.753298    -1.6680222\n",
      "  -3.1485972    7.8550143    2.6128848    0.4109454    5.85032\n",
      "   1.9786528    4.872245    -1.230665    -9.255677    -4.059247\n",
      "   2.8413172    0.854079     2.1390443   -1.6714892    5.3075643\n",
      "  -5.5497117    4.070312     1.1927726    1.0595579   -2.0927365\n",
      "  -3.7687926 ]\n",
      "Suu [ -0.39310133  -3.190407     3.9090002    0.04622483  -4.563755\n",
      "   1.1473668   -2.0834737    2.1641989   10.537795     1.9547997\n",
      "   6.3308816   -0.60048676  -3.4748325   -4.324399     0.28628185\n",
      "  -8.686049     5.149195    -0.16632146   0.58749485  -2.5181174\n",
      "  -1.5651544   -5.582389    -0.19587386  -0.76030153  -1.5780729\n",
      "  -2.264177     6.598522     6.053571     3.3577094    2.9366362\n",
      "   1.454103    -6.1395683    3.8801105   -0.954545     4.824155\n",
      "   5.5272512    1.5404134   -0.90988606  -7.5172167    4.566966\n",
      "  -1.95608      7.529974    -5.131213    -0.9648094   -6.4757795\n",
      " -11.316143    -1.8115909   -3.054552    -2.7558768    0.7267237\n",
      "  -2.7510586    0.7787036    2.5940924  -12.341854    -1.5945421\n",
      "   8.542129     0.4972447   -8.033042    -0.5470818    0.02603963\n",
      "  -5.8132267    4.002637     6.221234    -5.1611805    1.7521695\n",
      "   3.8743029    4.623642     3.7574468    2.9252462   -1.8966144\n",
      "  -3.448948     7.1498785   -0.62597      1.3467829   -1.6532216\n",
      "  -2.1159387   -2.7531772    2.558325     0.9913166    2.7324996\n",
      "   1.30343      0.35253173   2.7599428  -10.857981     0.83809984\n",
      "   5.166747    -1.7228287   -5.8059473    2.8257926   -0.28314447\n",
      "   0.9211386    1.7396501    8.09443      0.9861745    4.9783607\n",
      "  -6.702417  ]\n",
      "Kyi [  5.09115     -2.4681282    2.7574034    1.4438787   -2.877283\n",
      "   3.4082336   -0.7554061    1.8312413    4.9096265    1.8226377\n",
      "   4.4062605    3.2399478    0.09578767  -4.3856277   -2.24573\n",
      "  -5.336882     7.31538     -1.6791446   -7.003047     4.8834934\n",
      "  -4.6627154   -3.4085212    5.774087    -2.5317705   -4.944434\n",
      "  -1.4256041    5.942437    10.141672    -2.341178     0.69276613\n",
      "  -1.5744724   -1.0000936    1.2265437  -10.115357     0.8953305\n",
      "  -1.40306      5.35585     -3.0948815   -4.32537      2.2462265\n",
      "   2.347324     6.6303835   -6.5091825    3.2329187   -8.208693\n",
      "  -7.6357493   -4.528839    -3.1319013    2.3326592    3.5934308\n",
      "  -0.57935816  -3.8339703   -0.30218026  -5.331514    -7.5838413\n",
      "   8.413231     0.49273306  -5.961116    -0.9296766   -0.15814959\n",
      "  -5.711361     8.186834     2.6133828   -1.3552879   -0.3382041\n",
      "   6.574337     0.08580646   8.751243     0.05359244   0.4117012\n",
      " -11.93161      4.4601765    0.17363286   1.1573408    2.6382813\n",
      "  -1.7610806   -2.2389333    6.8082476   -0.45230618  -4.0257416\n",
      "  -4.4175787   -0.86821795  -4.061169    -4.3366756   -1.707249\n",
      "  15.441257     3.6425781   -5.881056     3.9181974    2.4491844\n",
      "   1.5520728    0.26112282   3.5384498    2.0114324    0.5129707\n",
      "  -2.8941321 ]\n",
      "a [ -3.3547823    1.7110077   -3.4639077   -0.27115142   3.364769\n",
      "  -2.2008057   -9.308368     7.1092896   -0.81088936   4.4349008\n",
      "   0.7567905    6.845751    -1.4639492  -10.849019     6.887167\n",
      "  -0.07696652   4.455474     1.0383484    2.9357772    3.020585\n",
      " -10.176104    -1.0285195    8.0612135   -1.5514284   -5.366697\n",
      "  -1.4162269    1.8725863    5.3324575    3.1595724    0.69709206\n",
      "  -1.1760515   -0.23766702  -0.37985498  -5.5646734   -7.134578\n",
      "  -7.8028393   -2.6222444    4.644728     2.4247155    0.61909914\n",
      "   9.177124     2.6370952   -1.6179663    0.46597838   1.4194279\n",
      "  -4.102804    -0.5791087   -6.7891912   -6.875771    -2.7873197\n",
      "   1.0431612   -2.8715353   -5.4360085   -2.12745     -8.14583\n",
      "   8.534021    -1.0864413    6.8004456   -2.430091    -3.6625304\n",
      "   6.166145    -5.7355886   -3.5619917   -3.4011626   -5.919093\n",
      "   2.0698264   -0.7552286    6.905579    -4.0607724    2.0311074\n",
      "  -7.5116324   -4.267144    -0.40783173   5.0065556    4.7698317\n",
      "  -2.4292612   -0.03529835  -1.9234132    5.3869476   -2.9266908\n",
      "  -4.000885    -3.0085983   -0.5357717    5.406307     7.104721\n",
      "  11.780737     7.330725    -3.957242     4.631941     0.6262294\n",
      "   2.759976    -1.1525571    6.906278    -0.10282658  -3.5863636\n",
      "   5.949804  ]\n",
      "été [  0.9479883   -4.6523666   -4.8564005   -4.7974606    1.7040815\n",
      "   2.5281591  -11.679187    -5.8517904   -0.59309     -5.959226\n",
      "  -8.048246    -3.1274867    1.7969785   -1.8967755    9.183043\n",
      "   2.843734    -2.6772323   -1.4053515    4.49694     -1.1094804\n",
      "  -3.7409763   -1.9971356    0.96114296   0.27980116  -1.7601092\n",
      "  -1.0885873   -4.761578     5.255714     6.007359     2.4745421\n",
      "   1.4030465   -2.0817637    4.7536707    7.005286    -3.3911815\n",
      "   0.43528152  -4.0946174    3.6190872   11.586149     8.280824\n",
      "   8.178659     1.356025     4.1161604   -5.760482     5.7879057\n",
      "  -4.921298     6.243189    -5.7333975   -3.0077224   -6.8138704\n",
      "   4.713577    -0.37250024  -7.0882087   -0.93864536   0.4627874\n",
      "  -3.0112667    3.429744     0.8576553   -3.940819     4.623576\n",
      "   3.063369     3.9115756   -3.6914103   -1.6641748   -3.8019218\n",
      "   2.965662    -6.685833    -5.946612     0.96593654  -4.5051885\n",
      "   0.2742713    8.02171      0.76541126   1.5750322    5.6637473\n",
      "  -3.1695495   -0.10180926  -3.25415     -2.3612494   -1.0342686\n",
      "  -7.5704803    0.78996205   2.6725345    3.6713924    5.7301016\n",
      "   1.8591001   -3.0924404   -4.039619     6.544327    -4.4167376\n",
      "   3.324938     1.0717132   -3.7932644    8.328761     1.6896436\n",
      "   1.3110478 ]\n",
      "arrêtée [  3.7617135   -1.0670133   -1.7606345   -7.9881506    3.990211\n",
      "   6.38022     -1.4625187   -8.289694    -0.6301827    5.982723\n",
      "  -3.4889328   -0.30830288  -2.1531177    4.3882103   -0.45573646\n",
      "  -1.1164387   -2.92521     -2.310768    -3.286017     8.409868\n",
      "   6.660714    -2.541208    -9.535604     4.443608     5.348298\n",
      "   0.771269    -6.407321    -8.797474    -1.3471627   -4.4828644\n",
      "   6.2881207    6.2391577    2.1486712    3.9732895   -4.8390675\n",
      "  -1.132859     1.7415588   -8.259098    -1.62148      8.685987\n",
      "   1.9970152   -1.8563901    5.6893206    0.41537476   7.579176\n",
      "   3.9636002   -3.5828798   -4.572273     3.8532827    3.8402998\n",
      "  -0.87756324   3.386388     5.7675705    2.4560938    5.43663\n",
      "  -5.4217825    5.334541     2.0733275   -5.1005974    2.2829757\n",
      "  -2.5458562   -6.3180075   -2.3415456    1.8438377   -0.80748045\n",
      "   7.602729     7.3774776   -6.109092     0.40410084  -1.5063825\n",
      "   3.098878     5.4354653    1.365161    -7.034724     6.3172717\n",
      "  -2.4402263   -4.675652     3.1296859   -3.8713665   -1.2332437\n",
      "  -2.442827     0.66119635   5.688957    -3.1522045    1.5271486\n",
      "  -4.9586687  -10.105391    -4.4464235   -0.9555695   -3.8184748\n",
      "  -2.7953384   -1.8590269   -3.2980187    0.80639017   4.036406\n",
      "   1.8603907 ]\n",
      "par [-7.619129   -3.3623753  -3.4334452  -3.5235665  -6.5058203  -4.9366083\n",
      "  7.524139    2.9197197  -1.7846854   2.2041097   4.5715275   4.1436477\n",
      " -4.860708    0.14281619  0.36034638 -2.4743998  -1.8278852  -3.8452456\n",
      "  5.764755    2.4813318   0.7586172   2.866091   -3.445282    2.9058118\n",
      "  3.7220817   4.1014814   5.9648995  -4.229861   -6.0997715  -8.664436\n",
      "  1.703217    0.09072161 -3.1420386  -3.5496979   4.5457315  -1.4508134\n",
      "  5.239938   11.582933   -2.4424152  11.383413    0.6158123  -6.9291253\n",
      " -1.7105191  -3.912289   -0.61364985 -2.792258   -3.8855224  -5.5876503\n",
      " -2.8698964   1.4069905   2.7161076   7.721025    0.03736892 -2.6843507\n",
      "  0.48680687 -3.3753314  -2.5355756  -5.038974    4.9299836   4.096344\n",
      " -6.1706033  -1.468275    1.0819801  -1.2403361  -3.1798375  -4.9304185\n",
      "  7.9412413   5.891201   -0.08702743  3.6949542   2.436328   -6.5445986\n",
      "  5.4965158  -5.421193    3.7436101  -2.2756057   1.3688889  -3.897503\n",
      "  3.8897426   2.5014615   5.4749217   1.4908204  -6.610157   -4.92818\n",
      "  6.915901    6.337319   -0.46942618 -3.079716   -4.2578816  -3.7607007\n",
      " -3.0987668   8.731121    7.9041457   3.7298398  -4.718273   -0.9407012 ]\n",
      "l' [ 1.9904425  -1.8624477  -0.780494   -1.1138994  -5.43607     2.4878402\n",
      " 10.45342    -0.08353786 -0.16258627  0.78839475 -0.5782806   5.3303714\n",
      " -3.8655553  -7.107283    7.0369415  -7.019708   -5.383509    2.4682286\n",
      "  0.20636332 -1.7248837  -5.781465   11.00729    -4.2763176  -0.5330871\n",
      "  3.1287882   8.011566    1.5418814  -0.97055674  4.0586677   9.290111\n",
      " -0.01135755 -4.8051786  -2.5709662   5.441224    3.3543618   5.563697\n",
      "  4.0352798   2.4932914  -4.6321044  -3.9324455  -0.76326466 -3.8254614\n",
      " -2.325917   -2.2756066  -5.5844088  -2.4784741   3.9275165   7.4026175\n",
      "  8.883458   -5.0552025  -2.215672   -2.422872    6.082434    6.4759107\n",
      "  4.4308176  -1.1406207  -7.6520004   2.5878377   1.6798626  -3.9868717\n",
      " -2.0297706  -5.27864    -3.0707588  -0.86157435 -2.4806404  -9.095483\n",
      "  1.3495237   0.7896074  -4.0740724  -4.1597548  -3.6249552  -5.8579507\n",
      "  1.945847   -4.139384    8.726681    4.078501    5.2880926  -3.3839574\n",
      " -0.01416773 -4.2953067   4.2185345  -2.395142    5.349752   -3.7346632\n",
      "  3.6673446  -5.6586304  -0.59896445  9.57886     2.9698005  -0.10314137\n",
      " -4.20076     3.842229   -3.4773371   0.026842   -9.6439495   4.0101514 ]\n",
      "armée [ -6.68588     -3.238214     5.317827     2.992481     4.576919\n",
      "   2.5710602   -4.5397882    1.950024     1.9914919    0.877017\n",
      "  -4.8465443   -6.308648    -3.780045     6.885271     1.662622\n",
      "   6.061752    -6.5794425   -2.2543259   -2.81627      1.8730022\n",
      "  -3.2346396   -0.07936329  -0.12946406   2.3594534    2.359182\n",
      "  -0.42472637  -5.8857517    6.055682     3.688332    -3.6422698\n",
      "   6.303368    -7.535178     8.778009    -3.9386349   -0.6936973\n",
      "  -6.213042    -3.2388859   -2.7577763   -1.746296    -3.1352215\n",
      "  -7.109155     5.959508    -3.549481     0.02343535   3.7386703\n",
      "   2.9815984   -0.45832276  -2.045448     3.926575    -4.546128\n",
      "  -5.3840084    9.233093     1.4921179    3.782598    -2.5765452\n",
      "   8.779931    -2.1353889    2.3890378    7.9000516    1.2512989\n",
      "   8.308965    -4.466255     1.027717    -1.727603     7.6770744\n",
      "   5.67544      3.3416193   -8.604486     4.3357005   -5.8889594\n",
      "  -0.4591087   -4.3105497   -4.394566    -6.0520363   -6.4391546\n",
      "  -3.4996948   -0.17076525   0.51472455  -0.60020316   4.291363\n",
      "   5.8287144   -3.3304167   -4.4690733   -1.7199013    1.0013776\n",
      "   0.5407264   -1.8152083   -7.1615705    6.547482     6.2489595\n",
      "   3.8510056   -2.3687713    2.0540228    5.347215     5.564715\n",
      " -10.421397  ]\n",
      ", [  1.2485721   -4.774416    -3.9004202   -8.817568    -1.2279813\n",
      "  -3.3339477    1.1097523   -0.39158      4.4251785   -8.648395\n",
      "   3.2365239    4.767029    -4.776455    -8.382256    -1.6631324\n",
      "  -3.4334886    9.012178     6.7227383    0.9280843    4.7521696\n",
      "  -0.8563045   -4.129547    -1.0414627    2.3134677    4.664555\n",
      "   6.149694     3.0137503   -2.8948007   -2.0230145    0.9222578\n",
      "   2.7050724   -0.39785394  -2.9441216   -5.9280148    1.1068217\n",
      "   1.0737864   -0.38678342 -10.02762     -5.630708     6.3272457\n",
      "   8.067109    -7.291554     1.2894217   -5.5138903   -4.985067\n",
      "   1.0809119   -2.7762597    2.0794272   -3.5633237    5.9412107\n",
      "  -4.0655966    3.793686    -1.5174804   -4.931282     4.200294\n",
      "  -3.7225626    0.08782971   6.8235455    2.3678482    2.577602\n",
      "  -6.4986224   -1.4365164    3.7143047   -5.5866528    3.9651036\n",
      "   0.6322163   -2.7023091    0.08618438   7.3142796   -2.660603\n",
      "  -0.2894578   -3.3371587   -0.57109123  -1.375407     1.3573749\n",
      "  -5.7170815   -2.2664442    5.4116287   -4.8635097    7.141711\n",
      "   4.670361     2.1503406   -2.4686298   -2.2152538    4.8291683\n",
      "  -3.2361808    1.1747612    6.5740824   -9.065543     5.858508\n",
      "   5.7720246    4.7346888    1.5797976    0.30643684  -2.676838\n",
      "   9.806176  ]\n",
      "selon [ 0.6976439  -4.3489017   1.9543352   1.1545161  -0.31049788 -5.4044676\n",
      "  3.6890633   3.3266087   5.803554    2.436545    0.8917653   2.933848\n",
      "  0.02812827 -6.7390814   1.3708893  -3.7455907  -4.159611   -2.872096\n",
      " -0.05824298  1.53622    -1.3032165   3.1970613  -9.183781    1.5313245\n",
      "  4.0969253   2.223833    4.1234436   0.26527455 -4.3349543  -6.456736\n",
      " -2.3153894  -2.5645347   0.19129658 -5.297891   11.382198    2.0042353\n",
      "  3.3207474   7.1669087  -4.801646    7.859031    2.7079997  -6.155673\n",
      " -0.76064414 -0.58713746 -2.152988   -3.710818   -3.9490983  -9.985416\n",
      " -0.3828299  -6.315204    3.4797657   5.861048   -3.938554   -2.0535645\n",
      " -5.2795444   2.256998   -4.245512   -8.54132     2.8187118   6.8366804\n",
      " -7.4775324   0.9638088   5.1751475  -3.3740406  -4.532235   -5.9124618\n",
      "  7.026809    3.533095    1.5399116   1.9999685   0.85703444 -2.2379155\n",
      "  6.118718   -7.732342    1.4858291  -1.8466971   0.30408707 -4.685437\n",
      "  4.1352625   6.5735636   3.304884    0.49209887 -0.40561587  3.4869146\n",
      "  2.04504     4.3156314  -2.8000798  -1.4508843  -4.918829   -2.596751\n",
      "  1.9203916   1.973746   11.682729    8.813123   -1.0676359  -3.2689548 ]\n",
      "le [-2.0144355   0.39045677 -8.118704   -4.3870597  -3.7922595  -0.40356827\n",
      "  9.78681    -4.6752653  -2.5209641  -4.4319925   5.266542    4.58669\n",
      " -9.079984    3.0236745   0.05825379 -7.161229   -2.8505805   0.56581247\n",
      "  2.0336308   0.43271393  4.9588013   7.6937456  13.125972    3.478927\n",
      " -0.7636099  -0.9592601   9.062323    1.4485623   5.087823    1.2600048\n",
      "  7.314081   -0.21888316 -2.4512982   7.755265    6.473617   -1.1647513\n",
      "  3.1042633   2.0265427  -1.08569    -4.493035   -4.893354    6.5164723\n",
      " -3.4965346   6.799469   -5.087734    7.1546445  -0.7818719   7.5177217\n",
      " -4.420381   -8.3157835  -0.5944933  -1.5341048   1.017797   -1.5059352\n",
      " -2.7342024   0.31942403 -7.700825    1.5352951   6.0931582  -2.4127073\n",
      "  1.8723621  -8.922091   -0.52791655 -7.507259    1.0586582  -1.8300824\n",
      " -2.623726    0.2486552  -8.708454   -5.2891865   4.7895803   5.332074\n",
      " -5.399556    6.1221457   0.6623697   4.8443456   1.997732    3.948548\n",
      " -0.19094002 -1.7733302   4.0445814   2.2195592  -4.323389    1.1615555\n",
      " -1.2207208  -0.9204661  -3.097587    4.4464283  -2.6590939  -5.1452446\n",
      " -4.468959    0.06082022 -2.5711575  -1.5236921  -8.360006    5.958737  ]\n",
      "parti [  4.4574656   -0.5011182   -0.9973225    0.86091554   0.72617126\n",
      "  -1.079861     0.01438428  -0.1359455    2.277557    -5.8285203\n",
      "  -2.1840262   -0.2403335   -0.8534141    1.8896539    0.6795252\n",
      "   4.1364136   -1.8565203   -3.723565    -7.2520943    0.49348593\n",
      "  -3.8193712    4.3178644    2.5791795   -3.7039835    0.09757507\n",
      "   2.0607429    5.2452197   12.1684       4.564296     5.33772\n",
      "   2.9998376   -4.569753     4.3103657  -12.172846     6.5658255\n",
      "   1.5624443    7.7027707   -2.4206724   -0.21433672  -6.9431305\n",
      "  -2.9808483    9.781838    -6.5726614    4.948487     1.6096876\n",
      "  -5.440593     0.9361085   -0.87043154  -4.9415126   -5.9584327\n",
      "  -2.8509674   -4.445868    -2.1331563   -6.4776835   -3.9628491\n",
      "  -0.12979025  -8.08406     -7.4803715    6.860503     1.5546486\n",
      "   0.26500902   1.942049     5.313847    -5.0924883    2.5896342\n",
      "  -0.10792413   5.154369    -5.05951      1.102982    -2.1488829\n",
      "  -1.5559852    4.0231776    8.431183     1.3500534   -7.1743937\n",
      "  -0.15931177   4.7981486   -1.6151812   -2.8195825    3.7874565\n",
      "   3.1427703   -2.9804738   -8.906826    -3.8073647   -7.8695965\n",
      "   9.059186    -2.4749966   -9.1729       6.9366436    5.394879\n",
      "   9.573212     0.33014834   3.2274442    1.6917697    7.46528\n",
      "  -5.6474724 ]\n",
      "au [ 0.08247566  7.465418   -6.9320374  -2.2496276  -6.661763   10.398094\n",
      "  4.2622776  -0.5257164   1.8089116  10.016958    3.1395252  -5.3344107\n",
      " -2.7653322  -5.2808857  -3.006983    0.81047475  7.9673676  -2.1257758\n",
      " -1.0783559  -1.4759395   1.2577467   1.6584755   7.4822655   3.2951572\n",
      " -4.1026907   0.96456814  6.3697777   4.362584   -0.39366174 -2.3974738\n",
      " -1.1178315   0.8169722  -2.5316663  -6.9848394  -2.9234395  -2.0178747\n",
      "  6.20317     1.1726687  -4.08611     0.6439774  -1.9206277  -3.6299431\n",
      " -9.850101    3.5091746   1.6992772  -3.3031883  -6.018099    1.196829\n",
      " -8.638271   -1.0052887   4.410219   -5.5326877   0.39610714 -4.686938\n",
      " -2.8374667   2.1005914  -2.8866315  -1.8496895  -2.4676554  -4.588467\n",
      "  2.5186956  -0.98169374  5.210785   -4.8983197  -4.426789   -5.250464\n",
      "  8.127788   10.90387     0.8729054  -1.1214908   4.002377   -5.4327364\n",
      "  3.2047656  11.007483   -1.2614214  -1.567386    4.554484   -1.9538288\n",
      " -1.3877525  -2.1932364  -0.5759193   0.18175733  0.6576794   4.0846767\n",
      "  4.28653     6.819765    0.66965234  3.23377    -5.3561473  -0.39500666\n",
      " -3.4796062   2.9875257  -2.1492465   6.3670335   0.19032604 -7.6163445 ]\n",
      "pouvoir [ -1.555778    -3.5628452   -2.4981656   -4.8310747   -0.6850378\n",
      "  -4.5573277    3.2224374    0.15851122   0.6372993   -5.2186193\n",
      "  -2.4296389   -4.00697     -3.9701262   -0.24032074   6.5923386\n",
      "  -2.1355617    2.6431165    2.7352207   -7.118137     8.377266\n",
      " -10.439344     0.9803613   -5.562498    -4.530416     5.354704\n",
      "   0.52589124  -1.1901507   10.262133     0.5922491   12.023247\n",
      "   2.1829462   -4.761412    -0.3014851   -6.677556     4.4508038\n",
      "   1.510767     5.318747    -5.8456035   -5.2865143   -1.5246009\n",
      "   3.1961923   -2.6181893   -1.1831164   -6.6043315    1.1651319\n",
      "  -4.515538     5.3306327   -2.9749749   -0.49395686  -2.7789466\n",
      "  -2.2352452   -0.5494695   -0.9443904    0.82515454   6.3151636\n",
      "  -3.7609124   -2.457905    -2.3794222    3.9301288   -2.2701771\n",
      "  -7.9134884   11.950518     6.6870394    4.049723     0.61775637\n",
      "   3.201429    -0.35346863   1.3126295    2.3958657   -3.8708417\n",
      "  -5.4208856   -1.8570606    5.745891    -2.5148916   -7.6574802\n",
      "   3.6406605    4.8825088   -5.77793     -1.5157046    4.9492383\n",
      "   1.6562357  -12.171618    -3.0688138    1.0036875   -3.8278332\n",
      "   8.145102     4.38079     -3.2368538    3.9563217    4.885023\n",
      "   6.3713064    2.7436917    0.83903193   7.0871024    4.7680635\n",
      "  -1.1608642 ]\n"
     ]
    }
   ],
   "source": [
    "\n",
    "for word in docx:\n",
    "    print(word.text,word.vector)"
   ]
  },
  {
   "cell_type": "markdown",
   "metadata": {},
   "source": [
    "\n",
    "#### Removing Stopword\n",
    "#### Methods\n",
    "+ Spacy\n",
    "+ NLK\n",
    "+ Neattext"
   ]
  },
  {
   "cell_type": "markdown",
   "metadata": {},
   "source": [
    "# Method 1 :Utilise Spacy"
   ]
  },
  {
   "cell_type": "code",
   "execution_count": 76,
   "metadata": {},
   "outputs": [
    {
     "data": {
      "text/plain": [
       "La dirigeante birmane Aung San Suu Kyi a été arrêtée par l'armée, selon le parti au pouvoir"
      ]
     },
     "execution_count": 76,
     "metadata": {},
     "output_type": "execute_result"
    }
   ],
   "source": [
    "docx\n"
   ]
  },
  {
   "cell_type": "code",
   "execution_count": 77,
   "metadata": {},
   "outputs": [
    {
     "name": "stdout",
     "output_type": "stream",
     "text": [
      "La True\n",
      "dirigeante False\n",
      "birmane False\n",
      "Aung False\n",
      "San False\n",
      "Suu False\n",
      "Kyi False\n",
      "a True\n",
      "été True\n",
      "arrêtée False\n",
      "par True\n",
      "l' True\n",
      "armée False\n",
      ", False\n",
      "selon True\n",
      "le True\n",
      "parti False\n",
      "au True\n",
      "pouvoir False\n"
     ]
    }
   ],
   "source": [
    "for token in docx:\n",
    "    print(token.text,token.is_stop)"
   ]
  },
  {
   "cell_type": "code",
   "execution_count": 78,
   "metadata": {},
   "outputs": [
    {
     "name": "stdout",
     "output_type": "stream",
     "text": [
      "dirigeante\n",
      "birmane\n",
      "Aung\n",
      "San\n",
      "Suu\n",
      "Kyi\n",
      "arrêtée\n",
      "armée\n",
      ",\n",
      "parti\n",
      "pouvoir\n"
     ]
    }
   ],
   "source": [
    "\n",
    "for token in docx:\n",
    "    if token.is_stop != True:\n",
    "        print(token.text)"
   ]
  },
  {
   "cell_type": "code",
   "execution_count": 81,
   "metadata": {},
   "outputs": [
    {
     "data": {
      "text/plain": [
       "['dirigeante',\n",
       " 'birmane',\n",
       " 'Aung',\n",
       " 'San',\n",
       " 'Suu',\n",
       " 'Kyi',\n",
       " 'arrêtée',\n",
       " 'armée',\n",
       " ',',\n",
       " 'parti',\n",
       " 'pouvoir']"
      ]
     },
     "execution_count": 81,
     "metadata": {},
     "output_type": "execute_result"
    }
   ],
   "source": [
    "non_stopwords = [token.text for token in docx if token.is_stop != True]\n",
    "non_stopwords\n"
   ]
  },
  {
   "cell_type": "code",
   "execution_count": 82,
   "metadata": {},
   "outputs": [],
   "source": [
    "# Using Neattext\n",
    "# pip install neattext"
   ]
  },
  {
   "cell_type": "code",
   "execution_count": 83,
   "metadata": {},
   "outputs": [],
   "source": [
    "# Load Text Cleaning Pkg\n",
    "import neattext as nt\n",
    "import neattext.functions as nfx"
   ]
  },
  {
   "cell_type": "code",
   "execution_count": 84,
   "metadata": {},
   "outputs": [],
   "source": [
    "# OOP\n",
    "d = nt.TextFrame(ex1)"
   ]
  },
  {
   "cell_type": "code",
   "execution_count": 85,
   "metadata": {},
   "outputs": [
    {
     "data": {
      "text/plain": [
       "\"La dirigeante birmane Aung San Suu Kyi a été arrêtée par l'armée, selon le parti au pouvoir\""
      ]
     },
     "execution_count": 85,
     "metadata": {},
     "output_type": "execute_result"
    }
   ],
   "source": [
    "d.text\n"
   ]
  },
  {
   "cell_type": "code",
   "execution_count": 86,
   "metadata": {},
   "outputs": [
    {
     "data": {
      "text/plain": [
       "\"dirigeante birmane Aung San Suu Kyi arrêtée l'armée, parti pouvoir\""
      ]
     },
     "execution_count": 86,
     "metadata": {},
     "output_type": "execute_result"
    }
   ],
   "source": [
    "d.remove_stopwords(lang='fr').text\n"
   ]
  },
  {
   "cell_type": "code",
   "execution_count": 87,
   "metadata": {},
   "outputs": [
    {
     "data": {
      "text/plain": [
       "\"dirigeante birmane Aung San Suu Kyi arrêtée l'armée, parti pouvoir\""
      ]
     },
     "execution_count": 87,
     "metadata": {},
     "output_type": "execute_result"
    }
   ],
   "source": [
    "nfx.remove_stopwords(ex1,lang='fr')\n"
   ]
  },
  {
   "cell_type": "code",
   "execution_count": null,
   "metadata": {},
   "outputs": [],
   "source": []
  }
 ],
 "metadata": {
  "kernelspec": {
   "display_name": "Python 3",
   "language": "python",
   "name": "python3"
  },
  "language_info": {
   "codemirror_mode": {
    "name": "ipython",
    "version": 3
   },
   "file_extension": ".py",
   "mimetype": "text/x-python",
   "name": "python",
   "nbconvert_exporter": "python",
   "pygments_lexer": "ipython3",
   "version": "3.8.2"
  }
 },
 "nbformat": 4,
 "nbformat_minor": 4
}
