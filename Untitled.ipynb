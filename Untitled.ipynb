{
 "cells": [
  {
   "cell_type": "markdown",
   "metadata": {},
   "source": [
    "# spacy"
   ]
  },
  {
   "cell_type": "code",
   "execution_count": 1,
   "metadata": {},
   "outputs": [],
   "source": [
    "import spacy"
   ]
  },
  {
   "cell_type": "code",
   "execution_count": 2,
   "metadata": {},
   "outputs": [],
   "source": [
    "nlp = spacy.load('en')"
   ]
  },
  {
   "cell_type": "code",
   "execution_count": 3,
   "metadata": {},
   "outputs": [],
   "source": [
    "doc = nlp(u'John works at Google in London which is big city in the United kingdom.')"
   ]
  },
  {
   "cell_type": "code",
   "execution_count": 4,
   "metadata": {},
   "outputs": [],
   "source": [
    "doc1 = nlp(U'Apple is looking at buying U.K. startup for $1 billion')"
   ]
  },
  {
   "cell_type": "code",
   "execution_count": 5,
   "metadata": {},
   "outputs": [
    {
     "data": {
      "text/plain": [
       "{'text': 'John works at Google in London which is big city in the United kingdom.',\n",
       " 'ents': [{'start': 0, 'end': 4, 'label': 'PERSON'},\n",
       "  {'start': 14, 'end': 20, 'label': 'ORG'},\n",
       "  {'start': 24, 'end': 30, 'label': 'GPE'},\n",
       "  {'start': 52, 'end': 70, 'label': 'GPE'}],\n",
       " 'sents': [{'start': 0, 'end': 71}],\n",
       " 'tokens': [{'id': 0,\n",
       "   'start': 0,\n",
       "   'end': 4,\n",
       "   'pos': 'PROPN',\n",
       "   'tag': 'NNP',\n",
       "   'dep': 'nsubj',\n",
       "   'head': 1},\n",
       "  {'id': 1,\n",
       "   'start': 5,\n",
       "   'end': 10,\n",
       "   'pos': 'VERB',\n",
       "   'tag': 'VBZ',\n",
       "   'dep': 'ROOT',\n",
       "   'head': 1},\n",
       "  {'id': 2,\n",
       "   'start': 11,\n",
       "   'end': 13,\n",
       "   'pos': 'ADP',\n",
       "   'tag': 'IN',\n",
       "   'dep': 'prep',\n",
       "   'head': 1},\n",
       "  {'id': 3,\n",
       "   'start': 14,\n",
       "   'end': 20,\n",
       "   'pos': 'PROPN',\n",
       "   'tag': 'NNP',\n",
       "   'dep': 'pobj',\n",
       "   'head': 2},\n",
       "  {'id': 4,\n",
       "   'start': 21,\n",
       "   'end': 23,\n",
       "   'pos': 'ADP',\n",
       "   'tag': 'IN',\n",
       "   'dep': 'prep',\n",
       "   'head': 1},\n",
       "  {'id': 5,\n",
       "   'start': 24,\n",
       "   'end': 30,\n",
       "   'pos': 'PROPN',\n",
       "   'tag': 'NNP',\n",
       "   'dep': 'pobj',\n",
       "   'head': 4},\n",
       "  {'id': 6,\n",
       "   'start': 31,\n",
       "   'end': 36,\n",
       "   'pos': 'DET',\n",
       "   'tag': 'WDT',\n",
       "   'dep': 'nsubj',\n",
       "   'head': 7},\n",
       "  {'id': 7,\n",
       "   'start': 37,\n",
       "   'end': 39,\n",
       "   'pos': 'AUX',\n",
       "   'tag': 'VBZ',\n",
       "   'dep': 'relcl',\n",
       "   'head': 1},\n",
       "  {'id': 8,\n",
       "   'start': 40,\n",
       "   'end': 43,\n",
       "   'pos': 'ADJ',\n",
       "   'tag': 'JJ',\n",
       "   'dep': 'amod',\n",
       "   'head': 9},\n",
       "  {'id': 9,\n",
       "   'start': 44,\n",
       "   'end': 48,\n",
       "   'pos': 'NOUN',\n",
       "   'tag': 'NN',\n",
       "   'dep': 'attr',\n",
       "   'head': 7},\n",
       "  {'id': 10,\n",
       "   'start': 49,\n",
       "   'end': 51,\n",
       "   'pos': 'ADP',\n",
       "   'tag': 'IN',\n",
       "   'dep': 'prep',\n",
       "   'head': 9},\n",
       "  {'id': 11,\n",
       "   'start': 52,\n",
       "   'end': 55,\n",
       "   'pos': 'DET',\n",
       "   'tag': 'DT',\n",
       "   'dep': 'det',\n",
       "   'head': 13},\n",
       "  {'id': 12,\n",
       "   'start': 56,\n",
       "   'end': 62,\n",
       "   'pos': 'PROPN',\n",
       "   'tag': 'NNP',\n",
       "   'dep': 'compound',\n",
       "   'head': 13},\n",
       "  {'id': 13,\n",
       "   'start': 63,\n",
       "   'end': 70,\n",
       "   'pos': 'NOUN',\n",
       "   'tag': 'NN',\n",
       "   'dep': 'pobj',\n",
       "   'head': 10},\n",
       "  {'id': 14,\n",
       "   'start': 70,\n",
       "   'end': 71,\n",
       "   'pos': 'PUNCT',\n",
       "   'tag': '.',\n",
       "   'dep': 'punct',\n",
       "   'head': 1}]}"
      ]
     },
     "execution_count": 5,
     "metadata": {},
     "output_type": "execute_result"
    }
   ],
   "source": [
    "doc.to_json()"
   ]
  },
  {
   "cell_type": "code",
   "execution_count": null,
   "metadata": {},
   "outputs": [],
   "source": []
  },
  {
   "cell_type": "code",
   "execution_count": 6,
   "metadata": {},
   "outputs": [
    {
     "data": {
      "text/plain": [
       "(John, Google, London, the United kingdom)"
      ]
     },
     "execution_count": 6,
     "metadata": {},
     "output_type": "execute_result"
    }
   ],
   "source": [
    "doc.ents"
   ]
  },
  {
   "cell_type": "code",
   "execution_count": 7,
   "metadata": {},
   "outputs": [
    {
     "name": "stdout",
     "output_type": "stream",
     "text": [
      "PERSON John\n",
      "ORG Google\n",
      "GPE London\n",
      "GPE the United kingdom\n"
     ]
    }
   ],
   "source": [
    "for ent in doc.ents:\n",
    "    print(ent.label_,ent.text)"
   ]
  },
  {
   "cell_type": "code",
   "execution_count": 8,
   "metadata": {},
   "outputs": [
    {
     "name": "stdout",
     "output_type": "stream",
     "text": [
      "John\n",
      "Google\n",
      "London\n",
      "big city\n",
      "the United kingdom\n"
     ]
    }
   ],
   "source": [
    "for np in doc.noun_chunks:\n",
    "    print(np)"
   ]
  },
  {
   "cell_type": "code",
   "execution_count": 9,
   "metadata": {},
   "outputs": [
    {
     "data": {
      "text/plain": [
       "Apple is looking at buying U.K. startup for $1 billion"
      ]
     },
     "execution_count": 9,
     "metadata": {},
     "output_type": "execute_result"
    }
   ],
   "source": [
    "doc1"
   ]
  },
  {
   "cell_type": "code",
   "execution_count": 10,
   "metadata": {},
   "outputs": [
    {
     "name": "stdout",
     "output_type": "stream",
     "text": [
      "Apple Apple\n",
      "U.K. startup U.K. startup\n"
     ]
    }
   ],
   "source": [
    "for np in doc1.noun_chunks:\n",
    "    print(np.text, np.lemma_)"
   ]
  },
  {
   "cell_type": "code",
   "execution_count": 11,
   "metadata": {},
   "outputs": [],
   "source": [
    "nlp = spacy.load('fr')"
   ]
  },
  {
   "cell_type": "code",
   "execution_count": 12,
   "metadata": {},
   "outputs": [],
   "source": [
    "doc2 = nlp(u\"Cette entreprise a été acheté 1 millions d'euros\")"
   ]
  },
  {
   "cell_type": "code",
   "execution_count": 13,
   "metadata": {},
   "outputs": [
    {
     "name": "stdout",
     "output_type": "stream",
     "text": [
      "Cette DET det\n",
      "entreprise NOUN nsubj:pass\n",
      "a AUX aux:tense\n",
      "été AUX aux:pass\n",
      "acheté VERB ROOT\n",
      "1 NUM nummod\n",
      "millions NOUN obj\n",
      "d' ADP case\n",
      "euros NOUN nmod\n"
     ]
    }
   ],
   "source": [
    "for np in doc2:\n",
    "    print(np.text, np.pos_, np.dep_)\n"
   ]
  },
  {
   "cell_type": "code",
   "execution_count": 14,
   "metadata": {},
   "outputs": [],
   "source": [
    "from sklearn.feature_extraction.text import CountVectorizer"
   ]
  },
  {
   "cell_type": "code",
   "execution_count": 15,
   "metadata": {},
   "outputs": [],
   "source": [
    "vectorizer = CountVectorizer()"
   ]
  },
  {
   "cell_type": "code",
   "execution_count": 16,
   "metadata": {},
   "outputs": [
    {
     "data": {
      "text/plain": [
       "CountVectorizer()"
      ]
     },
     "execution_count": 16,
     "metadata": {},
     "output_type": "execute_result"
    }
   ],
   "source": [
    "vectorizer"
   ]
  },
  {
   "cell_type": "code",
   "execution_count": 90,
   "metadata": {},
   "outputs": [],
   "source": [
    "url = \"https://lessurligneurs.eu/tag/europe/feed/\"\n",
    "url1 = \"https://lessurligneurs.eu/tag/education/feed/\"\n",
    "url2 = \"https://lessurligneurs.eu/tag/criminalite/feed/\""
   ]
  },
  {
   "cell_type": "code",
   "execution_count": null,
   "metadata": {},
   "outputs": [],
   "source": []
  },
  {
   "cell_type": "code",
   "execution_count": 117,
   "metadata": {},
   "outputs": [],
   "source": [
    "import feedparser"
   ]
  },
  {
   "cell_type": "code",
   "execution_count": 118,
   "metadata": {},
   "outputs": [],
   "source": [
    "f = feedparser.parse(url)\n",
    "f1 = feedparser.parse(url1)\n",
    "f2 = feedparser.parse(url2)"
   ]
  },
  {
   "cell_type": "code",
   "execution_count": 122,
   "metadata": {},
   "outputs": [
    {
     "data": {
      "text/plain": [
       "dict_keys(['bozo', 'entries', 'feed', 'headers', 'etag', 'updated', 'updated_parsed', 'href', 'status', 'encoding', 'version', 'namespaces'])"
      ]
     },
     "execution_count": 122,
     "metadata": {},
     "output_type": "execute_result"
    }
   ],
   "source": [
    "f.keys()"
   ]
  },
  {
   "cell_type": "code",
   "execution_count": 130,
   "metadata": {},
   "outputs": [
    {
     "data": {
      "text/plain": [
       "feedparser.util.FeedParserDict"
      ]
     },
     "execution_count": 130,
     "metadata": {},
     "output_type": "execute_result"
    }
   ],
   "source": [
    "type(f)\n"
   ]
  },
  {
   "cell_type": "code",
   "execution_count": 131,
   "metadata": {},
   "outputs": [
    {
     "data": {
      "text/plain": [
       "{'bozo': False,\n",
       " 'entries': [{'title': 'Selon Jacques Attali “Le RGPD, personne ne lui obéit”',\n",
       "   'title_detail': {'type': 'text/plain',\n",
       "    'language': None,\n",
       "    'base': 'https://lessurligneurs.eu/tag/europe/feed/',\n",
       "    'value': 'Selon Jacques Attali “Le RGPD, personne ne lui obéit”'},\n",
       "   'links': [{'rel': 'alternate',\n",
       "     'type': 'text/html',\n",
       "     'href': 'https://lessurligneurs.eu/selon-jacques-attali-le-rgpd-personne-ne-lui-obeit/'}],\n",
       "   'link': 'https://lessurligneurs.eu/selon-jacques-attali-le-rgpd-personne-ne-lui-obeit/',\n",
       "   'comments': 'https://lessurligneurs.eu/selon-jacques-attali-le-rgpd-personne-ne-lui-obeit/#respond',\n",
       "   'authors': [{'name': 'Rachid Merimi'}],\n",
       "   'author': 'Rachid Merimi',\n",
       "   'author_detail': {'name': 'Rachid Merimi'},\n",
       "   'published': 'Thu, 28 Jan 2021 16:26:12 +0000',\n",
       "   'published_parsed': time.struct_time(tm_year=2021, tm_mon=1, tm_mday=28, tm_hour=16, tm_min=26, tm_sec=12, tm_wday=3, tm_yday=28, tm_isdst=0),\n",
       "   'tags': [{'term': 'Article Court', 'scheme': None, 'label': None},\n",
       "    {'term': 'Lire', 'scheme': None, 'label': None},\n",
       "    {'term': 'Europe', 'scheme': None, 'label': None}],\n",
       "   'id': 'https://lessurligneurs.eu/?p=5235',\n",
       "   'guidislink': False,\n",
       "   'summary': '<p>L’article <a href=\"https://lessurligneurs.eu/selon-jacques-attali-le-rgpd-personne-ne-lui-obeit/\" rel=\"nofollow\">Selon Jacques Attali “Le RGPD, personne ne lui obéit”</a> est apparu en premier sur <a href=\"https://lessurligneurs.eu\" rel=\"nofollow\">Les Surligneurs</a>.</p>',\n",
       "   'summary_detail': {'type': 'text/html',\n",
       "    'language': None,\n",
       "    'base': 'https://lessurligneurs.eu/tag/europe/feed/',\n",
       "    'value': '<p>L’article <a href=\"https://lessurligneurs.eu/selon-jacques-attali-le-rgpd-personne-ne-lui-obeit/\" rel=\"nofollow\">Selon Jacques Attali “Le RGPD, personne ne lui obéit”</a> est apparu en premier sur <a href=\"https://lessurligneurs.eu\" rel=\"nofollow\">Les Surligneurs</a>.</p>'},\n",
       "   'wfw_commentrss': 'https://lessurligneurs.eu/selon-jacques-attali-le-rgpd-personne-ne-lui-obeit/feed/',\n",
       "   'slash_comments': '0',\n",
       "   'post-id': '5235'},\n",
       "  {'title': 'Raphaël Glucksmann : l’Union européenne ne dispose pas d’instruments commerciaux qui permettent d’interdire des produits d’entrer sur le marché européen provenant d’entreprises recourant à l’esclavage',\n",
       "   'title_detail': {'type': 'text/plain',\n",
       "    'language': None,\n",
       "    'base': 'https://lessurligneurs.eu/tag/europe/feed/',\n",
       "    'value': 'Raphaël Glucksmann : l’Union européenne ne dispose pas d’instruments commerciaux qui permettent d’interdire des produits d’entrer sur le marché européen provenant d’entreprises recourant à l’esclavage'},\n",
       "   'links': [{'rel': 'alternate',\n",
       "     'type': 'text/html',\n",
       "     'href': 'https://lessurligneurs.eu/dapres-raphael-glucksman-lunion-europeenne-ne-dispose-pas-dinstruments-commerciaux-qui-permettent-dinterdire-des-produits-dentrer-sur-le-marche-europeen-provenant/'}],\n",
       "   'link': 'https://lessurligneurs.eu/dapres-raphael-glucksman-lunion-europeenne-ne-dispose-pas-dinstruments-commerciaux-qui-permettent-dinterdire-des-produits-dentrer-sur-le-marche-europeen-provenant/',\n",
       "   'comments': 'https://lessurligneurs.eu/dapres-raphael-glucksman-lunion-europeenne-ne-dispose-pas-dinstruments-commerciaux-qui-permettent-dinterdire-des-produits-dentrer-sur-le-marche-europeen-provenant/#respond',\n",
       "   'authors': [{'name': 'Rachid Merimi'}],\n",
       "   'author': 'Rachid Merimi',\n",
       "   'author_detail': {'name': 'Rachid Merimi'},\n",
       "   'published': 'Mon, 25 Jan 2021 04:50:00 +0000',\n",
       "   'published_parsed': time.struct_time(tm_year=2021, tm_mon=1, tm_mday=25, tm_hour=4, tm_min=50, tm_sec=0, tm_wday=0, tm_yday=25, tm_isdst=0),\n",
       "   'tags': [{'term': 'Article Court', 'scheme': None, 'label': None},\n",
       "    {'term': 'Lire', 'scheme': None, 'label': None},\n",
       "    {'term': 'Europe', 'scheme': None, 'label': None}],\n",
       "   'id': 'https://lessurligneurs.eu/?p=5192',\n",
       "   'guidislink': False,\n",
       "   'summary': '<p>L’article <a href=\"https://lessurligneurs.eu/dapres-raphael-glucksman-lunion-europeenne-ne-dispose-pas-dinstruments-commerciaux-qui-permettent-dinterdire-des-produits-dentrer-sur-le-marche-europeen-provenant/\" rel=\"nofollow\">Raphaël Glucksmann : l’Union européenne ne dispose pas d’instruments commerciaux qui permettent d’interdire des produits d’entrer sur le marché européen provenant d’entreprises recourant à l’esclavage</a> est apparu en premier sur <a href=\"https://lessurligneurs.eu\" rel=\"nofollow\">Les Surligneurs</a>.</p>',\n",
       "   'summary_detail': {'type': 'text/html',\n",
       "    'language': None,\n",
       "    'base': 'https://lessurligneurs.eu/tag/europe/feed/',\n",
       "    'value': '<p>L’article <a href=\"https://lessurligneurs.eu/dapres-raphael-glucksman-lunion-europeenne-ne-dispose-pas-dinstruments-commerciaux-qui-permettent-dinterdire-des-produits-dentrer-sur-le-marche-europeen-provenant/\" rel=\"nofollow\">Raphaël Glucksmann : l’Union européenne ne dispose pas d’instruments commerciaux qui permettent d’interdire des produits d’entrer sur le marché européen provenant d’entreprises recourant à l’esclavage</a> est apparu en premier sur <a href=\"https://lessurligneurs.eu\" rel=\"nofollow\">Les Surligneurs</a>.</p>'},\n",
       "   'wfw_commentrss': 'https://lessurligneurs.eu/dapres-raphael-glucksman-lunion-europeenne-ne-dispose-pas-dinstruments-commerciaux-qui-permettent-dinterdire-des-produits-dentrer-sur-le-marche-europeen-provenant/feed/',\n",
       "   'slash_comments': '0',\n",
       "   'post-id': '5192'},\n",
       "  {'title': 'Marine Le Pen : “Je demande, dès le mois de janvier, de maîtriser, de contrôler les frontières… tous les pays du monde ont contrôlé leurs frontières… sauf la France !”',\n",
       "   'title_detail': {'type': 'text/plain',\n",
       "    'language': None,\n",
       "    'base': 'https://lessurligneurs.eu/tag/europe/feed/',\n",
       "    'value': 'Marine Le Pen : “Je demande, dès le mois de janvier, de maîtriser, de contrôler les frontières… tous les pays du monde ont contrôlé leurs frontières… sauf la France !”'},\n",
       "   'links': [{'rel': 'alternate',\n",
       "     'type': 'text/html',\n",
       "     'href': 'https://lessurligneurs.eu/marine-le-pen-je-demande-des-le-mois-de-janvier-de-maitriser-de-controler-les-frontieres-tous-les-pays-du-monde-ont-controle-leurs-frontieres-sauf-la-france/'}],\n",
       "   'link': 'https://lessurligneurs.eu/marine-le-pen-je-demande-des-le-mois-de-janvier-de-maitriser-de-controler-les-frontieres-tous-les-pays-du-monde-ont-controle-leurs-frontieres-sauf-la-france/',\n",
       "   'comments': 'https://lessurligneurs.eu/marine-le-pen-je-demande-des-le-mois-de-janvier-de-maitriser-de-controler-les-frontieres-tous-les-pays-du-monde-ont-controle-leurs-frontieres-sauf-la-france/#comments',\n",
       "   'authors': [{'name': 'Rachid Merimi'}],\n",
       "   'author': 'Rachid Merimi',\n",
       "   'author_detail': {'name': 'Rachid Merimi'},\n",
       "   'published': 'Wed, 20 Jan 2021 07:18:21 +0000',\n",
       "   'published_parsed': time.struct_time(tm_year=2021, tm_mon=1, tm_mday=20, tm_hour=7, tm_min=18, tm_sec=21, tm_wday=2, tm_yday=20, tm_isdst=0),\n",
       "   'tags': [{'term': 'Article Court', 'scheme': None, 'label': None},\n",
       "    {'term': 'Lire', 'scheme': None, 'label': None},\n",
       "    {'term': 'Europe', 'scheme': None, 'label': None},\n",
       "    {'term': 'Santé', 'scheme': None, 'label': None}],\n",
       "   'id': 'https://lessurligneurs.eu/?p=5154',\n",
       "   'guidislink': False,\n",
       "   'summary': '<p>L’article <a href=\"https://lessurligneurs.eu/marine-le-pen-je-demande-des-le-mois-de-janvier-de-maitriser-de-controler-les-frontieres-tous-les-pays-du-monde-ont-controle-leurs-frontieres-sauf-la-france/\" rel=\"nofollow\">Marine Le Pen : &#8220;Je demande, dès le mois de janvier, de maîtriser, de contrôler les frontières&#8230; tous les pays du monde ont contrôlé leurs frontières&#8230; sauf la France !&#8221;</a> est apparu en premier sur <a href=\"https://lessurligneurs.eu\" rel=\"nofollow\">Les Surligneurs</a>.</p>',\n",
       "   'summary_detail': {'type': 'text/html',\n",
       "    'language': None,\n",
       "    'base': 'https://lessurligneurs.eu/tag/europe/feed/',\n",
       "    'value': '<p>L’article <a href=\"https://lessurligneurs.eu/marine-le-pen-je-demande-des-le-mois-de-janvier-de-maitriser-de-controler-les-frontieres-tous-les-pays-du-monde-ont-controle-leurs-frontieres-sauf-la-france/\" rel=\"nofollow\">Marine Le Pen : &#8220;Je demande, dès le mois de janvier, de maîtriser, de contrôler les frontières&#8230; tous les pays du monde ont contrôlé leurs frontières&#8230; sauf la France !&#8221;</a> est apparu en premier sur <a href=\"https://lessurligneurs.eu\" rel=\"nofollow\">Les Surligneurs</a>.</p>'},\n",
       "   'wfw_commentrss': 'https://lessurligneurs.eu/marine-le-pen-je-demande-des-le-mois-de-janvier-de-maitriser-de-controler-les-frontieres-tous-les-pays-du-monde-ont-controle-leurs-frontieres-sauf-la-france/feed/',\n",
       "   'slash_comments': '1',\n",
       "   'post-id': '5154'},\n",
       "  {'title': 'L’Agence européenne des médicaments : une institution devenue incontournable',\n",
       "   'title_detail': {'type': 'text/plain',\n",
       "    'language': None,\n",
       "    'base': 'https://lessurligneurs.eu/tag/europe/feed/',\n",
       "    'value': 'L’Agence européenne des médicaments : une institution devenue incontournable'},\n",
       "   'links': [{'rel': 'alternate',\n",
       "     'type': 'text/html',\n",
       "     'href': 'https://lessurligneurs.eu/lagence-europeenne-des-medicaments-une-institution-devenue-incontournable/'}],\n",
       "   'link': 'https://lessurligneurs.eu/lagence-europeenne-des-medicaments-une-institution-devenue-incontournable/',\n",
       "   'comments': 'https://lessurligneurs.eu/lagence-europeenne-des-medicaments-une-institution-devenue-incontournable/#comments',\n",
       "   'authors': [{'name': 'Rachid Merimi'}],\n",
       "   'author': 'Rachid Merimi',\n",
       "   'author_detail': {'name': 'Rachid Merimi'},\n",
       "   'published': 'Wed, 20 Jan 2021 07:11:37 +0000',\n",
       "   'published_parsed': time.struct_time(tm_year=2021, tm_mon=1, tm_mday=20, tm_hour=7, tm_min=11, tm_sec=37, tm_wday=2, tm_yday=20, tm_isdst=0),\n",
       "   'tags': [{'term': 'Article Long', 'scheme': None, 'label': None},\n",
       "    {'term': 'Lire', 'scheme': None, 'label': None},\n",
       "    {'term': 'Europe', 'scheme': None, 'label': None},\n",
       "    {'term': 'Santé', 'scheme': None, 'label': None}],\n",
       "   'id': 'https://lessurligneurs.eu/?p=5149',\n",
       "   'guidislink': False,\n",
       "   'summary': '<p>L’article <a href=\"https://lessurligneurs.eu/lagence-europeenne-des-medicaments-une-institution-devenue-incontournable/\" rel=\"nofollow\">L’Agence européenne des médicaments : une institution devenue incontournable</a> est apparu en premier sur <a href=\"https://lessurligneurs.eu\" rel=\"nofollow\">Les Surligneurs</a>.</p>',\n",
       "   'summary_detail': {'type': 'text/html',\n",
       "    'language': None,\n",
       "    'base': 'https://lessurligneurs.eu/tag/europe/feed/',\n",
       "    'value': '<p>L’article <a href=\"https://lessurligneurs.eu/lagence-europeenne-des-medicaments-une-institution-devenue-incontournable/\" rel=\"nofollow\">L’Agence européenne des médicaments : une institution devenue incontournable</a> est apparu en premier sur <a href=\"https://lessurligneurs.eu\" rel=\"nofollow\">Les Surligneurs</a>.</p>'},\n",
       "   'wfw_commentrss': 'https://lessurligneurs.eu/lagence-europeenne-des-medicaments-une-institution-devenue-incontournable/feed/',\n",
       "   'slash_comments': '1',\n",
       "   'post-id': '5149'},\n",
       "  {'title': 'Contrats d’achat des vaccins contre le Covid-19 : Pascal Canfin réclame « plus de transparence » de la Commission européenne',\n",
       "   'title_detail': {'type': 'text/plain',\n",
       "    'language': None,\n",
       "    'base': 'https://lessurligneurs.eu/tag/europe/feed/',\n",
       "    'value': 'Contrats d’achat des vaccins contre le Covid-19 : Pascal Canfin réclame « plus de transparence » de la Commission européenne'},\n",
       "   'links': [{'rel': 'alternate',\n",
       "     'type': 'text/html',\n",
       "     'href': 'https://lessurligneurs.eu/contrats-dachat-des-vaccins-contre-le-covid-19-pascal-canfin-reclame-plus-de-transparence-de-la-commission-europeenne/'}],\n",
       "   'link': 'https://lessurligneurs.eu/contrats-dachat-des-vaccins-contre-le-covid-19-pascal-canfin-reclame-plus-de-transparence-de-la-commission-europeenne/',\n",
       "   'comments': 'https://lessurligneurs.eu/contrats-dachat-des-vaccins-contre-le-covid-19-pascal-canfin-reclame-plus-de-transparence-de-la-commission-europeenne/#comments',\n",
       "   'authors': [{'name': 'Rachid Merimi'}],\n",
       "   'author': 'Rachid Merimi',\n",
       "   'author_detail': {'name': 'Rachid Merimi'},\n",
       "   'published': 'Fri, 08 Jan 2021 16:06:25 +0000',\n",
       "   'published_parsed': time.struct_time(tm_year=2021, tm_mon=1, tm_mday=8, tm_hour=16, tm_min=6, tm_sec=25, tm_wday=4, tm_yday=8, tm_isdst=0),\n",
       "   'tags': [{'term': 'Article Court', 'scheme': None, 'label': None},\n",
       "    {'term': 'Lire', 'scheme': None, 'label': None},\n",
       "    {'term': 'Europe', 'scheme': None, 'label': None}],\n",
       "   'id': 'https://lessurligneurs.eu/?p=5123',\n",
       "   'guidislink': False,\n",
       "   'summary': '<p>L’article <a href=\"https://lessurligneurs.eu/contrats-dachat-des-vaccins-contre-le-covid-19-pascal-canfin-reclame-plus-de-transparence-de-la-commission-europeenne/\" rel=\"nofollow\">Contrats d’achat des vaccins contre le Covid-19 : Pascal Canfin réclame « plus de transparence » de la Commission européenne</a> est apparu en premier sur <a href=\"https://lessurligneurs.eu\" rel=\"nofollow\">Les Surligneurs</a>.</p>',\n",
       "   'summary_detail': {'type': 'text/html',\n",
       "    'language': None,\n",
       "    'base': 'https://lessurligneurs.eu/tag/europe/feed/',\n",
       "    'value': '<p>L’article <a href=\"https://lessurligneurs.eu/contrats-dachat-des-vaccins-contre-le-covid-19-pascal-canfin-reclame-plus-de-transparence-de-la-commission-europeenne/\" rel=\"nofollow\">Contrats d’achat des vaccins contre le Covid-19 : Pascal Canfin réclame « plus de transparence » de la Commission européenne</a> est apparu en premier sur <a href=\"https://lessurligneurs.eu\" rel=\"nofollow\">Les Surligneurs</a>.</p>'},\n",
       "   'wfw_commentrss': 'https://lessurligneurs.eu/contrats-dachat-des-vaccins-contre-le-covid-19-pascal-canfin-reclame-plus-de-transparence-de-la-commission-europeenne/feed/',\n",
       "   'slash_comments': '1',\n",
       "   'post-id': '5123'},\n",
       "  {'title': 'Christian Lechevalier, conseiller régional RN, se réjouit du Brexit et de la fin pour les Britanniques des “jugements pro-racaille” de la CEDH',\n",
       "   'title_detail': {'type': 'text/plain',\n",
       "    'language': None,\n",
       "    'base': 'https://lessurligneurs.eu/tag/europe/feed/',\n",
       "    'value': 'Christian Lechevalier, conseiller régional RN, se réjouit du Brexit et de la fin pour les Britanniques des “jugements pro-racaille” de la CEDH'},\n",
       "   'links': [{'rel': 'alternate',\n",
       "     'type': 'text/html',\n",
       "     'href': 'https://lessurligneurs.eu/christian-lechevalier-conseiller-regional-rn-se-rejouit-du-brexit-et-de-la-fin-pour-les-britanniques-des-jugements-pro-racaille-de-la-cedh/'}],\n",
       "   'link': 'https://lessurligneurs.eu/christian-lechevalier-conseiller-regional-rn-se-rejouit-du-brexit-et-de-la-fin-pour-les-britanniques-des-jugements-pro-racaille-de-la-cedh/',\n",
       "   'comments': 'https://lessurligneurs.eu/christian-lechevalier-conseiller-regional-rn-se-rejouit-du-brexit-et-de-la-fin-pour-les-britanniques-des-jugements-pro-racaille-de-la-cedh/#comments',\n",
       "   'authors': [{'name': 'Rachid Merimi'}],\n",
       "   'author': 'Rachid Merimi',\n",
       "   'author_detail': {'name': 'Rachid Merimi'},\n",
       "   'published': 'Tue, 05 Jan 2021 12:41:18 +0000',\n",
       "   'published_parsed': time.struct_time(tm_year=2021, tm_mon=1, tm_mday=5, tm_hour=12, tm_min=41, tm_sec=18, tm_wday=1, tm_yday=5, tm_isdst=0),\n",
       "   'tags': [{'term': 'Article Court', 'scheme': None, 'label': None},\n",
       "    {'term': 'Lire', 'scheme': None, 'label': None},\n",
       "    {'term': 'Europe', 'scheme': None, 'label': None}],\n",
       "   'id': 'https://lessurligneurs.eu/?p=5084',\n",
       "   'guidislink': False,\n",
       "   'summary': '<p>L’article <a href=\"https://lessurligneurs.eu/christian-lechevalier-conseiller-regional-rn-se-rejouit-du-brexit-et-de-la-fin-pour-les-britanniques-des-jugements-pro-racaille-de-la-cedh/\" rel=\"nofollow\">Christian Lechevalier, conseiller régional RN, se réjouit du Brexit et de la fin pour les Britanniques des &#8220;jugements pro-racaille&#8221; de la CEDH</a> est apparu en premier sur <a href=\"https://lessurligneurs.eu\" rel=\"nofollow\">Les Surligneurs</a>.</p>',\n",
       "   'summary_detail': {'type': 'text/html',\n",
       "    'language': None,\n",
       "    'base': 'https://lessurligneurs.eu/tag/europe/feed/',\n",
       "    'value': '<p>L’article <a href=\"https://lessurligneurs.eu/christian-lechevalier-conseiller-regional-rn-se-rejouit-du-brexit-et-de-la-fin-pour-les-britanniques-des-jugements-pro-racaille-de-la-cedh/\" rel=\"nofollow\">Christian Lechevalier, conseiller régional RN, se réjouit du Brexit et de la fin pour les Britanniques des &#8220;jugements pro-racaille&#8221; de la CEDH</a> est apparu en premier sur <a href=\"https://lessurligneurs.eu\" rel=\"nofollow\">Les Surligneurs</a>.</p>'},\n",
       "   'wfw_commentrss': 'https://lessurligneurs.eu/christian-lechevalier-conseiller-regional-rn-se-rejouit-du-brexit-et-de-la-fin-pour-les-britanniques-des-jugements-pro-racaille-de-la-cedh/feed/',\n",
       "   'slash_comments': '1',\n",
       "   'post-id': '5084'},\n",
       "  {'title': 'Judit Varga, ministre hongroise de la Justice, estime que l’État de droit ne peut servir de base à un mécanisme de sanction',\n",
       "   'title_detail': {'type': 'text/plain',\n",
       "    'language': None,\n",
       "    'base': 'https://lessurligneurs.eu/tag/europe/feed/',\n",
       "    'value': 'Judit Varga, ministre hongroise de la Justice, estime que l’État de droit ne peut servir de base à un mécanisme de sanction'},\n",
       "   'links': [{'rel': 'alternate',\n",
       "     'type': 'text/html',\n",
       "     'href': 'https://lessurligneurs.eu/judit-varga-ministre-hongroise-de-la-justice-estime-que-letat-de-droit-ne-peut-servir-de-base-a-un-mecanisme-de-sanction/'}],\n",
       "   'link': 'https://lessurligneurs.eu/judit-varga-ministre-hongroise-de-la-justice-estime-que-letat-de-droit-ne-peut-servir-de-base-a-un-mecanisme-de-sanction/',\n",
       "   'comments': 'https://lessurligneurs.eu/judit-varga-ministre-hongroise-de-la-justice-estime-que-letat-de-droit-ne-peut-servir-de-base-a-un-mecanisme-de-sanction/#comments',\n",
       "   'authors': [{'name': 'Rachid Merimi'}],\n",
       "   'author': 'Rachid Merimi',\n",
       "   'author_detail': {'name': 'Rachid Merimi'},\n",
       "   'published': 'Thu, 10 Dec 2020 08:16:13 +0000',\n",
       "   'published_parsed': time.struct_time(tm_year=2020, tm_mon=12, tm_mday=10, tm_hour=8, tm_min=16, tm_sec=13, tm_wday=3, tm_yday=345, tm_isdst=0),\n",
       "   'tags': [{'term': 'Article Court', 'scheme': None, 'label': None},\n",
       "    {'term': 'Lire', 'scheme': None, 'label': None},\n",
       "    {'term': 'Europe', 'scheme': None, 'label': None},\n",
       "    {'term': 'Exercice du pouvoir', 'scheme': None, 'label': None}],\n",
       "   'id': 'https://lessurligneurs.eu/?p=4955',\n",
       "   'guidislink': False,\n",
       "   'summary': '<p>L’article <a href=\"https://lessurligneurs.eu/judit-varga-ministre-hongroise-de-la-justice-estime-que-letat-de-droit-ne-peut-servir-de-base-a-un-mecanisme-de-sanction/\" rel=\"nofollow\">Judit Varga, ministre hongroise de la Justice, estime que l’État de droit ne peut servir de base à un mécanisme de sanction</a> est apparu en premier sur <a href=\"https://lessurligneurs.eu\" rel=\"nofollow\">Les Surligneurs</a>.</p>',\n",
       "   'summary_detail': {'type': 'text/html',\n",
       "    'language': None,\n",
       "    'base': 'https://lessurligneurs.eu/tag/europe/feed/',\n",
       "    'value': '<p>L’article <a href=\"https://lessurligneurs.eu/judit-varga-ministre-hongroise-de-la-justice-estime-que-letat-de-droit-ne-peut-servir-de-base-a-un-mecanisme-de-sanction/\" rel=\"nofollow\">Judit Varga, ministre hongroise de la Justice, estime que l’État de droit ne peut servir de base à un mécanisme de sanction</a> est apparu en premier sur <a href=\"https://lessurligneurs.eu\" rel=\"nofollow\">Les Surligneurs</a>.</p>'},\n",
       "   'wfw_commentrss': 'https://lessurligneurs.eu/judit-varga-ministre-hongroise-de-la-justice-estime-que-letat-de-droit-ne-peut-servir-de-base-a-un-mecanisme-de-sanction/feed/',\n",
       "   'slash_comments': '1',\n",
       "   'post-id': '4955'},\n",
       "  {'title': 'François Ruffin souhaite un “retour des frontières, sur les capitaux, les marchandises et les personnes”',\n",
       "   'title_detail': {'type': 'text/plain',\n",
       "    'language': None,\n",
       "    'base': 'https://lessurligneurs.eu/tag/europe/feed/',\n",
       "    'value': 'François Ruffin souhaite un “retour des frontières, sur les capitaux, les marchandises et les personnes”'},\n",
       "   'links': [{'rel': 'alternate',\n",
       "     'type': 'text/html',\n",
       "     'href': 'https://lessurligneurs.eu/francois-ruffin-souhaite-un-retour-des-frontieres-sur-les-capitaux-les-marchandises-et-les-personnes/'}],\n",
       "   'link': 'https://lessurligneurs.eu/francois-ruffin-souhaite-un-retour-des-frontieres-sur-les-capitaux-les-marchandises-et-les-personnes/',\n",
       "   'comments': 'https://lessurligneurs.eu/francois-ruffin-souhaite-un-retour-des-frontieres-sur-les-capitaux-les-marchandises-et-les-personnes/#comments',\n",
       "   'authors': [{'name': 'Rachid Merimi'}],\n",
       "   'author': 'Rachid Merimi',\n",
       "   'author_detail': {'name': 'Rachid Merimi'},\n",
       "   'published': 'Tue, 08 Dec 2020 10:09:46 +0000',\n",
       "   'published_parsed': time.struct_time(tm_year=2020, tm_mon=12, tm_mday=8, tm_hour=10, tm_min=9, tm_sec=46, tm_wday=1, tm_yday=343, tm_isdst=0),\n",
       "   'tags': [{'term': 'Article Court', 'scheme': None, 'label': None},\n",
       "    {'term': 'Lire', 'scheme': None, 'label': None},\n",
       "    {'term': 'Europe', 'scheme': None, 'label': None}],\n",
       "   'id': 'https://lessurligneurs.eu/?p=4929',\n",
       "   'guidislink': False,\n",
       "   'summary': '<p>L’article <a href=\"https://lessurligneurs.eu/francois-ruffin-souhaite-un-retour-des-frontieres-sur-les-capitaux-les-marchandises-et-les-personnes/\" rel=\"nofollow\">François Ruffin souhaite un “retour des frontières, sur les capitaux, les marchandises et les personnes”</a> est apparu en premier sur <a href=\"https://lessurligneurs.eu\" rel=\"nofollow\">Les Surligneurs</a>.</p>',\n",
       "   'summary_detail': {'type': 'text/html',\n",
       "    'language': None,\n",
       "    'base': 'https://lessurligneurs.eu/tag/europe/feed/',\n",
       "    'value': '<p>L’article <a href=\"https://lessurligneurs.eu/francois-ruffin-souhaite-un-retour-des-frontieres-sur-les-capitaux-les-marchandises-et-les-personnes/\" rel=\"nofollow\">François Ruffin souhaite un “retour des frontières, sur les capitaux, les marchandises et les personnes”</a> est apparu en premier sur <a href=\"https://lessurligneurs.eu\" rel=\"nofollow\">Les Surligneurs</a>.</p>'},\n",
       "   'wfw_commentrss': 'https://lessurligneurs.eu/francois-ruffin-souhaite-un-retour-des-frontieres-sur-les-capitaux-les-marchandises-et-les-personnes/feed/',\n",
       "   'slash_comments': '1',\n",
       "   'post-id': '4929'},\n",
       "  {'title': 'Selon Guillaume Larrivé (LR) “nous n’avons pas à transposer en droit français l’arrêt de la CJUE, dans l’intérêt national.”',\n",
       "   'title_detail': {'type': 'text/plain',\n",
       "    'language': None,\n",
       "    'base': 'https://lessurligneurs.eu/tag/europe/feed/',\n",
       "    'value': 'Selon Guillaume Larrivé (LR) “nous n’avons pas à transposer en droit français l’arrêt de la CJUE, dans l’intérêt national.”'},\n",
       "   'links': [{'rel': 'alternate',\n",
       "     'type': 'text/html',\n",
       "     'href': 'https://lessurligneurs.eu/selon-guillaume-larrive-lr-nous-navons-pas-a-transposer-en-droit-francais-larret-de-la-cjue-dans-linteret-national/'}],\n",
       "   'link': 'https://lessurligneurs.eu/selon-guillaume-larrive-lr-nous-navons-pas-a-transposer-en-droit-francais-larret-de-la-cjue-dans-linteret-national/',\n",
       "   'comments': 'https://lessurligneurs.eu/selon-guillaume-larrive-lr-nous-navons-pas-a-transposer-en-droit-francais-larret-de-la-cjue-dans-linteret-national/#respond',\n",
       "   'authors': [{'name': 'Rachid Merimi'}],\n",
       "   'author': 'Rachid Merimi',\n",
       "   'author_detail': {'name': 'Rachid Merimi'},\n",
       "   'published': 'Thu, 03 Dec 2020 19:34:31 +0000',\n",
       "   'published_parsed': time.struct_time(tm_year=2020, tm_mon=12, tm_mday=3, tm_hour=19, tm_min=34, tm_sec=31, tm_wday=3, tm_yday=338, tm_isdst=0),\n",
       "   'tags': [{'term': 'Article Court', 'scheme': None, 'label': None},\n",
       "    {'term': 'Lire', 'scheme': None, 'label': None},\n",
       "    {'term': 'Europe', 'scheme': None, 'label': None}],\n",
       "   'id': 'https://lessurligneurs.eu/?p=4902',\n",
       "   'guidislink': False,\n",
       "   'summary': '<p>L’article <a href=\"https://lessurligneurs.eu/selon-guillaume-larrive-lr-nous-navons-pas-a-transposer-en-droit-francais-larret-de-la-cjue-dans-linteret-national/\" rel=\"nofollow\">Selon Guillaume Larrivé (LR) “nous n’avons pas à transposer en droit français l’arrêt de la CJUE, dans l’intérêt national.”</a> est apparu en premier sur <a href=\"https://lessurligneurs.eu\" rel=\"nofollow\">Les Surligneurs</a>.</p>',\n",
       "   'summary_detail': {'type': 'text/html',\n",
       "    'language': None,\n",
       "    'base': 'https://lessurligneurs.eu/tag/europe/feed/',\n",
       "    'value': '<p>L’article <a href=\"https://lessurligneurs.eu/selon-guillaume-larrive-lr-nous-navons-pas-a-transposer-en-droit-francais-larret-de-la-cjue-dans-linteret-national/\" rel=\"nofollow\">Selon Guillaume Larrivé (LR) “nous n’avons pas à transposer en droit français l’arrêt de la CJUE, dans l’intérêt national.”</a> est apparu en premier sur <a href=\"https://lessurligneurs.eu\" rel=\"nofollow\">Les Surligneurs</a>.</p>'},\n",
       "   'wfw_commentrss': 'https://lessurligneurs.eu/selon-guillaume-larrive-lr-nous-navons-pas-a-transposer-en-droit-francais-larret-de-la-cjue-dans-linteret-national/feed/',\n",
       "   'slash_comments': '0',\n",
       "   'post-id': '4902'},\n",
       "  {'title': 'Selon Thierry Mariani (député européen RN), “l’Union Européenne n’a pas de compétence en matière de santé”',\n",
       "   'title_detail': {'type': 'text/plain',\n",
       "    'language': None,\n",
       "    'base': 'https://lessurligneurs.eu/tag/europe/feed/',\n",
       "    'value': 'Selon Thierry Mariani (député européen RN), “l’Union Européenne n’a pas de compétence en matière de santé”'},\n",
       "   'links': [{'rel': 'alternate',\n",
       "     'type': 'text/html',\n",
       "     'href': 'https://lessurligneurs.eu/selon-thierry-mariani-depute-europeen-rn-lunion-europeenne-na-pas-de-competence-en-matiere-de-sante/'}],\n",
       "   'link': 'https://lessurligneurs.eu/selon-thierry-mariani-depute-europeen-rn-lunion-europeenne-na-pas-de-competence-en-matiere-de-sante/',\n",
       "   'comments': 'https://lessurligneurs.eu/selon-thierry-mariani-depute-europeen-rn-lunion-europeenne-na-pas-de-competence-en-matiere-de-sante/#comments',\n",
       "   'authors': [{'name': 'Rachid Merimi'}],\n",
       "   'author': 'Rachid Merimi',\n",
       "   'author_detail': {'name': 'Rachid Merimi'},\n",
       "   'published': 'Wed, 25 Nov 2020 16:42:43 +0000',\n",
       "   'published_parsed': time.struct_time(tm_year=2020, tm_mon=11, tm_mday=25, tm_hour=16, tm_min=42, tm_sec=43, tm_wday=2, tm_yday=330, tm_isdst=0),\n",
       "   'tags': [{'term': 'Article Court', 'scheme': None, 'label': None},\n",
       "    {'term': 'Lire', 'scheme': None, 'label': None},\n",
       "    {'term': 'Europe', 'scheme': None, 'label': None},\n",
       "    {'term': 'Santé', 'scheme': None, 'label': None}],\n",
       "   'id': 'https://lessurligneurs.eu/?p=4845',\n",
       "   'guidislink': False,\n",
       "   'summary': '<p>L’article <a href=\"https://lessurligneurs.eu/selon-thierry-mariani-depute-europeen-rn-lunion-europeenne-na-pas-de-competence-en-matiere-de-sante/\" rel=\"nofollow\">Selon Thierry Mariani (député européen RN), “l’Union Européenne n’a pas de compétence en matière de santé”</a> est apparu en premier sur <a href=\"https://lessurligneurs.eu\" rel=\"nofollow\">Les Surligneurs</a>.</p>',\n",
       "   'summary_detail': {'type': 'text/html',\n",
       "    'language': None,\n",
       "    'base': 'https://lessurligneurs.eu/tag/europe/feed/',\n",
       "    'value': '<p>L’article <a href=\"https://lessurligneurs.eu/selon-thierry-mariani-depute-europeen-rn-lunion-europeenne-na-pas-de-competence-en-matiere-de-sante/\" rel=\"nofollow\">Selon Thierry Mariani (député européen RN), “l’Union Européenne n’a pas de compétence en matière de santé”</a> est apparu en premier sur <a href=\"https://lessurligneurs.eu\" rel=\"nofollow\">Les Surligneurs</a>.</p>'},\n",
       "   'wfw_commentrss': 'https://lessurligneurs.eu/selon-thierry-mariani-depute-europeen-rn-lunion-europeenne-na-pas-de-competence-en-matiere-de-sante/feed/',\n",
       "   'slash_comments': '1',\n",
       "   'post-id': '4845'}],\n",
       " 'feed': {'title': 'Europe – Les Surligneurs',\n",
       "  'title_detail': {'type': 'text/plain',\n",
       "   'language': None,\n",
       "   'base': 'https://lessurligneurs.eu/tag/europe/feed/',\n",
       "   'value': 'Europe – Les Surligneurs'},\n",
       "  'links': [{'href': 'https://lessurligneurs.eu/tag/europe/feed/',\n",
       "    'rel': 'self',\n",
       "    'type': 'application/rss+xml'},\n",
       "   {'rel': 'alternate',\n",
       "    'type': 'text/html',\n",
       "    'href': 'https://lessurligneurs.eu'}],\n",
       "  'link': 'https://lessurligneurs.eu',\n",
       "  'subtitle': 'Le collectif \"Les Surligneurs\" réunit universitaires et étudiants en droit afin de surligner et expliquer les propos publics. Par leurs articles, vidéos et émissions radio Les Surligneurs veulent permettre à chacun de mieux exercer sa fonction de citoyen, en ramenant le droit dans le débat public.',\n",
       "  'subtitle_detail': {'type': 'text/html',\n",
       "   'language': None,\n",
       "   'base': 'https://lessurligneurs.eu/tag/europe/feed/',\n",
       "   'value': 'Le collectif \"Les Surligneurs\" réunit universitaires et étudiants en droit afin de surligner et expliquer les propos publics. Par leurs articles, vidéos et émissions radio Les Surligneurs veulent permettre à chacun de mieux exercer sa fonction de citoyen, en ramenant le droit dans le débat public.'},\n",
       "  'updated': 'Thu, 28 Jan 2021 17:47:27 +0000',\n",
       "  'updated_parsed': time.struct_time(tm_year=2021, tm_mon=1, tm_mday=28, tm_hour=17, tm_min=47, tm_sec=27, tm_wday=3, tm_yday=28, tm_isdst=0),\n",
       "  'language': 'fr-FR',\n",
       "  'sy_updateperiod': 'hourly',\n",
       "  'sy_updatefrequency': '1',\n",
       "  'generator_detail': {'name': 'https://wordpress.org/?v=5.4.4'},\n",
       "  'generator': 'https://wordpress.org/?v=5.4.4',\n",
       "  'site': '173821533'},\n",
       " 'headers': {'date': 'Sun, 14 Feb 2021 16:11:37 GMT',\n",
       "  'content-type': 'application/rss+xml; charset=UTF-8',\n",
       "  'last-modified': 'Sun, 14 Feb 2021 09:48:34 GMT',\n",
       "  'link': '<https://lessurligneurs.eu/wp-json/>; rel=\"https://api.w.org/\"',\n",
       "  'x-request-id': '274925350',\n",
       "  'etag': 'W/\"cf25209c177ed3a5b3bf5d3145348f29\"',\n",
       "  'content-encoding': 'gzip',\n",
       "  'vary': 'Accept-Encoding',\n",
       "  'x-cdn-pop': 'rbx1',\n",
       "  'x-cdn-pop-ip': '51.254.41.128/26',\n",
       "  'x-cacheable': 'Cacheable',\n",
       "  'accept-ranges': 'bytes',\n",
       "  'connection': 'close',\n",
       "  'transfer-encoding': 'chunked'},\n",
       " 'etag': 'W/\"cf25209c177ed3a5b3bf5d3145348f29\"',\n",
       " 'updated': 'Sun, 14 Feb 2021 09:48:34 GMT',\n",
       " 'updated_parsed': time.struct_time(tm_year=2021, tm_mon=2, tm_mday=14, tm_hour=9, tm_min=48, tm_sec=34, tm_wday=6, tm_yday=45, tm_isdst=0),\n",
       " 'href': 'https://lessurligneurs.eu/tag/europe/feed/',\n",
       " 'status': 200,\n",
       " 'encoding': 'UTF-8',\n",
       " 'version': 'rss20',\n",
       " 'namespaces': {'content': 'http://purl.org/rss/1.0/modules/content/',\n",
       "  'wfw': 'http://wellformedweb.org/CommentAPI/',\n",
       "  'dc': 'http://purl.org/dc/elements/1.1/',\n",
       "  '': 'com-wordpress:feed-additions:1',\n",
       "  'sy': 'http://purl.org/rss/1.0/modules/syndication/',\n",
       "  'slash': 'http://purl.org/rss/1.0/modules/slash/',\n",
       "  'georss': 'http://www.georss.org/georss',\n",
       "  'geo': 'http://www.w3.org/2003/01/geo/wgs84_pos#'}}"
      ]
     },
     "execution_count": 131,
     "metadata": {},
     "output_type": "execute_result"
    }
   ],
   "source": [
    "f"
   ]
  },
  {
   "cell_type": "code",
   "execution_count": 17,
   "metadata": {},
   "outputs": [],
   "source": [
    "corpus = ['un jour ici et la', 'demain mais pas ici', 'la la la lere']"
   ]
  },
  {
   "cell_type": "code",
   "execution_count": null,
   "metadata": {},
   "outputs": [],
   "source": []
  },
  {
   "cell_type": "code",
   "execution_count": 19,
   "metadata": {},
   "outputs": [
    {
     "data": {
      "text/plain": [
       "CountVectorizer()"
      ]
     },
     "execution_count": 19,
     "metadata": {},
     "output_type": "execute_result"
    }
   ],
   "source": [
    "vectorizer.fit(corpus)\n"
   ]
  },
  {
   "cell_type": "code",
   "execution_count": 20,
   "metadata": {},
   "outputs": [
    {
     "data": {
      "text/plain": [
       "<3x9 sparse matrix of type '<class 'numpy.int64'>'\n",
       "\twith 11 stored elements in Compressed Sparse Row format>"
      ]
     },
     "execution_count": 20,
     "metadata": {},
     "output_type": "execute_result"
    }
   ],
   "source": [
    "bow = vectorizer.transform(corpus)\n",
    "bow"
   ]
  },
  {
   "cell_type": "code",
   "execution_count": 21,
   "metadata": {},
   "outputs": [
    {
     "data": {
      "text/plain": [
       "['demain', 'et', 'ici', 'jour', 'la', 'lere', 'mais', 'pas', 'un']"
      ]
     },
     "execution_count": 21,
     "metadata": {},
     "output_type": "execute_result"
    }
   ],
   "source": [
    "vectorizer.get_feature_names()"
   ]
  },
  {
   "cell_type": "code",
   "execution_count": 22,
   "metadata": {},
   "outputs": [
    {
     "name": "stdout",
     "output_type": "stream",
     "text": [
      "[[0 1 1 1 1 0 0 0 1]\n",
      " [1 0 1 0 0 0 1 1 0]\n",
      " [0 0 0 0 3 1 0 0 0]]\n"
     ]
    }
   ],
   "source": [
    "print(bow.toarray())"
   ]
  },
  {
   "cell_type": "code",
   "execution_count": 23,
   "metadata": {},
   "outputs": [],
   "source": [
    "import pandas as pd"
   ]
  },
  {
   "cell_type": "code",
   "execution_count": 24,
   "metadata": {},
   "outputs": [
    {
     "data": {
      "text/html": [
       "<div>\n",
       "<style scoped>\n",
       "    .dataframe tbody tr th:only-of-type {\n",
       "        vertical-align: middle;\n",
       "    }\n",
       "\n",
       "    .dataframe tbody tr th {\n",
       "        vertical-align: top;\n",
       "    }\n",
       "\n",
       "    .dataframe thead th {\n",
       "        text-align: right;\n",
       "    }\n",
       "</style>\n",
       "<table border=\"1\" class=\"dataframe\">\n",
       "  <thead>\n",
       "    <tr style=\"text-align: right;\">\n",
       "      <th></th>\n",
       "      <th>demain</th>\n",
       "      <th>et</th>\n",
       "      <th>ici</th>\n",
       "      <th>jour</th>\n",
       "      <th>la</th>\n",
       "      <th>lere</th>\n",
       "      <th>mais</th>\n",
       "      <th>pas</th>\n",
       "      <th>un</th>\n",
       "    </tr>\n",
       "  </thead>\n",
       "  <tbody>\n",
       "    <tr>\n",
       "      <th>0</th>\n",
       "      <td>0</td>\n",
       "      <td>1</td>\n",
       "      <td>1</td>\n",
       "      <td>1</td>\n",
       "      <td>1</td>\n",
       "      <td>0</td>\n",
       "      <td>0</td>\n",
       "      <td>0</td>\n",
       "      <td>1</td>\n",
       "    </tr>\n",
       "    <tr>\n",
       "      <th>1</th>\n",
       "      <td>1</td>\n",
       "      <td>0</td>\n",
       "      <td>1</td>\n",
       "      <td>0</td>\n",
       "      <td>0</td>\n",
       "      <td>0</td>\n",
       "      <td>1</td>\n",
       "      <td>1</td>\n",
       "      <td>0</td>\n",
       "    </tr>\n",
       "    <tr>\n",
       "      <th>2</th>\n",
       "      <td>0</td>\n",
       "      <td>0</td>\n",
       "      <td>0</td>\n",
       "      <td>0</td>\n",
       "      <td>3</td>\n",
       "      <td>1</td>\n",
       "      <td>0</td>\n",
       "      <td>0</td>\n",
       "      <td>0</td>\n",
       "    </tr>\n",
       "  </tbody>\n",
       "</table>\n",
       "</div>"
      ],
      "text/plain": [
       "   demain  et  ici  jour  la  lere  mais  pas  un\n",
       "0       0   1    1     1   1     0     0    0   1\n",
       "1       1   0    1     0   0     0     1    1   0\n",
       "2       0   0    0     0   3     1     0    0   0"
      ]
     },
     "execution_count": 24,
     "metadata": {},
     "output_type": "execute_result"
    }
   ],
   "source": [
    "pd.DataFrame(bow.toarray(), columns = vectorizer.get_feature_names())"
   ]
  },
  {
   "cell_type": "code",
   "execution_count": 25,
   "metadata": {},
   "outputs": [],
   "source": [
    "from sklearn.feature_extraction.text import TfidfTransformer\n"
   ]
  },
  {
   "cell_type": "code",
   "execution_count": 26,
   "metadata": {},
   "outputs": [],
   "source": [
    "vectorizer = CountVectorizer()"
   ]
  },
  {
   "cell_type": "code",
   "execution_count": 27,
   "metadata": {},
   "outputs": [],
   "source": [
    "counts = vectorizer.fit_transform(corpus)"
   ]
  },
  {
   "cell_type": "code",
   "execution_count": 28,
   "metadata": {},
   "outputs": [
    {
     "data": {
      "text/plain": [
       "<3x9 sparse matrix of type '<class 'numpy.int64'>'\n",
       "\twith 11 stored elements in Compressed Sparse Row format>"
      ]
     },
     "execution_count": 28,
     "metadata": {},
     "output_type": "execute_result"
    }
   ],
   "source": [
    "counts\n"
   ]
  },
  {
   "cell_type": "code",
   "execution_count": 29,
   "metadata": {},
   "outputs": [],
   "source": [
    "transformer = TfidfTransformer()"
   ]
  },
  {
   "cell_type": "code",
   "execution_count": 30,
   "metadata": {},
   "outputs": [],
   "source": [
    "t= transformer.fit_transform(counts)"
   ]
  },
  {
   "cell_type": "code",
   "execution_count": 31,
   "metadata": {},
   "outputs": [
    {
     "data": {
      "text/html": [
       "<div>\n",
       "<style scoped>\n",
       "    .dataframe tbody tr th:only-of-type {\n",
       "        vertical-align: middle;\n",
       "    }\n",
       "\n",
       "    .dataframe tbody tr th {\n",
       "        vertical-align: top;\n",
       "    }\n",
       "\n",
       "    .dataframe thead th {\n",
       "        text-align: right;\n",
       "    }\n",
       "</style>\n",
       "<table border=\"1\" class=\"dataframe\">\n",
       "  <thead>\n",
       "    <tr style=\"text-align: right;\">\n",
       "      <th></th>\n",
       "      <th>demain</th>\n",
       "      <th>et</th>\n",
       "      <th>ici</th>\n",
       "      <th>jour</th>\n",
       "      <th>la</th>\n",
       "      <th>lere</th>\n",
       "      <th>mais</th>\n",
       "      <th>pas</th>\n",
       "      <th>un</th>\n",
       "    </tr>\n",
       "  </thead>\n",
       "  <tbody>\n",
       "    <tr>\n",
       "      <th>0</th>\n",
       "      <td>0.000000</td>\n",
       "      <td>0.490479</td>\n",
       "      <td>0.373022</td>\n",
       "      <td>0.490479</td>\n",
       "      <td>0.373022</td>\n",
       "      <td>0.000000</td>\n",
       "      <td>0.000000</td>\n",
       "      <td>0.000000</td>\n",
       "      <td>0.490479</td>\n",
       "    </tr>\n",
       "    <tr>\n",
       "      <th>1</th>\n",
       "      <td>0.528635</td>\n",
       "      <td>0.000000</td>\n",
       "      <td>0.402040</td>\n",
       "      <td>0.000000</td>\n",
       "      <td>0.000000</td>\n",
       "      <td>0.000000</td>\n",
       "      <td>0.528635</td>\n",
       "      <td>0.528635</td>\n",
       "      <td>0.000000</td>\n",
       "    </tr>\n",
       "    <tr>\n",
       "      <th>2</th>\n",
       "      <td>0.000000</td>\n",
       "      <td>0.000000</td>\n",
       "      <td>0.000000</td>\n",
       "      <td>0.000000</td>\n",
       "      <td>0.915890</td>\n",
       "      <td>0.401429</td>\n",
       "      <td>0.000000</td>\n",
       "      <td>0.000000</td>\n",
       "      <td>0.000000</td>\n",
       "    </tr>\n",
       "  </tbody>\n",
       "</table>\n",
       "</div>"
      ],
      "text/plain": [
       "     demain        et       ici      jour        la      lere      mais  \\\n",
       "0  0.000000  0.490479  0.373022  0.490479  0.373022  0.000000  0.000000   \n",
       "1  0.528635  0.000000  0.402040  0.000000  0.000000  0.000000  0.528635   \n",
       "2  0.000000  0.000000  0.000000  0.000000  0.915890  0.401429  0.000000   \n",
       "\n",
       "        pas        un  \n",
       "0  0.000000  0.490479  \n",
       "1  0.528635  0.000000  \n",
       "2  0.000000  0.000000  "
      ]
     },
     "execution_count": 31,
     "metadata": {},
     "output_type": "execute_result"
    }
   ],
   "source": [
    "pd.DataFrame(t.toarray(), columns = vectorizer.get_feature_names())"
   ]
  },
  {
   "cell_type": "code",
   "execution_count": 32,
   "metadata": {},
   "outputs": [
    {
     "data": {
      "text/html": [
       "<div>\n",
       "<style scoped>\n",
       "    .dataframe tbody tr th:only-of-type {\n",
       "        vertical-align: middle;\n",
       "    }\n",
       "\n",
       "    .dataframe tbody tr th {\n",
       "        vertical-align: top;\n",
       "    }\n",
       "\n",
       "    .dataframe thead th {\n",
       "        text-align: right;\n",
       "    }\n",
       "</style>\n",
       "<table border=\"1\" class=\"dataframe\">\n",
       "  <thead>\n",
       "    <tr style=\"text-align: right;\">\n",
       "      <th></th>\n",
       "      <th>0</th>\n",
       "    </tr>\n",
       "  </thead>\n",
       "  <tbody>\n",
       "    <tr>\n",
       "      <th>demain</th>\n",
       "      <td>1.693147</td>\n",
       "    </tr>\n",
       "    <tr>\n",
       "      <th>et</th>\n",
       "      <td>1.693147</td>\n",
       "    </tr>\n",
       "    <tr>\n",
       "      <th>ici</th>\n",
       "      <td>1.287682</td>\n",
       "    </tr>\n",
       "    <tr>\n",
       "      <th>jour</th>\n",
       "      <td>1.693147</td>\n",
       "    </tr>\n",
       "    <tr>\n",
       "      <th>la</th>\n",
       "      <td>1.287682</td>\n",
       "    </tr>\n",
       "    <tr>\n",
       "      <th>lere</th>\n",
       "      <td>1.693147</td>\n",
       "    </tr>\n",
       "    <tr>\n",
       "      <th>mais</th>\n",
       "      <td>1.693147</td>\n",
       "    </tr>\n",
       "    <tr>\n",
       "      <th>pas</th>\n",
       "      <td>1.693147</td>\n",
       "    </tr>\n",
       "    <tr>\n",
       "      <th>un</th>\n",
       "      <td>1.693147</td>\n",
       "    </tr>\n",
       "  </tbody>\n",
       "</table>\n",
       "</div>"
      ],
      "text/plain": [
       "               0\n",
       "demain  1.693147\n",
       "et      1.693147\n",
       "ici     1.287682\n",
       "jour    1.693147\n",
       "la      1.287682\n",
       "lere    1.693147\n",
       "mais    1.693147\n",
       "pas     1.693147\n",
       "un      1.693147"
      ]
     },
     "execution_count": 32,
     "metadata": {},
     "output_type": "execute_result"
    }
   ],
   "source": [
    "dic = dict(zip(vectorizer.get_feature_names(), transformer.idf_))\n",
    "pd.DataFrame.from_dict(dic, orient = 'index' )"
   ]
  },
  {
   "cell_type": "markdown",
   "metadata": {},
   "source": [
    "# Word embedding"
   ]
  },
  {
   "cell_type": "code",
   "execution_count": 33,
   "metadata": {},
   "outputs": [],
   "source": [
    "import gensim "
   ]
  },
  {
   "cell_type": "code",
   "execution_count": 34,
   "metadata": {},
   "outputs": [],
   "source": [
    "from gensim.models import Word2Vec"
   ]
  },
  {
   "cell_type": "code",
   "execution_count": 35,
   "metadata": {},
   "outputs": [],
   "source": [
    "senteces = [[\"cat\", \"say\", \"meow\"], [\"dog\", \"say\", \"woof\"]]"
   ]
  },
  {
   "cell_type": "code",
   "execution_count": 36,
   "metadata": {},
   "outputs": [],
   "source": [
    "model = Word2Vec(senteces, min_count = 1)"
   ]
  },
  {
   "cell_type": "code",
   "execution_count": 37,
   "metadata": {},
   "outputs": [
    {
     "name": "stderr",
     "output_type": "stream",
     "text": [
      "<ipython-input-37-5a0400bc72d4>:1: DeprecationWarning: Call to deprecated `__getitem__` (Method will be removed in 4.0.0, use self.wv.__getitem__() instead).\n",
      "  model['cat']\n"
     ]
    },
    {
     "data": {
      "text/plain": [
       "array([ 1.8583199e-03, -1.2254459e-03,  1.0737818e-03, -3.3591418e-03,\n",
       "       -1.2251452e-04, -8.1389780e-06,  7.9774333e-04,  2.3004417e-03,\n",
       "        3.7269401e-03, -1.7398535e-04,  3.7158267e-03,  3.9687809e-03,\n",
       "       -4.4385507e-03,  2.4430919e-03, -4.2998217e-04, -1.8934465e-03,\n",
       "       -3.8388958e-03, -2.5617806e-04,  2.7638718e-03, -3.3141559e-03,\n",
       "       -7.6831994e-04, -3.6443237e-03,  1.4072409e-03, -2.2637506e-04,\n",
       "        1.1597004e-03, -1.3777991e-03, -2.3089116e-03,  1.4992351e-04,\n",
       "       -4.2650285e-03, -3.3129649e-03,  8.4178668e-04,  2.1491530e-04,\n",
       "       -4.2579547e-03,  1.1581988e-03, -3.8360425e-03, -2.1280539e-03,\n",
       "       -3.6555415e-03, -3.5970388e-03,  4.0683290e-03, -9.0518978e-04,\n",
       "        1.9371402e-03,  2.8541903e-03,  4.1533951e-03,  7.2380836e-04,\n",
       "        1.4402561e-03, -4.5270505e-03, -3.1808482e-03, -1.9528379e-03,\n",
       "       -1.7143231e-03, -3.9309054e-03, -2.3246955e-03,  1.6368072e-03,\n",
       "       -3.1408712e-03, -4.1803964e-03,  3.6973089e-03, -5.1952718e-04,\n",
       "        2.5971013e-03,  2.4501323e-03, -4.1691586e-03, -3.2019580e-03,\n",
       "       -3.2707530e-03,  2.5288733e-03, -1.9660012e-03, -4.6583465e-03,\n",
       "       -1.8115062e-03,  2.7018564e-03, -4.1914070e-03, -2.0868895e-03,\n",
       "        4.6876119e-03,  2.0192447e-04, -3.3447966e-03, -8.3625223e-04,\n",
       "       -2.0450628e-03,  1.9895793e-03,  3.7514027e-03,  2.6019148e-03,\n",
       "       -2.6778278e-03,  2.7225919e-03,  2.0143420e-03, -8.1366050e-04,\n",
       "        3.5625865e-04,  5.8229757e-04, -1.4608873e-03,  1.4349256e-03,\n",
       "        4.1145263e-03,  1.0587227e-03, -4.9323868e-03, -4.7345590e-03,\n",
       "        6.4990728e-04, -2.1738585e-03,  1.1927858e-03, -2.5837244e-03,\n",
       "       -2.5756559e-03,  3.5615724e-03, -7.5782056e-04, -1.4116351e-03,\n",
       "        3.3151074e-03, -2.9000212e-03, -8.6145377e-04, -4.4912170e-03],\n",
       "      dtype=float32)"
      ]
     },
     "execution_count": 37,
     "metadata": {},
     "output_type": "execute_result"
    }
   ],
   "source": [
    "model['cat']"
   ]
  },
  {
   "cell_type": "code",
   "execution_count": 38,
   "metadata": {},
   "outputs": [
    {
     "name": "stderr",
     "output_type": "stream",
     "text": [
      "<ipython-input-38-2cfcf8d0bc8c>:1: DeprecationWarning: Call to deprecated `most_similar` (Method will be removed in 4.0.0, use self.wv.most_similar() instead).\n",
      "  model.most_similar(\"cat\")\n"
     ]
    },
    {
     "data": {
      "text/plain": [
       "[('meow', 0.2516365647315979),\n",
       " ('say', 0.19602951407432556),\n",
       " ('woof', 0.10126127302646637),\n",
       " ('dog', 0.003978310152888298)]"
      ]
     },
     "execution_count": 38,
     "metadata": {},
     "output_type": "execute_result"
    }
   ],
   "source": [
    "model.most_similar(\"cat\")"
   ]
  },
  {
   "cell_type": "code",
   "execution_count": 39,
   "metadata": {},
   "outputs": [
    {
     "name": "stderr",
     "output_type": "stream",
     "text": [
      "<ipython-input-39-9be8a1514bb7>:1: DeprecationWarning: Call to deprecated `most_similar` (Method will be removed in 4.0.0, use self.wv.most_similar() instead).\n",
      "  model.most_similar(positive=['cat'], negative= ['dog'])\n"
     ]
    },
    {
     "data": {
      "text/plain": [
       "[('meow', 0.18738606572151184),\n",
       " ('woof', 0.16422852873802185),\n",
       " ('say', 0.04688487946987152)]"
      ]
     },
     "execution_count": 39,
     "metadata": {},
     "output_type": "execute_result"
    }
   ],
   "source": [
    "model.most_similar(positive=['cat'], negative= ['dog'])"
   ]
  },
  {
   "cell_type": "code",
   "execution_count": 40,
   "metadata": {},
   "outputs": [
    {
     "data": {
      "text/plain": [
       "'verb, 3rd person singular present'"
      ]
     },
     "execution_count": 40,
     "metadata": {},
     "output_type": "execute_result"
    }
   ],
   "source": [
    "spacy.explain(\"VBZ\")"
   ]
  },
  {
   "cell_type": "code",
   "execution_count": 41,
   "metadata": {},
   "outputs": [
    {
     "data": {
      "text/plain": [
       "[(John, 'John', 'PROPN', 'NNP', 'nsubj'),\n",
       " (works, 'work', 'VERB', 'VBZ', 'ROOT'),\n",
       " (at, 'at', 'ADP', 'IN', 'prep'),\n",
       " (Google, 'Google', 'PROPN', 'NNP', 'pobj'),\n",
       " (in, 'in', 'ADP', 'IN', 'prep'),\n",
       " (London, 'London', 'PROPN', 'NNP', 'pobj'),\n",
       " (which, 'which', 'DET', 'WDT', 'nsubj'),\n",
       " (is, 'be', 'AUX', 'VBZ', 'relcl'),\n",
       " (big, 'big', 'ADJ', 'JJ', 'amod'),\n",
       " (city, 'city', 'NOUN', 'NN', 'attr'),\n",
       " (in, 'in', 'ADP', 'IN', 'prep'),\n",
       " (the, 'the', 'DET', 'DT', 'det'),\n",
       " (United, 'United', 'PROPN', 'NNP', 'compound'),\n",
       " (kingdom, 'kingdom', 'NOUN', 'NN', 'pobj'),\n",
       " (., '.', 'PUNCT', '.', 'punct')]"
      ]
     },
     "execution_count": 41,
     "metadata": {},
     "output_type": "execute_result"
    }
   ],
   "source": [
    "[(t, t.lemma_, t.pos_, t.tag_, t.dep_) for t in doc]"
   ]
  },
  {
   "cell_type": "code",
   "execution_count": 42,
   "metadata": {},
   "outputs": [
    {
     "name": "stdout",
     "output_type": "stream",
     "text": [
      "0 Apple Apple PROPN PROPN ROOT Xxxxx True False False\n",
      "1 is is PROPN PROPN det xx True False False\n",
      "2 looking looking VERB VERB__Mood=Ind|Number=Sing|Person=3|Tense=Fut|VerbForm=Fin nmod xxxx True False False\n",
      "3 at at X X dep xx True False False\n",
      "4 buying buying NOUN NOUN__Gender=Masc|Number=Sing nmod xxxx True False False\n",
      "5 U.K. u.k. ADJ ADJ__Number=Plur ROOT X.X. False False False\n",
      "6 startup startup VERB VERB__VerbForm=Inf acl xxxx True False False\n",
      "7 for for ADP ADP case xxx True False False\n",
      "8 $ dollar NOUN NOUN__Gender=Masc obl:mod $ False False False\n",
      "9 1 1 NUM NUM__NumType=Card nummod d False False False\n",
      "10 billion billion NOUN NOUN__Gender=Fem|Number=Sing nmod xxxx True False False\n",
      "11 . . PUNCT PUNCT punct . False False False\n"
     ]
    }
   ],
   "source": [
    "doc = nlp(\"Apple is looking at buying U.K. startup for $1 billion .\")\n",
    "\n",
    "# Composants du texte, accessibles en terminant leur attribut par '_' : \n",
    "for token in doc:\n",
    "    print(token.i, token.text, token.lemma_, token.pos_, token.tag_, token.dep_,\n",
    "            token.shape_, token.is_alpha, token.is_stop, token.like_url)"
   ]
  },
  {
   "cell_type": "code",
   "execution_count": null,
   "metadata": {},
   "outputs": [],
   "source": []
  },
  {
   "cell_type": "code",
   "execution_count": null,
   "metadata": {},
   "outputs": [],
   "source": []
  }
 ],
 "metadata": {
  "kernelspec": {
   "display_name": "Python 3",
   "language": "python",
   "name": "python3"
  },
  "language_info": {
   "codemirror_mode": {
    "name": "ipython",
    "version": 3
   },
   "file_extension": ".py",
   "mimetype": "text/x-python",
   "name": "python",
   "nbconvert_exporter": "python",
   "pygments_lexer": "ipython3",
   "version": "3.8.2"
  },
  "widgets": {
   "application/vnd.jupyter.widget-state+json": {
    "state": {},
    "version_major": 2,
    "version_minor": 0
   }
  }
 },
 "nbformat": 4,
 "nbformat_minor": 4
}
